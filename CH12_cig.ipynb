{
  "nbformat": 4,
  "nbformat_minor": 0,
  "metadata": {
    "colab": {
      "name": "CH12_cig.ipynb",
      "provenance": [],
      "authorship_tag": "ABX9TyNe7X+09BpeTnqWGOoJs6r0",
      "include_colab_link": true
    },
    "kernelspec": {
      "name": "python3",
      "display_name": "Python 3"
    },
    "language_info": {
      "name": "python"
    }
  },
  "cells": [
    {
      "cell_type": "markdown",
      "metadata": {
        "id": "view-in-github",
        "colab_type": "text"
      },
      "source": [
        "<a href=\"https://colab.research.google.com/github/p09323028/2021s_NTU_Econometrics_II/blob/main/CH12_cig.ipynb\" target=\"_parent\"><img src=\"https://colab.research.google.com/assets/colab-badge.svg\" alt=\"Open In Colab\"/></a>"
      ]
    },
    {
      "cell_type": "markdown",
      "metadata": {
        "id": "IMN3FS2zAqLu"
      },
      "source": [
        "# **Chapter 12: Instrumental Variables Regression**\n",
        "前置作業:\n",
        "- import 套件\n",
        "- 載入資料\n",
        "- 讀取資料\n",
        "- 資料處理(設置變數)"
      ]
    },
    {
      "cell_type": "code",
      "metadata": {
        "id": "NrKzmc1sq3zf"
      },
      "source": [
        "!pip install linearmodels"
      ],
      "execution_count": null,
      "outputs": []
    },
    {
      "cell_type": "code",
      "metadata": {
        "id": "sPRmX24DpiQy"
      },
      "source": [
        "import pandas as pd\n",
        "import numpy as np\n",
        "import linearmodels.iv as iv\n",
        "import statsmodels.formula.api as smf"
      ],
      "execution_count": null,
      "outputs": []
    },
    {
      "cell_type": "code",
      "metadata": {
        "colab": {
          "base_uri": "https://localhost:8080/"
        },
        "id": "FebhDCDepOLs",
        "outputId": "7698cf92-63cc-446b-fe43-6ff93d482324"
      },
      "source": [
        "!gdown --id '1KQX9QBPIIn0XPXKoHpVBgTMlXG9iV_o0' --output cigarette.xlsx\n",
        "!ls"
      ],
      "execution_count": null,
      "outputs": [
        {
          "output_type": "stream",
          "text": [
            "Downloading...\n",
            "From: https://drive.google.com/uc?id=1KQX9QBPIIn0XPXKoHpVBgTMlXG9iV_o0\n",
            "To: /content/cigarette.xlsx\n",
            "\r  0% 0.00/12.6k [00:00<?, ?B/s]\r100% 12.6k/12.6k [00:00<00:00, 8.94MB/s]\n",
            "cigarette.xlsx\tsample_data\n"
          ],
          "name": "stdout"
        }
      ]
    },
    {
      "cell_type": "code",
      "metadata": {
        "id": "_jVyMLChqAYV"
      },
      "source": [
        "cig = pd.read_excel('cigarette.xlsx')"
      ],
      "execution_count": null,
      "outputs": []
    },
    {
      "cell_type": "code",
      "metadata": {
        "colab": {
          "base_uri": "https://localhost:8080/",
          "height": 202
        },
        "id": "k_b_GQHnrlFp",
        "outputId": "2cbf89f3-c69d-4523-a534-0dff1c4819cf"
      },
      "source": [
        "cig = cig.sort_values(['state', 'year'])\n",
        "cig.head()"
      ],
      "execution_count": null,
      "outputs": [
        {
          "output_type": "execute_result",
          "data": {
            "text/html": [
              "<div>\n",
              "<style scoped>\n",
              "    .dataframe tbody tr th:only-of-type {\n",
              "        vertical-align: middle;\n",
              "    }\n",
              "\n",
              "    .dataframe tbody tr th {\n",
              "        vertical-align: top;\n",
              "    }\n",
              "\n",
              "    .dataframe thead th {\n",
              "        text-align: right;\n",
              "    }\n",
              "</style>\n",
              "<table border=\"1\" class=\"dataframe\">\n",
              "  <thead>\n",
              "    <tr style=\"text-align: right;\">\n",
              "      <th></th>\n",
              "      <th>state</th>\n",
              "      <th>year</th>\n",
              "      <th>cpi</th>\n",
              "      <th>pop</th>\n",
              "      <th>packpc</th>\n",
              "      <th>income</th>\n",
              "      <th>tax</th>\n",
              "      <th>avgprs</th>\n",
              "      <th>taxs</th>\n",
              "    </tr>\n",
              "  </thead>\n",
              "  <tbody>\n",
              "    <tr>\n",
              "      <th>0</th>\n",
              "      <td>AL</td>\n",
              "      <td>1985</td>\n",
              "      <td>1.076</td>\n",
              "      <td>3973000</td>\n",
              "      <td>116.486282</td>\n",
              "      <td>46014968</td>\n",
              "      <td>32.500004</td>\n",
              "      <td>102.181671</td>\n",
              "      <td>33.348335</td>\n",
              "    </tr>\n",
              "    <tr>\n",
              "      <th>1</th>\n",
              "      <td>AR</td>\n",
              "      <td>1985</td>\n",
              "      <td>1.076</td>\n",
              "      <td>2327000</td>\n",
              "      <td>128.534592</td>\n",
              "      <td>26210736</td>\n",
              "      <td>37.000000</td>\n",
              "      <td>101.474998</td>\n",
              "      <td>37.000000</td>\n",
              "    </tr>\n",
              "    <tr>\n",
              "      <th>2</th>\n",
              "      <td>AZ</td>\n",
              "      <td>1985</td>\n",
              "      <td>1.076</td>\n",
              "      <td>3184000</td>\n",
              "      <td>104.522614</td>\n",
              "      <td>43956936</td>\n",
              "      <td>31.000000</td>\n",
              "      <td>108.578751</td>\n",
              "      <td>36.170418</td>\n",
              "    </tr>\n",
              "    <tr>\n",
              "      <th>3</th>\n",
              "      <td>CA</td>\n",
              "      <td>1985</td>\n",
              "      <td>1.076</td>\n",
              "      <td>26444000</td>\n",
              "      <td>100.363037</td>\n",
              "      <td>447102816</td>\n",
              "      <td>26.000000</td>\n",
              "      <td>107.837341</td>\n",
              "      <td>32.104000</td>\n",
              "    </tr>\n",
              "    <tr>\n",
              "      <th>4</th>\n",
              "      <td>CO</td>\n",
              "      <td>1985</td>\n",
              "      <td>1.076</td>\n",
              "      <td>3209000</td>\n",
              "      <td>112.963539</td>\n",
              "      <td>49466672</td>\n",
              "      <td>31.000000</td>\n",
              "      <td>94.266663</td>\n",
              "      <td>31.000000</td>\n",
              "    </tr>\n",
              "  </tbody>\n",
              "</table>\n",
              "</div>"
            ],
            "text/plain": [
              "  state  year    cpi       pop  ...     income        tax      avgprs       taxs\n",
              "0    AL  1985  1.076   3973000  ...   46014968  32.500004  102.181671  33.348335\n",
              "1    AR  1985  1.076   2327000  ...   26210736  37.000000  101.474998  37.000000\n",
              "2    AZ  1985  1.076   3184000  ...   43956936  31.000000  108.578751  36.170418\n",
              "3    CA  1985  1.076  26444000  ...  447102816  26.000000  107.837341  32.104000\n",
              "4    CO  1985  1.076   3209000  ...   49466672  31.000000   94.266663  31.000000\n",
              "\n",
              "[5 rows x 9 columns]"
            ]
          },
          "metadata": {
            "tags": []
          },
          "execution_count": 30
        }
      ]
    },
    {
      "cell_type": "code",
      "metadata": {
        "colab": {
          "base_uri": "https://localhost:8080/"
        },
        "id": "OJwgLtLPrmm3",
        "outputId": "a14447f1-4cab-4075-8980-600206d07e23"
      },
      "source": [
        "cig.columns"
      ],
      "execution_count": null,
      "outputs": [
        {
          "output_type": "execute_result",
          "data": {
            "text/plain": [
              "Index(['state', 'year', 'cpi', 'pop', 'packpc', 'income', 'tax', 'avgprs',\n",
              "       'taxs'],\n",
              "      dtype='object')"
            ]
          },
          "metadata": {
            "tags": []
          },
          "execution_count": 31
        }
      ]
    },
    {
      "cell_type": "code",
      "metadata": {
        "id": "N4i4GoPbtVUA"
      },
      "source": [
        "# real average price during fiscal year, including sales taxes\n",
        "cig['ravgprs'] = cig['avgprs'] / cig['cpi']\n",
        "\n",
        "# real average Cig specifice tax during fiscal year\n",
        "cig['rtax'] = cig['tax'] / cig['cpi']\n",
        "\n",
        "# real average total tax during fiscal year,including sales taxes\n",
        "cig['rtaxs'] = cig['taxs'] / cig['cpi']\n",
        "\n",
        "# real average sales tax per pack during fiscal year\n",
        "cig['rtaxso'] = cig['rtaxs'] - cig['rtax']\n",
        "\n",
        "cig['lpackpc'] = np.log(cig['packpc'])\n",
        "\n",
        "cig['lravgprs'] = np.log(cig['ravgprs'])"
      ],
      "execution_count": null,
      "outputs": []
    },
    {
      "cell_type": "code",
      "metadata": {
        "id": "dzqESpentz-v"
      },
      "source": [
        "cig['perinc'] = cig['income'] / (cig['pop'] * cig['cpi'])\n",
        "\n",
        "cig['lperinc'] = np.log(cig['perinc'])\n",
        "\n",
        "state_dummy = pd.get_dummies(cig['state'])\n",
        "\n",
        "cig = pd.concat([cig, state_dummy], axis=1)"
      ],
      "execution_count": null,
      "outputs": []
    },
    {
      "cell_type": "code",
      "metadata": {
        "colab": {
          "base_uri": "https://localhost:8080/"
        },
        "id": "0KO8aXeBwqUh",
        "outputId": "247b2784-c0c5-406e-aa34-f8c7c46ae06f"
      },
      "source": [
        "cig.columns"
      ],
      "execution_count": null,
      "outputs": [
        {
          "output_type": "execute_result",
          "data": {
            "text/plain": [
              "Index(['state', 'year', 'cpi', 'pop', 'packpc', 'income', 'tax', 'avgprs',\n",
              "       'taxs', 'ravgprs', 'rtax', 'rtaxs', 'rtaxso', 'lpackpc', 'lravgprs',\n",
              "       'perinc', 'lperinc', 'AL', 'AR', 'AZ', 'CA', 'CO', 'CT', 'DE', 'FL',\n",
              "       'GA', 'IA', 'ID', 'IL', 'IN', 'KS', 'KY', 'LA', 'MA', 'MD', 'ME', 'MI',\n",
              "       'MN', 'MO', 'MS', 'MT', 'NC', 'ND', 'NE', 'NH', 'NJ', 'NM', 'NV', 'NY',\n",
              "       'OH', 'OK', 'OR', 'PA', 'RI', 'SC', 'SD', 'TN', 'TX', 'UT', 'VA', 'VT',\n",
              "       'WA', 'WI', 'WV', 'WY'],\n",
              "      dtype='object')"
            ]
          },
          "metadata": {
            "tags": []
          },
          "execution_count": 35
        }
      ]
    },
    {
      "cell_type": "code",
      "metadata": {
        "id": "A-1CLeAWzuGD"
      },
      "source": [
        "cig['ltpackpc'] = np.log(cig['packpc'] / cig['packpc'].shift(1))\n",
        "cig['ltavgprs'] = np.log(cig['ravgprs'] / cig['ravgprs'].shift(1))\n",
        "cig['ltperinc'] = np.log(cig['perinc'] / cig['perinc'].shift(1))\n",
        "cig['dtrtaxs'] = cig['rtaxs'] - cig['rtaxs'].shift(1)\n",
        "cig['dtrtax'] = cig['rtax'] - cig['rtax'].shift(1)\n",
        "cig['dtrtaxso'] = cig['rtaxso'] - cig['rtaxso'].shift(1)"
      ],
      "execution_count": null,
      "outputs": []
    },
    {
      "cell_type": "code",
      "metadata": {
        "id": "FXgGo7sQwynH"
      },
      "source": [
        "cig_1995 = cig[cig['year'] == 1995]"
      ],
      "execution_count": null,
      "outputs": []
    },
    {
      "cell_type": "code",
      "metadata": {
        "colab": {
          "base_uri": "https://localhost:8080/",
          "height": 222
        },
        "id": "eSfVmLWyyGHl",
        "outputId": "e5e4cbba-2d09-4bbd-c619-96d26ad8d218"
      },
      "source": [
        "cig_1995.head()"
      ],
      "execution_count": null,
      "outputs": [
        {
          "output_type": "execute_result",
          "data": {
            "text/html": [
              "<div>\n",
              "<style scoped>\n",
              "    .dataframe tbody tr th:only-of-type {\n",
              "        vertical-align: middle;\n",
              "    }\n",
              "\n",
              "    .dataframe tbody tr th {\n",
              "        vertical-align: top;\n",
              "    }\n",
              "\n",
              "    .dataframe thead th {\n",
              "        text-align: right;\n",
              "    }\n",
              "</style>\n",
              "<table border=\"1\" class=\"dataframe\">\n",
              "  <thead>\n",
              "    <tr style=\"text-align: right;\">\n",
              "      <th></th>\n",
              "      <th>state</th>\n",
              "      <th>year</th>\n",
              "      <th>cpi</th>\n",
              "      <th>pop</th>\n",
              "      <th>packpc</th>\n",
              "      <th>income</th>\n",
              "      <th>tax</th>\n",
              "      <th>avgprs</th>\n",
              "      <th>taxs</th>\n",
              "      <th>ravgprs</th>\n",
              "      <th>rtax</th>\n",
              "      <th>rtaxs</th>\n",
              "      <th>rtaxso</th>\n",
              "      <th>lpackpc</th>\n",
              "      <th>lravgprs</th>\n",
              "      <th>perinc</th>\n",
              "      <th>lperinc</th>\n",
              "      <th>AL</th>\n",
              "      <th>AR</th>\n",
              "      <th>AZ</th>\n",
              "      <th>CA</th>\n",
              "      <th>CO</th>\n",
              "      <th>CT</th>\n",
              "      <th>DE</th>\n",
              "      <th>FL</th>\n",
              "      <th>GA</th>\n",
              "      <th>IA</th>\n",
              "      <th>ID</th>\n",
              "      <th>IL</th>\n",
              "      <th>IN</th>\n",
              "      <th>KS</th>\n",
              "      <th>KY</th>\n",
              "      <th>LA</th>\n",
              "      <th>MA</th>\n",
              "      <th>MD</th>\n",
              "      <th>ME</th>\n",
              "      <th>MI</th>\n",
              "      <th>MN</th>\n",
              "      <th>MO</th>\n",
              "      <th>MS</th>\n",
              "      <th>MT</th>\n",
              "      <th>NC</th>\n",
              "      <th>ND</th>\n",
              "      <th>NE</th>\n",
              "      <th>NH</th>\n",
              "      <th>NJ</th>\n",
              "      <th>NM</th>\n",
              "      <th>NV</th>\n",
              "      <th>NY</th>\n",
              "      <th>OH</th>\n",
              "      <th>OK</th>\n",
              "      <th>OR</th>\n",
              "      <th>PA</th>\n",
              "      <th>RI</th>\n",
              "      <th>SC</th>\n",
              "      <th>SD</th>\n",
              "      <th>TN</th>\n",
              "      <th>TX</th>\n",
              "      <th>UT</th>\n",
              "      <th>VA</th>\n",
              "      <th>VT</th>\n",
              "      <th>WA</th>\n",
              "      <th>WI</th>\n",
              "      <th>WV</th>\n",
              "      <th>WY</th>\n",
              "      <th>ltpackpc</th>\n",
              "      <th>ltavgprs</th>\n",
              "      <th>ltperinc</th>\n",
              "      <th>dtrtaxs</th>\n",
              "      <th>dtrtax</th>\n",
              "      <th>dtrtaxso</th>\n",
              "    </tr>\n",
              "  </thead>\n",
              "  <tbody>\n",
              "    <tr>\n",
              "      <th>48</th>\n",
              "      <td>AL</td>\n",
              "      <td>1995</td>\n",
              "      <td>1.524</td>\n",
              "      <td>4262731</td>\n",
              "      <td>101.085434</td>\n",
              "      <td>83903280</td>\n",
              "      <td>40.500004</td>\n",
              "      <td>158.371338</td>\n",
              "      <td>41.904671</td>\n",
              "      <td>103.918206</td>\n",
              "      <td>26.574807</td>\n",
              "      <td>27.496504</td>\n",
              "      <td>0.921697</td>\n",
              "      <td>4.615966</td>\n",
              "      <td>4.643604</td>\n",
              "      <td>12.915347</td>\n",
              "      <td>2.558416</td>\n",
              "      <td>1</td>\n",
              "      <td>0</td>\n",
              "      <td>0</td>\n",
              "      <td>0</td>\n",
              "      <td>0</td>\n",
              "      <td>0</td>\n",
              "      <td>0</td>\n",
              "      <td>0</td>\n",
              "      <td>0</td>\n",
              "      <td>0</td>\n",
              "      <td>0</td>\n",
              "      <td>0</td>\n",
              "      <td>0</td>\n",
              "      <td>0</td>\n",
              "      <td>0</td>\n",
              "      <td>0</td>\n",
              "      <td>0</td>\n",
              "      <td>0</td>\n",
              "      <td>0</td>\n",
              "      <td>0</td>\n",
              "      <td>0</td>\n",
              "      <td>0</td>\n",
              "      <td>0</td>\n",
              "      <td>0</td>\n",
              "      <td>0</td>\n",
              "      <td>0</td>\n",
              "      <td>0</td>\n",
              "      <td>0</td>\n",
              "      <td>0</td>\n",
              "      <td>0</td>\n",
              "      <td>0</td>\n",
              "      <td>0</td>\n",
              "      <td>0</td>\n",
              "      <td>0</td>\n",
              "      <td>0</td>\n",
              "      <td>0</td>\n",
              "      <td>0</td>\n",
              "      <td>0</td>\n",
              "      <td>0</td>\n",
              "      <td>0</td>\n",
              "      <td>0</td>\n",
              "      <td>0</td>\n",
              "      <td>0</td>\n",
              "      <td>0</td>\n",
              "      <td>0</td>\n",
              "      <td>0</td>\n",
              "      <td>0</td>\n",
              "      <td>0</td>\n",
              "      <td>-0.141807</td>\n",
              "      <td>0.090102</td>\n",
              "      <td>0.182221</td>\n",
              "      <td>-3.496373</td>\n",
              "      <td>-3.629658</td>\n",
              "      <td>0.133285</td>\n",
              "    </tr>\n",
              "    <tr>\n",
              "      <th>49</th>\n",
              "      <td>AR</td>\n",
              "      <td>1995</td>\n",
              "      <td>1.524</td>\n",
              "      <td>2480121</td>\n",
              "      <td>111.042969</td>\n",
              "      <td>45995496</td>\n",
              "      <td>55.500000</td>\n",
              "      <td>175.542511</td>\n",
              "      <td>63.859169</td>\n",
              "      <td>115.185380</td>\n",
              "      <td>36.417325</td>\n",
              "      <td>41.902344</td>\n",
              "      <td>5.485019</td>\n",
              "      <td>4.709917</td>\n",
              "      <td>4.746543</td>\n",
              "      <td>12.169073</td>\n",
              "      <td>2.498898</td>\n",
              "      <td>0</td>\n",
              "      <td>1</td>\n",
              "      <td>0</td>\n",
              "      <td>0</td>\n",
              "      <td>0</td>\n",
              "      <td>0</td>\n",
              "      <td>0</td>\n",
              "      <td>0</td>\n",
              "      <td>0</td>\n",
              "      <td>0</td>\n",
              "      <td>0</td>\n",
              "      <td>0</td>\n",
              "      <td>0</td>\n",
              "      <td>0</td>\n",
              "      <td>0</td>\n",
              "      <td>0</td>\n",
              "      <td>0</td>\n",
              "      <td>0</td>\n",
              "      <td>0</td>\n",
              "      <td>0</td>\n",
              "      <td>0</td>\n",
              "      <td>0</td>\n",
              "      <td>0</td>\n",
              "      <td>0</td>\n",
              "      <td>0</td>\n",
              "      <td>0</td>\n",
              "      <td>0</td>\n",
              "      <td>0</td>\n",
              "      <td>0</td>\n",
              "      <td>0</td>\n",
              "      <td>0</td>\n",
              "      <td>0</td>\n",
              "      <td>0</td>\n",
              "      <td>0</td>\n",
              "      <td>0</td>\n",
              "      <td>0</td>\n",
              "      <td>0</td>\n",
              "      <td>0</td>\n",
              "      <td>0</td>\n",
              "      <td>0</td>\n",
              "      <td>0</td>\n",
              "      <td>0</td>\n",
              "      <td>0</td>\n",
              "      <td>0</td>\n",
              "      <td>0</td>\n",
              "      <td>0</td>\n",
              "      <td>0</td>\n",
              "      <td>0</td>\n",
              "      <td>-0.146281</td>\n",
              "      <td>0.199981</td>\n",
              "      <td>0.150559</td>\n",
              "      <td>7.515726</td>\n",
              "      <td>2.030707</td>\n",
              "      <td>5.485019</td>\n",
              "    </tr>\n",
              "    <tr>\n",
              "      <th>50</th>\n",
              "      <td>AZ</td>\n",
              "      <td>1995</td>\n",
              "      <td>1.524</td>\n",
              "      <td>4306908</td>\n",
              "      <td>71.954170</td>\n",
              "      <td>88870496</td>\n",
              "      <td>65.333328</td>\n",
              "      <td>198.607498</td>\n",
              "      <td>74.790825</td>\n",
              "      <td>130.319887</td>\n",
              "      <td>42.869640</td>\n",
              "      <td>49.075347</td>\n",
              "      <td>6.205707</td>\n",
              "      <td>4.276029</td>\n",
              "      <td>4.869992</td>\n",
              "      <td>13.539638</td>\n",
              "      <td>2.605622</td>\n",
              "      <td>0</td>\n",
              "      <td>0</td>\n",
              "      <td>1</td>\n",
              "      <td>0</td>\n",
              "      <td>0</td>\n",
              "      <td>0</td>\n",
              "      <td>0</td>\n",
              "      <td>0</td>\n",
              "      <td>0</td>\n",
              "      <td>0</td>\n",
              "      <td>0</td>\n",
              "      <td>0</td>\n",
              "      <td>0</td>\n",
              "      <td>0</td>\n",
              "      <td>0</td>\n",
              "      <td>0</td>\n",
              "      <td>0</td>\n",
              "      <td>0</td>\n",
              "      <td>0</td>\n",
              "      <td>0</td>\n",
              "      <td>0</td>\n",
              "      <td>0</td>\n",
              "      <td>0</td>\n",
              "      <td>0</td>\n",
              "      <td>0</td>\n",
              "      <td>0</td>\n",
              "      <td>0</td>\n",
              "      <td>0</td>\n",
              "      <td>0</td>\n",
              "      <td>0</td>\n",
              "      <td>0</td>\n",
              "      <td>0</td>\n",
              "      <td>0</td>\n",
              "      <td>0</td>\n",
              "      <td>0</td>\n",
              "      <td>0</td>\n",
              "      <td>0</td>\n",
              "      <td>0</td>\n",
              "      <td>0</td>\n",
              "      <td>0</td>\n",
              "      <td>0</td>\n",
              "      <td>0</td>\n",
              "      <td>0</td>\n",
              "      <td>0</td>\n",
              "      <td>0</td>\n",
              "      <td>0</td>\n",
              "      <td>0</td>\n",
              "      <td>0</td>\n",
              "      <td>-0.373374</td>\n",
              "      <td>0.255767</td>\n",
              "      <td>0.053800</td>\n",
              "      <td>15.459716</td>\n",
              "      <td>14.059230</td>\n",
              "      <td>1.400486</td>\n",
              "    </tr>\n",
              "    <tr>\n",
              "      <th>51</th>\n",
              "      <td>CA</td>\n",
              "      <td>1995</td>\n",
              "      <td>1.524</td>\n",
              "      <td>31493524</td>\n",
              "      <td>56.859306</td>\n",
              "      <td>771470144</td>\n",
              "      <td>61.000000</td>\n",
              "      <td>210.504669</td>\n",
              "      <td>74.771332</td>\n",
              "      <td>138.126430</td>\n",
              "      <td>40.026249</td>\n",
              "      <td>49.062556</td>\n",
              "      <td>9.036307</td>\n",
              "      <td>4.040580</td>\n",
              "      <td>4.928169</td>\n",
              "      <td>16.073591</td>\n",
              "      <td>2.777178</td>\n",
              "      <td>0</td>\n",
              "      <td>0</td>\n",
              "      <td>0</td>\n",
              "      <td>1</td>\n",
              "      <td>0</td>\n",
              "      <td>0</td>\n",
              "      <td>0</td>\n",
              "      <td>0</td>\n",
              "      <td>0</td>\n",
              "      <td>0</td>\n",
              "      <td>0</td>\n",
              "      <td>0</td>\n",
              "      <td>0</td>\n",
              "      <td>0</td>\n",
              "      <td>0</td>\n",
              "      <td>0</td>\n",
              "      <td>0</td>\n",
              "      <td>0</td>\n",
              "      <td>0</td>\n",
              "      <td>0</td>\n",
              "      <td>0</td>\n",
              "      <td>0</td>\n",
              "      <td>0</td>\n",
              "      <td>0</td>\n",
              "      <td>0</td>\n",
              "      <td>0</td>\n",
              "      <td>0</td>\n",
              "      <td>0</td>\n",
              "      <td>0</td>\n",
              "      <td>0</td>\n",
              "      <td>0</td>\n",
              "      <td>0</td>\n",
              "      <td>0</td>\n",
              "      <td>0</td>\n",
              "      <td>0</td>\n",
              "      <td>0</td>\n",
              "      <td>0</td>\n",
              "      <td>0</td>\n",
              "      <td>0</td>\n",
              "      <td>0</td>\n",
              "      <td>0</td>\n",
              "      <td>0</td>\n",
              "      <td>0</td>\n",
              "      <td>0</td>\n",
              "      <td>0</td>\n",
              "      <td>0</td>\n",
              "      <td>0</td>\n",
              "      <td>0</td>\n",
              "      <td>-0.568214</td>\n",
              "      <td>0.320796</td>\n",
              "      <td>0.022669</td>\n",
              "      <td>19.226124</td>\n",
              "      <td>15.862679</td>\n",
              "      <td>3.363445</td>\n",
              "    </tr>\n",
              "    <tr>\n",
              "      <th>52</th>\n",
              "      <td>CO</td>\n",
              "      <td>1995</td>\n",
              "      <td>1.524</td>\n",
              "      <td>3738061</td>\n",
              "      <td>82.582924</td>\n",
              "      <td>92946544</td>\n",
              "      <td>44.000000</td>\n",
              "      <td>167.350006</td>\n",
              "      <td>44.000000</td>\n",
              "      <td>109.809720</td>\n",
              "      <td>28.871392</td>\n",
              "      <td>28.871392</td>\n",
              "      <td>0.000000</td>\n",
              "      <td>4.413803</td>\n",
              "      <td>4.698749</td>\n",
              "      <td>16.315557</td>\n",
              "      <td>2.792119</td>\n",
              "      <td>0</td>\n",
              "      <td>0</td>\n",
              "      <td>0</td>\n",
              "      <td>0</td>\n",
              "      <td>1</td>\n",
              "      <td>0</td>\n",
              "      <td>0</td>\n",
              "      <td>0</td>\n",
              "      <td>0</td>\n",
              "      <td>0</td>\n",
              "      <td>0</td>\n",
              "      <td>0</td>\n",
              "      <td>0</td>\n",
              "      <td>0</td>\n",
              "      <td>0</td>\n",
              "      <td>0</td>\n",
              "      <td>0</td>\n",
              "      <td>0</td>\n",
              "      <td>0</td>\n",
              "      <td>0</td>\n",
              "      <td>0</td>\n",
              "      <td>0</td>\n",
              "      <td>0</td>\n",
              "      <td>0</td>\n",
              "      <td>0</td>\n",
              "      <td>0</td>\n",
              "      <td>0</td>\n",
              "      <td>0</td>\n",
              "      <td>0</td>\n",
              "      <td>0</td>\n",
              "      <td>0</td>\n",
              "      <td>0</td>\n",
              "      <td>0</td>\n",
              "      <td>0</td>\n",
              "      <td>0</td>\n",
              "      <td>0</td>\n",
              "      <td>0</td>\n",
              "      <td>0</td>\n",
              "      <td>0</td>\n",
              "      <td>0</td>\n",
              "      <td>0</td>\n",
              "      <td>0</td>\n",
              "      <td>0</td>\n",
              "      <td>0</td>\n",
              "      <td>0</td>\n",
              "      <td>0</td>\n",
              "      <td>0</td>\n",
              "      <td>0</td>\n",
              "      <td>-0.313262</td>\n",
              "      <td>0.225872</td>\n",
              "      <td>0.130030</td>\n",
              "      <td>0.060983</td>\n",
              "      <td>0.060983</td>\n",
              "      <td>0.000000</td>\n",
              "    </tr>\n",
              "  </tbody>\n",
              "</table>\n",
              "</div>"
            ],
            "text/plain": [
              "   state  year    cpi       pop  ...  ltperinc    dtrtaxs     dtrtax  dtrtaxso\n",
              "48    AL  1995  1.524   4262731  ...  0.182221  -3.496373  -3.629658  0.133285\n",
              "49    AR  1995  1.524   2480121  ...  0.150559   7.515726   2.030707  5.485019\n",
              "50    AZ  1995  1.524   4306908  ...  0.053800  15.459716  14.059230  1.400486\n",
              "51    CA  1995  1.524  31493524  ...  0.022669  19.226124  15.862679  3.363445\n",
              "52    CO  1995  1.524   3738061  ...  0.130030   0.060983   0.060983  0.000000\n",
              "\n",
              "[5 rows x 71 columns]"
            ]
          },
          "metadata": {
            "tags": []
          },
          "execution_count": 59
        }
      ]
    },
    {
      "cell_type": "markdown",
      "metadata": {
        "id": "ert9iWOqBqtS"
      },
      "source": [
        "## **12.1 The IV Estimator with a Single Regressor and a Single Instrument**"
      ]
    },
    {
      "cell_type": "markdown",
      "metadata": {
        "id": "u3u9G6sp23Sd"
      },
      "source": [
        "### **Equation 12.9**\n",
        "$\\widehat{\\text{ln}(P^{cig}_i)} = 4.62 + 0.031Salestax.$"
      ]
    },
    {
      "cell_type": "code",
      "metadata": {
        "colab": {
          "base_uri": "https://localhost:8080/"
        },
        "id": "RJrEBe0CyIuP",
        "outputId": "1d207fe3-6dc7-4fa2-ab7a-9d22d8fc534f"
      },
      "source": [
        "reg_12_9 = smf.ols(formula='lravgprs ~ rtaxso', data=cig_1995)\n",
        "result_12_9 = reg_12_9.fit(cov_type='HC1')\n",
        "print(result_12_9.summary())"
      ],
      "execution_count": null,
      "outputs": [
        {
          "output_type": "stream",
          "text": [
            "                            OLS Regression Results                            \n",
            "==============================================================================\n",
            "Dep. Variable:               lravgprs   R-squared:                       0.471\n",
            "Model:                            OLS   Adj. R-squared:                  0.459\n",
            "Method:                 Least Squares   F-statistic:                     40.39\n",
            "Date:                Sun, 21 Mar 2021   Prob (F-statistic):           8.49e-08\n",
            "Time:                        08:14:42   Log-Likelihood:                 46.435\n",
            "No. Observations:                  48   AIC:                            -88.87\n",
            "Df Residuals:                      46   BIC:                            -85.13\n",
            "Df Model:                           1                                         \n",
            "Covariance Type:                  HC1                                         \n",
            "==============================================================================\n",
            "                 coef    std err          z      P>|z|      [0.025      0.975]\n",
            "------------------------------------------------------------------------------\n",
            "Intercept      4.6165      0.029    159.644      0.000       4.560       4.673\n",
            "rtaxso         0.0307      0.005      6.355      0.000       0.021       0.040\n",
            "==============================================================================\n",
            "Omnibus:                        0.212   Durbin-Watson:                   2.008\n",
            "Prob(Omnibus):                  0.900   Jarque-Bera (JB):                0.012\n",
            "Skew:                          -0.038   Prob(JB):                        0.994\n",
            "Kurtosis:                       3.010   Cond. No.                         13.3\n",
            "==============================================================================\n",
            "\n",
            "Notes:\n",
            "[1] Standard Errors are heteroscedasticity robust (HC1)\n"
          ],
          "name": "stdout"
        }
      ]
    },
    {
      "cell_type": "code",
      "metadata": {
        "colab": {
          "base_uri": "https://localhost:8080/"
        },
        "id": "_dY6bjP336Ul",
        "outputId": "e371521a-ebea-41ca-82b6-5c29053b7896"
      },
      "source": [
        "# Not Report\n",
        "reg_n = smf.ols(formula='lpackpc ~ lravgprs', data=cig_1995)\n",
        "result_n = reg_n.fit(cov_type='HC1')\n",
        "print(result_n.summary())"
      ],
      "execution_count": null,
      "outputs": [
        {
          "output_type": "stream",
          "text": [
            "                            OLS Regression Results                            \n",
            "==============================================================================\n",
            "Dep. Variable:                lpackpc   R-squared:                       0.406\n",
            "Model:                            OLS   Adj. R-squared:                  0.393\n",
            "Method:                 Least Squares   F-statistic:                     38.86\n",
            "Date:                Sun, 21 Mar 2021   Prob (F-statistic):           1.29e-07\n",
            "Time:                        08:32:33   Log-Likelihood:                 12.724\n",
            "No. Observations:                  48   AIC:                            -21.45\n",
            "Df Residuals:                      46   BIC:                            -17.71\n",
            "Df Model:                           1                                         \n",
            "Covariance Type:                  HC1                                         \n",
            "==============================================================================\n",
            "                 coef    std err          z      P>|z|      [0.025      0.975]\n",
            "------------------------------------------------------------------------------\n",
            "Intercept     10.3389      0.935     11.060      0.000       8.507      12.171\n",
            "lravgprs      -1.2131      0.195     -6.234      0.000      -1.594      -0.832\n",
            "==============================================================================\n",
            "Omnibus:                       11.094   Durbin-Watson:                   1.985\n",
            "Prob(Omnibus):                  0.004   Jarque-Bera (JB):               12.802\n",
            "Skew:                          -0.823   Prob(JB):                      0.00166\n",
            "Kurtosis:                       4.921   Cond. No.                         189.\n",
            "==============================================================================\n",
            "\n",
            "Notes:\n",
            "[1] Standard Errors are heteroscedasticity robust (HC1)\n"
          ],
          "name": "stdout"
        }
      ]
    },
    {
      "cell_type": "markdown",
      "metadata": {
        "id": "YZnSIe6b2b2A"
      },
      "source": [
        "### **Equation 12.11**\n",
        "$\\widehat{\\text{ln}(Q^{cig}_i)} = 9.72 - 1.08 \\text{ln}(P^{cig}_i).$"
      ]
    },
    {
      "cell_type": "code",
      "metadata": {
        "colab": {
          "base_uri": "https://localhost:8080/"
        },
        "id": "smKQ7MdX4Irb",
        "outputId": "f662b99d-dc0d-412a-94dc-0b4c2688b14c"
      },
      "source": [
        "reg_12_11 = iv.IV2SLS.from_formula(formula='lpackpc ~ 1 + [lravgprs ~ rtaxso]', data=cig_1995)\n",
        "result_12_11 = reg_12_11.fit(cov_type='robust', debiased=True)\n",
        "print(result_12_11.summary)"
      ],
      "execution_count": null,
      "outputs": [
        {
          "output_type": "stream",
          "text": [
            "                          IV-2SLS Estimation Summary                          \n",
            "==============================================================================\n",
            "Dep. Variable:                lpackpc   R-squared:                      0.4011\n",
            "Estimator:                    IV-2SLS   Adj. R-squared:                 0.3881\n",
            "No. Observations:                  48   F-statistic:                    11.544\n",
            "Date:                Sun, Mar 21 2021   P-value (F-stat)                0.0014\n",
            "Time:                        08:53:04   Distribution:                  F(1,46)\n",
            "Cov. Estimator:                robust                                         \n",
            "                                                                              \n",
            "                             Parameter Estimates                              \n",
            "==============================================================================\n",
            "            Parameter  Std. Err.     T-stat    P-value    Lower CI    Upper CI\n",
            "------------------------------------------------------------------------------\n",
            "Intercept      9.7199     1.5283     6.3598     0.0000      6.6435      12.796\n",
            "lravgprs      -1.0836     0.3189    -3.3977     0.0014     -1.7255     -0.4416\n",
            "==============================================================================\n",
            "\n",
            "Endogenous: lravgprs\n",
            "Instruments: rtaxso\n",
            "Robust Covariance (Heteroskedastic)\n",
            "Debiased: True\n"
          ],
          "name": "stdout"
        }
      ]
    },
    {
      "cell_type": "markdown",
      "metadata": {
        "id": "TFjMW_vCBygB"
      },
      "source": [
        "## **12.2 The General IV Regression Model**"
      ]
    },
    {
      "cell_type": "markdown",
      "metadata": {
        "id": "T1I3t-D97Aq8"
      },
      "source": [
        "### **Equation 12.15**\n",
        "$\\widehat{\\text{ln}(Q^{cig}_i)} = 9.43 - 1.14 \\text{ln}(P^{cig}_i) + 0.21 \\text{ln}(Inc_i).$"
      ]
    },
    {
      "cell_type": "code",
      "metadata": {
        "colab": {
          "base_uri": "https://localhost:8080/"
        },
        "id": "04OXaDGP-5PW",
        "outputId": "0519055a-159e-43d1-e461-33908d123776"
      },
      "source": [
        "reg_12_15 = iv.IV2SLS.from_formula(formula='lpackpc ~ 1 + [lravgprs ~ rtaxso] + lperinc', data=cig_1995)\n",
        "result_12_15 = reg_12_15.fit(cov_type='robust', debiased=True)\n",
        "print(result_12_15.summary)"
      ],
      "execution_count": null,
      "outputs": [
        {
          "output_type": "stream",
          "text": [
            "                          IV-2SLS Estimation Summary                          \n",
            "==============================================================================\n",
            "Dep. Variable:                lpackpc   R-squared:                      0.4189\n",
            "Estimator:                    IV-2SLS   Adj. R-squared:                 0.3931\n",
            "No. Observations:                  48   F-statistic:                    8.1911\n",
            "Date:                Sun, Mar 21 2021   P-value (F-stat)                0.0009\n",
            "Time:                        08:54:29   Distribution:                  F(2,45)\n",
            "Cov. Estimator:                robust                                         \n",
            "                                                                              \n",
            "                             Parameter Estimates                              \n",
            "==============================================================================\n",
            "            Parameter  Std. Err.     T-stat    P-value    Lower CI    Upper CI\n",
            "------------------------------------------------------------------------------\n",
            "Intercept      9.4307     1.2594     7.4883     0.0000      6.8941      11.967\n",
            "lperinc        0.2145     0.3117     0.6881     0.4949     -0.4134      0.8424\n",
            "lravgprs      -1.1434     0.3723    -3.0711     0.0036     -1.8932     -0.3935\n",
            "==============================================================================\n",
            "\n",
            "Endogenous: lravgprs\n",
            "Instruments: rtaxso\n",
            "Robust Covariance (Heteroskedastic)\n",
            "Debiased: True\n"
          ],
          "name": "stdout"
        }
      ]
    },
    {
      "cell_type": "markdown",
      "metadata": {
        "id": "fOjFdnwa_imd"
      },
      "source": [
        "### **Equation 12.16**\n",
        "$\\widehat{\\text{ln}(Q^{cig}_i)} = 9.89 - 1.28 \\text{ln}(P^{cig}_i) + 0.28 \\text{ln}(Inc_i).$"
      ]
    },
    {
      "cell_type": "code",
      "metadata": {
        "colab": {
          "base_uri": "https://localhost:8080/"
        },
        "id": "J-bXfXAxAEzz",
        "outputId": "bbb39c21-ebca-405a-d786-b42caaeaaac0"
      },
      "source": [
        "reg_12_16 = iv.IV2SLS.from_formula(formula='lpackpc ~ 1 + [lravgprs ~ rtaxso + rtaxs] + lperinc', data=cig_1995)\n",
        "result_12_16 = reg_12_16.fit(cov_type='robust', debiased=True)\n",
        "print(result_12_16.summary)"
      ],
      "execution_count": null,
      "outputs": [
        {
          "output_type": "stream",
          "text": [
            "                          IV-2SLS Estimation Summary                          \n",
            "==============================================================================\n",
            "Dep. Variable:                lpackpc   R-squared:                      0.4294\n",
            "Estimator:                    IV-2SLS   Adj. R-squared:                 0.4041\n",
            "No. Observations:                  48   F-statistic:                    16.175\n",
            "Date:                Sun, Mar 21 2021   P-value (F-stat)                0.0000\n",
            "Time:                        08:57:46   Distribution:                  F(2,45)\n",
            "Cov. Estimator:                robust                                         \n",
            "                                                                              \n",
            "                             Parameter Estimates                              \n",
            "==============================================================================\n",
            "            Parameter  Std. Err.     T-stat    P-value    Lower CI    Upper CI\n",
            "------------------------------------------------------------------------------\n",
            "Intercept      9.8950     0.9592     10.316     0.0000      7.9630      11.827\n",
            "lperinc        0.2804     0.2539     1.1044     0.2753     -0.2310      0.7918\n",
            "lravgprs      -1.2774     0.2496    -5.1177     0.0000     -1.7802     -0.7747\n",
            "==============================================================================\n",
            "\n",
            "Endogenous: lravgprs\n",
            "Instruments: rtaxso, rtaxs\n",
            "Robust Covariance (Heteroskedastic)\n",
            "Debiased: True\n"
          ],
          "name": "stdout"
        }
      ]
    },
    {
      "cell_type": "markdown",
      "metadata": {
        "id": "M5yaRH-ZAScx"
      },
      "source": [
        "## **12.3 Checking Instrument Validity**"
      ]
    },
    {
      "cell_type": "code",
      "metadata": {
        "id": "F8zL8dQWCV3k"
      },
      "source": [
        ""
      ],
      "execution_count": null,
      "outputs": []
    }
  ]
}