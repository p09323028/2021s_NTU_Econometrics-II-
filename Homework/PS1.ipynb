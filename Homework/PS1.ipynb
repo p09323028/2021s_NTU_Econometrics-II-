{
  "nbformat": 4,
  "nbformat_minor": 0,
  "metadata": {
    "colab": {
      "name": "PS1.ipynb",
      "provenance": [],
      "collapsed_sections": [],
      "authorship_tag": "ABX9TyMJWnkjCuQtbCWiEF9TGq6t",
      "include_colab_link": true
    },
    "kernelspec": {
      "name": "python3",
      "display_name": "Python 3"
    },
    "language_info": {
      "name": "python"
    }
  },
  "cells": [
    {
      "cell_type": "markdown",
      "metadata": {
        "id": "view-in-github",
        "colab_type": "text"
      },
      "source": [
        "<a href=\"https://colab.research.google.com/github/p09323028/2021s_NTU_Econometrics_II/blob/main/Homework/PS1.ipynb\" target=\"_parent\"><img src=\"https://colab.research.google.com/assets/colab-badge.svg\" alt=\"Open In Colab\"/></a>"
      ]
    },
    {
      "cell_type": "markdown",
      "metadata": {
        "id": "rDhcq3d39VwM"
      },
      "source": [
        "# **經濟實證與預測二_ Homework 1**\n",
        "**Link:** https://tinyurl.com/vf2894aa"
      ]
    },
    {
      "cell_type": "markdown",
      "metadata": {
        "id": "JKk2llvr8q8y"
      },
      "source": [
        "**吳金擇, P09323028**\n",
        "\n",
        "**林婧筠, P09323026**\n",
        "\n",
        "**洪靜玟, P09323019**\n",
        "\n",
        "**林冠伭, P08323019**"
      ]
    },
    {
      "cell_type": "markdown",
      "metadata": {
        "id": "XYabIwXN_l3O"
      },
      "source": [
        "# **Exercise 11.8**\n",
        "Consider the linear probability model $Y_i = \\beta_0 + \\beta_1 X_i + u_i$, and assume that\n",
        "$E(u_i|X_i) = 0$.\n",
        "1. Show that $Pr(Y_i=1|\u001fX_i) = \\beta_0 + \\beta_1X_i$.\n",
        "2. Show that $Var(u_i|\u001fX_i) = \\left(\\beta_0 + \\beta_1 X_i \\right) \\left[1 - \\left( \\beta_0 + \\beta_1X_i \\right) \\right]$.\n",
        "[Hint: Review\n",
        "Equation (2.7).]\n",
        "3. Is $u_i$ heteroskedastic? Explain.\n",
        "4. (Requires Section 11.3) Derive the likelihood function.\n",
        "\n",
        "---"
      ]
    },
    {
      "cell_type": "markdown",
      "metadata": {
        "id": "BMw_r7OD-k6k"
      },
      "source": [
        "## 11.8-1\n",
        "\n",
        "$E(Y_i|X_i) = E(\\beta_0 + \\beta_1 X_i + u_i|X_i) = \\beta_0 + \\beta_1 X_i$\n",
        "\n",
        "若 $Y_i$ 為 binary variable, \n",
        "\n",
        "$E(Y_i|X_i) = P(Y_i=0|X_i) \\times 0 + P(Y_i=1|X_i) \\times 1$\n",
        "\n",
        "得 $P(Y_i=1|X_i) = \\beta_0 + \\beta_1 X_i$"
      ]
    },
    {
      "cell_type": "markdown",
      "metadata": {
        "id": "7fLoB-0kKPhN"
      },
      "source": [
        "## 11.8-2\n",
        "$Var(u_i|X_i)$\n",
        "\n",
        "$= (0 - \\beta_0 - \\beta_1 X_i)^2 \\times (1 - \\beta_0 - \\beta_1 X_i) + (1 - \\beta_0 - \\beta_1 X_i)^2 \\times (\\beta_0 + \\beta_1 X_i)$\n",
        "\n",
        "$= (\\beta_0 + \\beta_1 X_i)[1-(\\beta_0 + \\beta_1 X_i)]$"
      ]
    },
    {
      "cell_type": "markdown",
      "metadata": {
        "id": "Nsgj9385NtzA"
      },
      "source": [
        "## 11.8-3\n",
        "由 11.8-2 知 $Var(u_i|X_i)$ 隨 $X_i$ 而定， 故 $u_i$ 為 heteroskedastic。"
      ]
    },
    {
      "cell_type": "markdown",
      "metadata": {
        "id": "gdvYZxfMOXDe"
      },
      "source": [
        "## 11.8-4\n",
        "由 11.8-1 知 $P(Y_i=1|X_i) = \\beta_0 + \\beta_1 X_i$,\n",
        "\n",
        "若 $(Y_i, X_i)$ 為 $\\overset{i.i.d.}{\\sim}$ $f(Y_i|X_i)$,\n",
        "\n",
        "$Likelihood$ $Function:$\n",
        "\n",
        "$Pr(Y_1=y_1, ..., Y_n=y_n|X_1, ..., X_n)$\n",
        "\n",
        "$ = \\prod^n_{i=1}\\left[ Pr(Y_i=1|X_i) \\right]^{y_i} \\left[ Pr(Y_i=0|X_i) \\right]^{1-y_i}$\n",
        "\n",
        "$ = \\prod^n_{i=1} (\\beta_0 + \\beta_1 X_i)^{y_i} (1 - \\beta_0 - \\beta_1 X_i)^{1-y_i}$"
      ]
    },
    {
      "cell_type": "markdown",
      "metadata": {
        "id": "3JW7TC2FBXVE"
      },
      "source": [
        "# **Exercise 11.10**\n",
        "(Requires Section 11.3 and calculus) Suppose a random variable Y has the\n",
        "following probability distribution: $Pr(Y = 1) = p$, $Pr(Y = 2) = q$, and\n",
        "$Pr(Y = 3) = 1 - p - q$. A random sample of size n is drawn from this distribution,\n",
        "and the random variables are denoted $Y_1, Y_2,...,Y_n$.\n",
        "1. Derive the likelihood function for the parameters $p$ and $q$.\n",
        "2. Derive formulas for the MLE of $p$ and $q$.\n",
        "\n",
        "---"
      ]
    },
    {
      "cell_type": "markdown",
      "metadata": {
        "id": "HTbUzwYhSTxS"
      },
      "source": [
        "## 11.10-1\n",
        "令樣本中, Y 為 1 的出現次數為 $n_1$, Y 為 2 的出現次數為 $n_2$, Y 為 3 的出現次數為 $n_3 = n - n_1 - n_2$。\n",
        "\n",
        "$Pr(Y_1=y_1, ..., Y_n=y_n) = \\prod^n_{i=1} Pr(Y_i = y_i) = p^{n_1} q^{n_2} (1-p-q)^{n-n_1-n_2}$\n"
      ]
    },
    {
      "cell_type": "markdown",
      "metadata": {
        "id": "z04j_vRsT__n"
      },
      "source": [
        "## 11.10-2\n",
        "$L = \\text{ln}[Pr(Y_1=y_1, ..., Y_n=y_n)] = n_1 \\text{ln}(p) + n_2 \\text{ln}(q) + (n-n_1-n_2) \\text{ln}(1-p-q)$\n",
        "\n",
        "$F.O.C.$\n",
        "- $\\frac{\\partial{L}}{\\partial{p}} = 0 \\Rightarrow \\frac{n_1}{p} - \\frac{n-n_1-n_2}{1-p-q} = 0$ \n",
        "- $\\frac{\\partial{L}}{\\partial{q}} = 0 \\Rightarrow \\frac{n_2}{q} - \\frac{n-n_1-n_2}{1-p-q} = 0$ \n",
        "\n",
        "得 $\\widehat{p}_{MLE} = \\frac{n_1}{n}$, $\\widehat{q}_{MLE} = \\frac{n_2}{n}$"
      ]
    },
    {
      "cell_type": "markdown",
      "metadata": {
        "id": "vr2hTdzSByHJ"
      },
      "source": [
        "# **Exercise 12.2**\n",
        "Consider the regression model with a single regressor: $Y_i = \\beta_0 + \\beta_1 X_i + u_i$. Suppose the least squares assumptions in Key Concept 4.3 are satisfied.\n",
        "1. Show that $X_i$ is a valid instrument. That is, show that Key Concept 12.3 is\n",
        "satisfied with $Z_i = X_i$.\n",
        "2. Show that the IV regression assumptions in Key Concept 12.4 are\n",
        "satisfied with this choice of $Z_i$.\n",
        "3. Show that the IV estimator constructed using $Z_i = X_i$ is identical to the\n",
        "OLS estimator.\n",
        "\n",
        "---\n",
        "\n"
      ]
    },
    {
      "cell_type": "markdown",
      "metadata": {
        "id": "Mp-awgVRDvyC"
      },
      "source": [
        "## 12.2-1\n",
        "- 由於 $Z_i = X_i$, 故 $Cov(Z_i, X_i) = 1$, 故 $X_i$ 滿足 Instrument Relevance.\n",
        "- 由於 $X_i$ 滿足 Key Concept 4.3, 知 $Cov(X_i, u_i) = Cov(Z_i, u_i) = 0$, 故 $X_i$ 滿足 Instrument Exogeneity."
      ]
    },
    {
      "cell_type": "markdown",
      "metadata": {
        "id": "reuwxKNPFc62"
      },
      "source": [
        "## 12.2-2\n",
        "- 由於無輔助變數$(W_i)$, 且 $X_i$ 滿足 Key Concept 4.3, 故 $E(u_i|W_i) = 0$\n",
        "- 由 Key Concept 4.3, 知 $(X_i, Z_i, Y_i)$ are i.i.d. draws from their joint distribution.\n",
        "- 由 Key Concept 4.3, 知 large outliers are unlikely.\n",
        "- 由 12.2-1 知 $Z_i = X_i$ 符合 Key Concenpt 12.3. "
      ]
    },
    {
      "cell_type": "markdown",
      "metadata": {
        "id": "1-OONM2JIUaq"
      },
      "source": [
        "## 12.2-3\n",
        "$\\widehat{\\beta}^{ols}_1 = \\frac{S_{xy}}{S_{xx}}$\n",
        "\n",
        "$\\widehat{\\beta}^{tsls}_1 = \\frac{S_{zy}}{S_{xz}} = \\frac{S_{xy}}{S_{xx}}$\n",
        "\n",
        "$\\Rightarrow \\widehat{\\beta}^{ols}_1 = \\widehat{\\beta}^{tsls}_1$"
      ]
    },
    {
      "cell_type": "markdown",
      "metadata": {
        "id": "2UzdQRUeDHqb"
      },
      "source": [
        "# **Exercise 12.5**\n",
        "Consider the IV regression model\n",
        "$$Y_i = \\beta_0 + \\beta_1 X_i + \\beta_2 W_i + u_i,$$\n",
        "where $X_i$ is correlated with $u_i$ and $Z_i$ is an instrument. Suppose that the first three assumptions in Key Concept 12.4 are satisfied. Which IV assumption is\n",
        "not satisfied when\n",
        "1. $Z_i$ is independent of $(Y_i, X_i, W_i)$?\n",
        "2. $Z_i = W_i$?\n",
        "3. $W_i = 1$ for all $i$?\n",
        "4. $Z_i = X_i$?\n",
        "\n",
        "---\n",
        "\n"
      ]
    },
    {
      "cell_type": "markdown",
      "metadata": {
        "id": "tkeojQVEJWqu"
      },
      "source": [
        "## 12.5-1\n",
        "當 $Z_i$ is independent of $(Y_i, X_i, W_i)$, 則 $Cov(Z_i, X_i) = 0$, 違反 Instrument Relevance。"
      ]
    },
    {
      "cell_type": "markdown",
      "metadata": {
        "id": "5-iAYwIeLEqc"
      },
      "source": [
        "## 12.5-2\n",
        "當 $Z_i = W_i$, 在估算第一階迴歸式 (Regress $X_i$ on ($Z_i, W_i$)) 時, 將產生完全線性重合。"
      ]
    },
    {
      "cell_type": "markdown",
      "metadata": {
        "id": "rRYLRaDZMXpG"
      },
      "source": [
        "## 12.5-3\n",
        "當 $W_i = 1$, 則將與常數項重合。"
      ]
    },
    {
      "cell_type": "markdown",
      "metadata": {
        "id": "CGjjf03yZXO4"
      },
      "source": [
        "## 12.5-4\n",
        "當 $Z_i = X_i$, 由於 $Cov(X_i, u_i) \\neq 0$, 故 $Cov(Z_i, u_i) \\neq 0$, 違反 Instrument Exogeneity。"
      ]
    },
    {
      "cell_type": "markdown",
      "metadata": {
        "id": "sQCbRFUgDrLp"
      },
      "source": [
        "# **Exercise 12.8**\n",
        "Consider a product market with a supply function $Q^s_i = \\beta_0 + \\beta_1P_i + u^s_i$, a demand function $Q^d_i = \\gamma_0 + u^d_i$, and a market equilibrium condition\n",
        "$Q^s_i = Q^d_i$, where $u^s_i$ and $u^d_i$\n",
        "are mutually independent $i.i.d$. random variables, both with a mean of $0$.\n",
        "1. Show that $P_i$ and $u^s_i$ are correlated.\n",
        "2. Show that the OLS estimator of $\\beta_1$ is inconsistent.\n",
        "3. How would you estimate $\\beta_0$, $\\beta_1$, and $\\gamma_0$?\n",
        "\n",
        "---\n",
        "\n"
      ]
    },
    {
      "cell_type": "markdown",
      "metadata": {
        "id": "P4k3o2Wwb2pX"
      },
      "source": [
        "## 12.8-1\n",
        "$\\beta_0 + \\beta_1 P_i + u_i^s = \\gamma_0 + u_i^d$\n",
        "\n",
        "$P_i = \\frac{\\gamma_0 - \\beta_0 + u_i^d - u_i^s}{\\beta_1}$\n",
        "\n",
        "$\\Rightarrow Cov(P_i, u_i^s) = \\frac{-\\sigma_{u^s}}{\\beta_1}$\n"
      ]
    },
    {
      "cell_type": "markdown",
      "metadata": {
        "id": "odIM5U2gc_YR"
      },
      "source": [
        "## 12.8-2\n",
        "因 $Cov(P_i, u_i^s) \\neq 0$, 故 $\\widehat{\\beta}_1^{ols}$ is inconsistent。"
      ]
    },
    {
      "cell_type": "markdown",
      "metadata": {
        "id": "3WeZ5BMkd27Z"
      },
      "source": [
        "## 12.8-3\n",
        "此例中，需求函數完全無彈性($\\varepsilon^d = \\frac{\\partial{Q^d}}{\\partial{P}} \\frac{P}{Q} = 0$),\n",
        "\n",
        "知 $Cov(Q_i^d, u_i^s) = 0$ 且 $Cov(Q_i^d, P_i) \\neq 0$, \n",
        "\n",
        "故可將 $Q^d$ 視為工具變數, 採 TSLS 估算 $\\beta_0$ 及 $\\beta_1$,\n",
        "\n",
        "而 $\\gamma_0$ 則可直接採 OLS 估算。 "
      ]
    },
    {
      "cell_type": "markdown",
      "metadata": {
        "id": "ZFA8fCfWDy-M"
      },
      "source": [
        "# **Exercise 12.10**\n",
        "Two classmates are comparing their answers to an assignment. One classmate has specified an instrumental variable regression model $Y_i = \\beta_0 + \\beta_1 X_i + \\beta_2 W_i + u_i$, using $Z_i$ as an instrument. The other student has specified the same model, but has omitted $W_i$.\n",
        "1. The first student says that if $Z_i$ and $W_i$ are correlated, then the second\n",
        "student’s IV estimator will not be consistent. Is the first student right\n",
        "about this?\n",
        "2. The second student argues that if in the true model $\\beta_2 = 0$, then their IV\n",
        "estimator will be consistent. Is the second student correct in saying this?\n",
        "\n",
        "---\n",
        "\n"
      ]
    },
    {
      "cell_type": "markdown",
      "metadata": {
        "id": "lpzJ4Ja7nvXX"
      },
      "source": [
        "## 12.10-1\n",
        "$ \\beta_1 = \\frac{Cov(Z_i,Y_i)}{Cov(Z_i,X_i)} = \\frac{Cov(Z_i, \\beta_0 + \\beta_1 X_i + u_i^{'})}{Cov(Z_i, X_i)} $\n",
        "\n",
        "$ = \\frac{\\beta_1 Cov(Z_i, X_i) + Cov(Z_i, u^{'}_i)}{Cov(Z_i, X_i)} = \\frac{\\beta_1 Cov(Z_i, X_i) + Cov(Z_i, \\beta_2 W_i + u_i)}{Cov(Z_i, X_i)} $\n",
        "\n",
        "由上式知，$Cov(Z_i, W_i) \\neq 0 \\Rightarrow Cov(Z_i, u^{'}_i) \\neq 0$,\n",
        "\n",
        "違反 Instrument Exogeneity,\n",
        "\n",
        "第二位學生的估計式 $\\widehat{\\beta}^{TSLS}_1$ 非為一致估計式。\n"
      ]
    },
    {
      "cell_type": "markdown",
      "metadata": {
        "id": "51JaL_cvvCQ8"
      },
      "source": [
        "## 12.10-2\n",
        "$ \\beta_1 = \\frac{Cov(Z_i,Y_i)}{Cov(Z_i,X_i)} = \\frac{Cov(Z_i, \\beta_0 + \\beta_1 X_i + u_i^{'})}{Cov(Z_i, X_i)} $\n",
        "\n",
        "$= \\frac{\\beta_1 Cov(Z_i, X_i) + Cov(Z_i, u^{'}_i)}{Cov(Z_i, X_i)} = \\frac{\\beta_1 Cov(Z_i, X_i) + Cov(Z_i, \\beta_2 W_i + u_i)}{Cov(Z_i, X_i)} $\n",
        "\n",
        "若未能確保 $Cov(X_i, u^{'}_i) =0$, 即使 $\\beta_2 = 0$, 第二位學生的估計式 $\\widehat{\\beta}^{TSLS}_1$ 仍非為一致估計式。"
      ]
    },
    {
      "cell_type": "markdown",
      "metadata": {
        "id": "eE_qeWckD1FJ"
      },
      "source": [
        "# **E12.2**\n",
        "Does viewing a violent movie lead to violent behavior? If so, the incidence of\n",
        "violent crimes, such as assaults, should rise following the release of a violent\n",
        "movie that attracts many viewers. Alternatively, movie viewing may substitute\n",
        "for other activities (such as alcohol consumption) that lead to violent behavior, so that assaults should fall when more viewers are attracted to the cinema. On the text website, **http://www.pearsonglobaleditions.com**, you will find the data file **Movies**, which contains data on the number of assaults and movie attendance for 516 weekends from 1995 through 2004.7 A detailed description is given in **Movies_Description**, available on the website. The data set includes weekend U.S. attendance for strongly violent movies (such as Hannibal), mildly violent movies (such as Spider-Man), and nonviolent movies (such as Finding Nemo). The data set also includes a count of the number of assaults for the same weekend in a subset of counties in the United States. Finally, the data set includes indicators for year, month, whether the weekend is a holiday, and various measures of the weather.\n",
        "1. - Regress the logarithm of the number of assaults $[ln\\_assaults=\\text{ln}\n",
        "(assaults)]$ on the year and month indicators. Is there evidence of\n",
        "seasonality in assaults? That is, do there tend to be more assaults in\n",
        "some months than others? Explain.\n",
        " - Regress total movie attendance $(attend = attend\\_v + attend\\_m +\n",
        "attend\\_n)$ on the year and month indicators. Is there evidence of\n",
        "seasonality in movie attendance? Explain.\n",
        "\n",
        "2. Regress $ln\\_assaults$ on $attend\\_v, attend\\_m, attend\\_n$, the year and month\n",
        "indicators, and the weather and holiday control variables available in the\n",
        "data set.\n",
        " - Based on the regression, does viewing a strongly violent movie increase or decrease assaults? By how much? Is the estimated effect statistically significant?\n",
        " - Does attendance at strongly violent movies affect assaults differently than attendance at moderately violent movies? Differently than attendance at nonviolent movies?\n",
        " - A strongly violent blockbuster movie is released, and the weekend’s attendance at strongly violent movies increases by 6 million; meanwhile, attendance falls by 2 million for moderately violent movies\n",
        "and by 1 million for nonviolent movies. What is the predicted effect on assaults? Construct a 95% confidence interval for the change in assaults. [Hint: Review Section 7.3 and material surrounding Equations (8.7) and (8.8).]\n",
        "3. It is difficult to control for all the variables that affect assaults and that might be correlated with movie attendance. For example, the effect of\n",
        "the weather on assaults and movie attendance is only crudely approximated\n",
        "by the weather variables in the data set. However, the data set does include a set of instruments—$pr\\_attend\\_v, pr\\_attend\\_m$, and $pr\\_attend\\_n$—that are correlated with attendance but are (arguably) uncorrelated with weekend-specific factors (such as the weather) that affect both assaults and movie attendance. These instruments use historical attendance patterns, not information on a particular weekend, to predict a film’s attendance in a given weekend. For example, if a film’s attendance is high in the second week of its release, then this can be used to predict that its attendance was also high in the first week of its release. (The details of the construction of these instruments are available in the Dahl and DellaVigna paper referenced in footnote 5.) Run the regression from (b) (including year, month, holiday, and weather controls) but now using $pr\\_attend\\_v, pr\\_attend\\_m$, and $pr\\_attend\\_n$ as instruments for $attend\\_v, attend\\_m$, and $attend\\_n$. Use this IV regression to answer (b)(i)–(b)(iii).\n",
        "4. The intuition underlying the instruments in (c) is that attendance in\n",
        "a given week is correlated with attendance in surrounding weeks. For each movie category, the data set includes attendance in surrounding weeks. Run the regression using the instruments $attend\\_v\\_f, attend\\_m\\_f, attend\\_n\\_f, attend\\_v\\_b, attend\\_m\\_b,$ and $attend\\_n\\_b$ instead of the instruments used in (c). Use this IV regression to answer (b)(i)–(b)(iii).\n",
        "5. There are nine instruments listed in (c) and (d), but only three are\n",
        "needed for identification. Carry out the test for overidentification summarized\n",
        "in Key Concept 12.6. What do you conclude about the validity of the instruments?\n",
        "6. Based on your analysis, what do you conclude about the effect of violent\n",
        "movies on (short-run) violent behavior?\n",
        "\n",
        "---\n",
        "\n"
      ]
    },
    {
      "cell_type": "markdown",
      "metadata": {
        "id": "_w1vBBTREd1U"
      },
      "source": [
        "下載資料"
      ]
    },
    {
      "cell_type": "code",
      "metadata": {
        "id": "nLX8DTshPJZd"
      },
      "source": [
        "!gdown --id '1IQZjS8Mqpqf3R-rd7V4kMvilXI0Tqj42' --output movie.xlsx"
      ],
      "execution_count": null,
      "outputs": []
    },
    {
      "cell_type": "markdown",
      "metadata": {
        "id": "t7PbZnD_Egsi"
      },
      "source": [
        "下載及引入套件"
      ]
    },
    {
      "cell_type": "code",
      "metadata": {
        "id": "j6f1u9pZ48nq"
      },
      "source": [
        "!pip install linearmodels\n",
        "import numpy as np\n",
        "import pandas as pd\n",
        "from statsmodels.sandbox.regression.gmm import IV2SLS\n",
        "import statsmodels.formula.api as smf\n",
        "import linearmodels.iv as iv"
      ],
      "execution_count": null,
      "outputs": []
    },
    {
      "cell_type": "markdown",
      "metadata": {
        "id": "MjjRUaFaEolT"
      },
      "source": [
        "載入並檢視資料"
      ]
    },
    {
      "cell_type": "code",
      "metadata": {
        "id": "4P_xbWG15gvb"
      },
      "source": [
        "movie = pd.read_excel('movie.xlsx')"
      ],
      "execution_count": 3,
      "outputs": []
    },
    {
      "cell_type": "code",
      "metadata": {
        "id": "gkk2ZpUz6JYd"
      },
      "source": [
        "movie.columns"
      ],
      "execution_count": null,
      "outputs": []
    },
    {
      "cell_type": "markdown",
      "metadata": {
        "id": "w8XD4jVoEwfr"
      },
      "source": [
        "設置變數"
      ]
    },
    {
      "cell_type": "code",
      "metadata": {
        "id": "UTOO76S86UbS"
      },
      "source": [
        "movie['ln_assaults'] = np.log(movie['assaults']) \n",
        "movie['attend'] = movie['attend_v'] + movie['attend_m'] + movie['attend_n']\n",
        "movie['constant'] = 1"
      ],
      "execution_count": 5,
      "outputs": []
    },
    {
      "cell_type": "code",
      "metadata": {
        "id": "vHfiXfujGAWY"
      },
      "source": [
        "movie.head()"
      ],
      "execution_count": null,
      "outputs": []
    },
    {
      "cell_type": "markdown",
      "metadata": {
        "id": "NWexlw_uFCwT"
      },
      "source": [
        "## E12.2-a"
      ]
    },
    {
      "cell_type": "markdown",
      "metadata": {
        "id": "mjYt3WCRFVMO"
      },
      "source": [
        "### E12.2-a(i)"
      ]
    },
    {
      "cell_type": "code",
      "metadata": {
        "id": "Cniuv-EQQWsx",
        "colab": {
          "base_uri": "https://localhost:8080/"
        },
        "outputId": "91ac81b4-32f2-40dc-dba8-ec34c2481d86"
      },
      "source": [
        "reg_ai = smf.ols(formula='ln_assaults~year2+year3+year4+year5+year6+year7+year8+year9+year10+month2+month3+month4+month5+month6+month7+month8+month9+month10+month11+month12', data=movie)\n",
        "results_ai = reg_ai.fit(cov_type='HC1')\n",
        "print(results_ai.summary())\n",
        "\n",
        "f_test = results_ai.f_test(['month2=0','month3=0','month4=0','month5=0','month6=0','month7=0','month8=0','month9=0','month10=0','month11=0','month12=0'])\n",
        "f_test.pvalue"
      ],
      "execution_count": 7,
      "outputs": [
        {
          "output_type": "stream",
          "text": [
            "                            OLS Regression Results                            \n",
            "==============================================================================\n",
            "Dep. Variable:            ln_assaults   R-squared:                       0.992\n",
            "Model:                            OLS   Adj. R-squared:                  0.991\n",
            "Method:                 Least Squares   F-statistic:                     3081.\n",
            "Date:                Fri, 09 Apr 2021   Prob (F-statistic):               0.00\n",
            "Time:                        07:36:14   Log-Likelihood:                 741.74\n",
            "No. Observations:                 516   AIC:                            -1441.\n",
            "Df Residuals:                     495   BIC:                            -1352.\n",
            "Df Model:                          20                                         \n",
            "Covariance Type:                  HC1                                         \n",
            "==============================================================================\n",
            "                 coef    std err          z      P>|z|      [0.025      0.975]\n",
            "------------------------------------------------------------------------------\n",
            "Intercept      6.7276      0.016    423.870      0.000       6.696       6.759\n",
            "year2          0.6949      0.014     50.128      0.000       0.668       0.722\n",
            "year3          1.0084      0.014     74.070      0.000       0.982       1.035\n",
            "year4          1.2454      0.013     93.204      0.000       1.219       1.272\n",
            "year5          1.4145      0.017     84.780      0.000       1.382       1.447\n",
            "year6          1.6953      0.014    125.045      0.000       1.669       1.722\n",
            "year7          1.8509      0.013    146.166      0.000       1.826       1.876\n",
            "year8          1.9013      0.014    138.838      0.000       1.875       1.928\n",
            "year9          1.9437      0.013    145.285      0.000       1.917       1.970\n",
            "year10         2.0702      0.014    152.912      0.000       2.044       2.097\n",
            "month2         0.0169      0.014      1.241      0.215      -0.010       0.044\n",
            "month3         0.0799      0.013      6.153      0.000       0.054       0.105\n",
            "month4         0.1297      0.013     10.233      0.000       0.105       0.155\n",
            "month5         0.1802      0.011     15.806      0.000       0.158       0.203\n",
            "month6         0.1663      0.011     14.724      0.000       0.144       0.188\n",
            "month7         0.1739      0.011     15.321      0.000       0.152       0.196\n",
            "month8         0.1768      0.011     15.441      0.000       0.154       0.199\n",
            "month9         0.1977      0.013     15.653      0.000       0.173       0.222\n",
            "month10        0.1417      0.013     10.969      0.000       0.116       0.167\n",
            "month11        0.0248      0.013      1.876      0.061      -0.001       0.051\n",
            "month12       -0.0054      0.020     -0.270      0.787      -0.045       0.034\n",
            "==============================================================================\n",
            "Omnibus:                      147.335   Durbin-Watson:                   1.997\n",
            "Prob(Omnibus):                  0.000   Jarque-Bera (JB):             1613.470\n",
            "Skew:                           0.907   Prob(JB):                         0.00\n",
            "Kurtosis:                      11.471   Cond. No.                         13.5\n",
            "==============================================================================\n",
            "\n",
            "Notes:\n",
            "[1] Standard Errors are heteroscedasticity robust (HC1)\n"
          ],
          "name": "stdout"
        },
        {
          "output_type": "execute_result",
          "data": {
            "text/plain": [
              "array(7.3525147e-101)"
            ]
          },
          "metadata": {
            "tags": []
          },
          "execution_count": 7
        }
      ]
    },
    {
      "cell_type": "markdown",
      "metadata": {
        "id": "KXg6wlb0jYnP"
      },
      "source": [
        "$\\alpha = 0.1, Pvalue=0.00 < \\alpha \\Rightarrow$ $ln\\_assaults$ 與 $month$ 有顯著關係。(4月~10月偏高)"
      ]
    },
    {
      "cell_type": "markdown",
      "metadata": {
        "id": "XkNYa8kD_pSl"
      },
      "source": [
        "### E12.2-a(ii)"
      ]
    },
    {
      "cell_type": "code",
      "metadata": {
        "id": "dQ-7mNm3Fck0",
        "colab": {
          "base_uri": "https://localhost:8080/"
        },
        "outputId": "fdbc7d5e-71a7-4235-94fe-bb05a8062ba8"
      },
      "source": [
        "reg_aii = smf.ols(formula='attend~year2+year3+year4+year5+year6+year7+year8+year9+year10+month2+month3+month4+month5+month6+month7+month8+month9+month10+month11+month12', data=movie)\n",
        "results_aii = reg_aii.fit(cov_type='HC1')\n",
        "print(results_aii.summary())\n",
        "\n",
        "f_test = results_aii.f_test(['month2=0','month3=0','month4=0','month5=0','month6=0','month7=0','month8=0','month9=0','month10=0','month11=0','month12=0'])\n",
        "f_test.pvalue"
      ],
      "execution_count": 8,
      "outputs": [
        {
          "output_type": "stream",
          "text": [
            "                            OLS Regression Results                            \n",
            "==============================================================================\n",
            "Dep. Variable:                 attend   R-squared:                       0.480\n",
            "Model:                            OLS   Adj. R-squared:                  0.459\n",
            "Method:                 Least Squares   F-statistic:                     42.91\n",
            "Date:                Fri, 09 Apr 2021   Prob (F-statistic):           1.56e-94\n",
            "Time:                        07:36:14   Log-Likelihood:                -1383.6\n",
            "No. Observations:                 516   AIC:                             2809.\n",
            "Df Residuals:                     495   BIC:                             2898.\n",
            "Df Model:                          20                                         \n",
            "Covariance Type:                  HC1                                         \n",
            "==============================================================================\n",
            "                 coef    std err          z      P>|z|      [0.025      0.975]\n",
            "------------------------------------------------------------------------------\n",
            "Intercept     16.0396      0.746     21.492      0.000      14.577      17.502\n",
            "year2          0.8972      0.764      1.175      0.240      -0.600       2.394\n",
            "year3          2.0311      0.763      2.661      0.008       0.535       3.527\n",
            "year4          3.3991      0.725      4.687      0.000       1.978       4.821\n",
            "year5          2.9515      0.722      4.086      0.000       1.536       4.367\n",
            "year6          2.5120      0.701      3.583      0.000       1.138       3.886\n",
            "year7          3.1224      0.749      4.171      0.000       1.655       4.590\n",
            "year8          5.0412      0.750      6.726      0.000       3.572       6.510\n",
            "year9          4.4057      0.708      6.226      0.000       3.019       5.793\n",
            "year10         3.7276      0.697      5.349      0.000       2.362       5.094\n",
            "month2        -0.6613      0.701     -0.943      0.346      -2.035       0.713\n",
            "month3        -2.1685      0.596     -3.641      0.000      -3.336      -1.001\n",
            "month4        -3.4033      0.581     -5.853      0.000      -4.543      -2.264\n",
            "month5         0.9224      0.927      0.995      0.320      -0.895       2.739\n",
            "month6         2.9167      0.730      3.995      0.000       1.486       4.348\n",
            "month7         5.3937      0.695      7.757      0.000       4.031       6.757\n",
            "month8         1.2123      0.770      1.573      0.116      -0.298       2.722\n",
            "month9        -5.4252      0.616     -8.806      0.000      -6.633      -4.218\n",
            "month10       -3.3259      0.558     -5.959      0.000      -4.420      -2.232\n",
            "month11        3.8795      0.843      4.600      0.000       2.227       5.532\n",
            "month12        0.6774      1.085      0.624      0.532      -1.450       2.804\n",
            "==============================================================================\n",
            "Omnibus:                       69.939   Durbin-Watson:                   1.439\n",
            "Prob(Omnibus):                  0.000   Jarque-Bera (JB):              126.992\n",
            "Skew:                           0.808   Prob(JB):                     2.65e-28\n",
            "Kurtosis:                       4.816   Cond. No.                         13.5\n",
            "==============================================================================\n",
            "\n",
            "Notes:\n",
            "[1] Standard Errors are heteroscedasticity robust (HC1)\n"
          ],
          "name": "stdout"
        },
        {
          "output_type": "execute_result",
          "data": {
            "text/plain": [
              "array(2.32251358e-82)"
            ]
          },
          "metadata": {
            "tags": []
          },
          "execution_count": 8
        }
      ]
    },
    {
      "cell_type": "markdown",
      "metadata": {
        "id": "7_kqMj-TjwCC"
      },
      "source": [
        "$\\alpha = 0.1, Pvalue=0.00 < \\alpha \\Rightarrow$ $attend$ 與 $month$ 有顯著關係。(6、7、8、11月偏高)"
      ]
    },
    {
      "cell_type": "markdown",
      "metadata": {
        "id": "yCjG77RvRcuD"
      },
      "source": [
        "## E12.2-b"
      ]
    },
    {
      "cell_type": "markdown",
      "metadata": {
        "id": "_EXrS8s0SYJZ"
      },
      "source": [
        "### E12.2-b(i)"
      ]
    },
    {
      "cell_type": "code",
      "metadata": {
        "id": "cNr_vL7DSc01",
        "colab": {
          "base_uri": "https://localhost:8080/"
        },
        "outputId": "fb96978e-b7ea-4821-e834-ee956fa24a40"
      },
      "source": [
        "reg_bi = smf.ols(formula='ln_assaults~attend_v+attend_m+attend_n+year2+year3+year4+year5+year6+year7+year8+year9+year10+month2+month3+month4+month5+month6+month7+month8+month9+month10+month11+month12+h_chris+h_newyr+h_easter+h_july4+h_mem+h_labor+w_rain+w_snow+w_maxa+w_maxb+w_maxc+w_mina+w_minb+w_minc', data=movie)\n",
        "results_bi = reg_bi.fit(cov_type='HC1')\n",
        "print(results_bi.summary())"
      ],
      "execution_count": 9,
      "outputs": [
        {
          "output_type": "stream",
          "text": [
            "                            OLS Regression Results                            \n",
            "==============================================================================\n",
            "Dep. Variable:            ln_assaults   R-squared:                       0.996\n",
            "Model:                            OLS   Adj. R-squared:                  0.996\n",
            "Method:                 Least Squares   F-statistic:                     3166.\n",
            "Date:                Fri, 09 Apr 2021   Prob (F-statistic):               0.00\n",
            "Time:                        07:36:14   Log-Likelihood:                 924.66\n",
            "No. Observations:                 516   AIC:                            -1773.\n",
            "Df Residuals:                     478   BIC:                            -1612.\n",
            "Df Model:                          37                                         \n",
            "Covariance Type:                  HC1                                         \n",
            "==============================================================================\n",
            "                 coef    std err          z      P>|z|      [0.025      0.975]\n",
            "------------------------------------------------------------------------------\n",
            "Intercept      6.9143      0.020    346.987      0.000       6.875       6.953\n",
            "attend_v      -0.0032      0.001     -3.139      0.002      -0.005      -0.001\n",
            "attend_m      -0.0031      0.001     -4.482      0.000      -0.005      -0.002\n",
            "attend_n      -0.0021      0.001     -2.843      0.004      -0.004      -0.001\n",
            "year2          0.7008      0.010     71.498      0.000       0.682       0.720\n",
            "year3          1.0171      0.010    101.249      0.000       0.997       1.037\n",
            "year4          1.2267      0.010    124.052      0.000       1.207       1.246\n",
            "year5          1.3891      0.011    122.272      0.000       1.367       1.411\n",
            "year6          1.6883      0.009    183.708      0.000       1.670       1.706\n",
            "year7          1.8395      0.010    188.315      0.000       1.820       1.859\n",
            "year8          1.8984      0.010    182.056      0.000       1.878       1.919\n",
            "year9          1.9501      0.010    186.579      0.000       1.930       1.971\n",
            "year10         2.0721      0.011    197.130      0.000       2.052       2.093\n",
            "month2        -0.0073      0.012     -0.584      0.559      -0.032       0.017\n",
            "month3         0.0126      0.012      1.007      0.314      -0.012       0.037\n",
            "month4         0.0019      0.015      0.121      0.903      -0.028       0.032\n",
            "month5         0.0079      0.016      0.500      0.617      -0.023       0.039\n",
            "month6        -0.0290      0.017     -1.733      0.083      -0.062       0.004\n",
            "month7        -0.0343      0.017     -1.969      0.049      -0.069      -0.000\n",
            "month8        -0.0385      0.017     -2.212      0.027      -0.073      -0.004\n",
            "month9        -0.0129      0.018     -0.713      0.476      -0.048       0.022\n",
            "month10       -0.0025      0.017     -0.149      0.882      -0.035       0.030\n",
            "month11       -0.0432      0.013     -3.206      0.001      -0.070      -0.017\n",
            "month12       -0.0305      0.017     -1.768      0.077      -0.064       0.003\n",
            "h_chris       -0.0879      0.034     -2.558      0.011      -0.155      -0.021\n",
            "h_newyr        0.2453      0.111      2.204      0.028       0.027       0.463\n",
            "h_easter      -0.0369      0.014     -2.671      0.008      -0.064      -0.010\n",
            "h_july4        0.0352      0.015      2.363      0.018       0.006       0.064\n",
            "h_mem          0.0059      0.012      0.505      0.613      -0.017       0.029\n",
            "h_labor        0.0241      0.011      2.232      0.026       0.003       0.045\n",
            "w_rain        -0.0323      0.012     -2.683      0.007      -0.056      -0.009\n",
            "w_snow        -0.0612      0.042     -1.450      0.147      -0.144       0.022\n",
            "w_maxa         0.1099      0.011      9.834      0.000       0.088       0.132\n",
            "w_maxb         0.1107      0.014      8.006      0.000       0.084       0.138\n",
            "w_maxc         0.0423      0.044      0.960      0.337      -0.044       0.129\n",
            "w_mina        -0.3405      0.058     -5.909      0.000      -0.453      -0.228\n",
            "w_minb        -0.1725      0.038     -4.591      0.000      -0.246      -0.099\n",
            "w_minc        -0.1196      0.018     -6.489      0.000      -0.156      -0.083\n",
            "==============================================================================\n",
            "Omnibus:                      126.823   Durbin-Watson:                   1.917\n",
            "Prob(Omnibus):                  0.000   Jarque-Bera (JB):             1910.561\n",
            "Skew:                          -0.612   Prob(JB):                         0.00\n",
            "Kurtosis:                      12.347   Cond. No.                         474.\n",
            "==============================================================================\n",
            "\n",
            "Notes:\n",
            "[1] Standard Errors are heteroscedasticity robust (HC1)\n"
          ],
          "name": "stdout"
        }
      ]
    },
    {
      "cell_type": "markdown",
      "metadata": {
        "id": "LCewHHxJj71j"
      },
      "source": [
        "Coef. of $attend\\_v$: $-0.32%$, $attend\\_v$ 增加一單位, $ln\\_assaults$ 將 $-0.32\\%$\n",
        "\n",
        "$\\alpha = 0.1, Pvalue=0.00 < \\alpha \\Rightarrow$ $attend\\_v$ 對 $ln\\_assaults$ 的影響顯著異於零"
      ]
    },
    {
      "cell_type": "markdown",
      "metadata": {
        "id": "T8dH0gIjTA48"
      },
      "source": [
        "### E12.2-b(ii)"
      ]
    },
    {
      "cell_type": "code",
      "metadata": {
        "id": "y1OKFEEpUln_",
        "colab": {
          "base_uri": "https://localhost:8080/"
        },
        "outputId": "0236e28f-13b7-4196-b257-c3cf100ff3db"
      },
      "source": [
        "f_test = results_bi.f_test(['attend_v=attend_m'])\n",
        "print(f_test)"
      ],
      "execution_count": 10,
      "outputs": [
        {
          "output_type": "stream",
          "text": [
            "<F test: F=array([[0.00143182]]), p=0.9698315067888446, df_denom=478, df_num=1>\n"
          ],
          "name": "stdout"
        }
      ]
    },
    {
      "cell_type": "markdown",
      "metadata": {
        "id": "JO_acq7xkaMo"
      },
      "source": [
        "$\\alpha = 0.1, Pvalue=0.97 > \\alpha \\Rightarrow$ 兩者無顯著差異"
      ]
    },
    {
      "cell_type": "code",
      "metadata": {
        "id": "l-di9FzOVxoP",
        "colab": {
          "base_uri": "https://localhost:8080/"
        },
        "outputId": "ae54e86d-c1f6-4a5d-ab3e-5c23fab91745"
      },
      "source": [
        "f_test = results_bi.f_test(['attend_v=attend_n'])\n",
        "print(f_test)"
      ],
      "execution_count": 11,
      "outputs": [
        {
          "output_type": "stream",
          "text": [
            "<F test: F=array([[1.63178954]]), p=0.20207580002483425, df_denom=478, df_num=1>\n"
          ],
          "name": "stdout"
        }
      ]
    },
    {
      "cell_type": "markdown",
      "metadata": {
        "id": "--hRcHBBAwxp"
      },
      "source": [
        "$\\alpha = 0.1, Pvalue=0.20 > \\alpha \\Rightarrow$ 兩者無顯著差異"
      ]
    },
    {
      "cell_type": "markdown",
      "metadata": {
        "id": "UqGTRoVvWx9M"
      },
      "source": [
        "### E12.2-b(iii)"
      ]
    },
    {
      "cell_type": "code",
      "metadata": {
        "colab": {
          "base_uri": "https://localhost:8080/",
          "height": 78
        },
        "id": "pqGmA27NWQNj",
        "outputId": "1c2d92c5-5036-44eb-b572-26db7e047914"
      },
      "source": [
        "t_test = results_bi.t_test(['6*attend_v-2*attend_m-1*attend_n=0'])\n",
        "t_test.summary(xname=['attend'], alpha=0.05, title='Effect on Assaults')"
      ],
      "execution_count": 12,
      "outputs": [
        {
          "output_type": "execute_result",
          "data": {
            "text/html": [
              "<table class=\"simpletable\">\n",
              "<caption>Effect on Assaults</caption>\n",
              "<tr>\n",
              "     <td></td>       <th>coef</th>     <th>std err</th>      <th>z</th>      <th>P>|z|</th>  <th>[0.025</th>    <th>0.975]</th>  \n",
              "</tr>\n",
              "<tr>\n",
              "  <th>attend</th> <td>   -0.0106</td> <td>    0.005</td> <td>   -2.125</td> <td> 0.034</td> <td>   -0.020</td> <td>   -0.001</td>\n",
              "</tr>\n",
              "</table>"
            ],
            "text/plain": [
              "<class 'statsmodels.iolib.table.SimpleTable'>"
            ]
          },
          "metadata": {
            "tags": []
          },
          "execution_count": 12
        }
      ]
    },
    {
      "cell_type": "markdown",
      "metadata": {
        "id": "Xcmiar78kusg"
      },
      "source": [
        "Predicted effect on assaults: $-1.06\\%$\n",
        "\n",
        "$95\\%$ 信賴區間: $\\left[ -2\\%, -0.1\\% \\right]$"
      ]
    },
    {
      "cell_type": "markdown",
      "metadata": {
        "id": "E0xvrJdFevHN"
      },
      "source": [
        "## E12.2-c"
      ]
    },
    {
      "cell_type": "markdown",
      "metadata": {
        "id": "MPXmSVNnhuhD"
      },
      "source": [
        "### E12.2-c(i)"
      ]
    },
    {
      "cell_type": "code",
      "metadata": {
        "id": "ikR1gG0wO3UY",
        "colab": {
          "base_uri": "https://localhost:8080/"
        },
        "outputId": "afcc23b1-793b-4fc4-a416-abe848496a8a"
      },
      "source": [
        "reg_ci = iv.IV2SLS.from_formula(formula='ln_assaults~1+[attend_v+attend_m+attend_n~pr_attend_v+pr_attend_m+pr_attend_n]+year2+year3+year4+year5+year6+year7+year8+year9+year10+month2+month3+month4+month5+month6+month7+month8+month9+month10+month11+month12+h_chris+h_newyr+h_easter+h_july4+h_mem+h_labor+w_rain+w_snow+w_maxa+w_maxb+w_maxc+w_mina+w_minb+w_minc', data=movie)\n",
        "results_ci = reg_ci.fit(cov_type='robust', debiased=True)\n",
        "print(results_ci.summary)"
      ],
      "execution_count": 13,
      "outputs": [
        {
          "output_type": "stream",
          "text": [
            "                          IV-2SLS Estimation Summary                          \n",
            "==============================================================================\n",
            "Dep. Variable:            ln_assaults   R-squared:                      0.9959\n",
            "Estimator:                    IV-2SLS   Adj. R-squared:                 0.9956\n",
            "No. Observations:                 516   F-statistic:                    3121.8\n",
            "Date:                Fri, Apr 09 2021   P-value (F-stat)                0.0000\n",
            "Time:                        07:36:14   Distribution:                F(37,478)\n",
            "Cov. Estimator:                robust                                         \n",
            "                                                                              \n",
            "                             Parameter Estimates                              \n",
            "==============================================================================\n",
            "            Parameter  Std. Err.     T-stat    P-value    Lower CI    Upper CI\n",
            "------------------------------------------------------------------------------\n",
            "Intercept      6.9242     0.0187     370.24     0.0000      6.8874      6.9609\n",
            "year2          0.7019     0.0098     71.630     0.0000      0.6827      0.7212\n",
            "year3          1.0192     0.0100     101.97     0.0000      0.9995      1.0388\n",
            "year4          1.2293     0.0099     124.69     0.0000      1.2100      1.2487\n",
            "year5          1.3910     0.0111     125.85     0.0000      1.3693      1.4127\n",
            "year6          1.6902     0.0092     183.41     0.0000      1.6721      1.7083\n",
            "year7          1.8422     0.0097     189.46     0.0000      1.8231      1.8614\n",
            "year8          1.9023     0.0104     183.51     0.0000      1.8819      1.9227\n",
            "year9          1.9535     0.0102     191.48     0.0000      1.9335      1.9735\n",
            "year10         2.0750     0.0103     200.57     0.0000      2.0547      2.0954\n",
            "month2        -0.0078     0.0125    -0.6226     0.5338     -0.0323      0.0167\n",
            "month3         0.0111     0.0122     0.9092     0.3637     -0.0129      0.0351\n",
            "month4        -0.0005     0.0149    -0.0359     0.9714     -0.0298      0.0287\n",
            "month5         0.0077     0.0156     0.4927     0.6225     -0.0230      0.0384\n",
            "month6        -0.0269     0.0171    -1.5784     0.1151     -0.0605      0.0066\n",
            "month7        -0.0307     0.0179    -1.7133     0.0873     -0.0660      0.0045\n",
            "month8        -0.0378     0.0174    -2.1731     0.0303     -0.0720     -0.0036\n",
            "month9        -0.0163     0.0174    -0.9353     0.3501     -0.0505      0.0179\n",
            "month10       -0.0045     0.0163    -0.2750     0.7834     -0.0365      0.0275\n",
            "month11       -0.0408     0.0142    -2.8709     0.0043     -0.0687     -0.0129\n",
            "month12       -0.0310     0.0174    -1.7842     0.0750     -0.0651      0.0031\n",
            "h_chris       -0.0840     0.0346    -2.4236     0.0157     -0.1521     -0.0159\n",
            "h_newyr        0.2511     0.1105     2.2731     0.0235      0.0340      0.4681\n",
            "h_easter      -0.0358     0.0138    -2.5956     0.0097     -0.0628     -0.0087\n",
            "h_july4        0.0349     0.0152     2.2977     0.0220      0.0051      0.0647\n",
            "h_mem          0.0112     0.0118     0.9513     0.3419     -0.0120      0.0344\n",
            "h_labor        0.0236     0.0108     2.1860     0.0293      0.0024      0.0448\n",
            "w_rain        -0.0317     0.0120    -2.6318     0.0088     -0.0553     -0.0080\n",
            "w_snow        -0.0600     0.0426    -1.4093     0.1594     -0.1436      0.0236\n",
            "w_maxa         0.1101     0.0112     9.7935     0.0000      0.0880      0.1322\n",
            "w_maxb         0.1124     0.0140     8.0429     0.0000      0.0849      0.1398\n",
            "w_maxc         0.0469     0.0441     1.0627     0.2885     -0.0398      0.1336\n",
            "w_mina        -0.3440     0.0583    -5.9035     0.0000     -0.4585     -0.2295\n",
            "w_minb        -0.1735     0.0375    -4.6231     0.0000     -0.2473     -0.0998\n",
            "w_minc        -0.1178     0.0185    -6.3635     0.0000     -0.1542     -0.0814\n",
            "attend_v      -0.0039     0.0010    -3.9352     0.0001     -0.0058     -0.0019\n",
            "attend_m      -0.0039     0.0008    -5.1007     0.0000     -0.0054     -0.0024\n",
            "attend_n      -0.0027     0.0008    -3.5525     0.0004     -0.0042     -0.0012\n",
            "==============================================================================\n",
            "\n",
            "Endogenous: attend_v, attend_m, attend_n\n",
            "Instruments: pr_attend_v, pr_attend_m, pr_attend_n\n",
            "Robust Covariance (Heteroskedastic)\n",
            "Debiased: True\n"
          ],
          "name": "stdout"
        }
      ]
    },
    {
      "cell_type": "markdown",
      "metadata": {
        "id": "qM6XnaYsll_w"
      },
      "source": [
        "Coef. of $attend\\_v$: $-0.39\\%$, $attend\\_v$ 增加一單位, $ln\\_assaults$ 將 $-0.39\\%$\n",
        "\n",
        "$\\alpha = 0.1, Pvalue= 0.00 < \\alpha \\Rightarrow$ $attend\\_v$ 對 $ln\\_assaults$ 的影響顯著異於零"
      ]
    },
    {
      "cell_type": "markdown",
      "metadata": {
        "id": "9fztTPSjjLzc"
      },
      "source": [
        "### E12.2-c(ii)"
      ]
    },
    {
      "cell_type": "code",
      "metadata": {
        "id": "Jx0WHwxIUWFO"
      },
      "source": [
        "# iv.IV2SLS 好似無 partial F test\n",
        "# 改用 Statsmodels....IV2SLS, 但似乎無法調整 robust\n",
        "endog = movie['ln_assaults']\n",
        "exog = movie[['constant','attend_v','attend_m','attend_n','year2','year3','year4','year5','year6','year7','year8','year9','year10','month2','month3','month4','month5','month6','month7','month8','month9','month10','month11','month12','h_chris','h_newyr','h_easter','h_july4','h_mem','h_labor','w_maxa','w_maxb','w_maxc','w_mina','w_minb','w_minc','w_rain','w_snow']]\n",
        "instrument = movie[['constant','pr_attend_v','pr_attend_m','pr_attend_n','year2','year3','year4','year5','year6','year7','year8','year9','year10','month2','month3','month4','month5','month6','month7','month8','month9','month10','month11','month12','h_chris','h_newyr','h_easter','h_july4','h_mem','h_labor','w_maxa','w_maxb','w_maxc','w_mina','w_minb','w_minc','w_rain','w_snow']]\n",
        "\n",
        "results_ci = IV2SLS(endog=endog,exog=exog,instrument=instrument).fit()  # 似乎尚無法調整 robust ..."
      ],
      "execution_count": 14,
      "outputs": []
    },
    {
      "cell_type": "code",
      "metadata": {
        "id": "0I-jQrrs695j",
        "colab": {
          "base_uri": "https://localhost:8080/"
        },
        "outputId": "3ddf0af1-9eac-4221-ae70-e7f343c6f096"
      },
      "source": [
        "f_test = results_ci.f_test(['attend_v=attend_m'])\n",
        "print(f_test)"
      ],
      "execution_count": 15,
      "outputs": [
        {
          "output_type": "stream",
          "text": [
            "<F test: F=array([[0.00041368]]), p=0.9837812840120339, df_denom=478, df_num=1>\n"
          ],
          "name": "stdout"
        }
      ]
    },
    {
      "cell_type": "markdown",
      "metadata": {
        "id": "8Xv3Q8rgl7K-"
      },
      "source": [
        "$\\alpha = 0.1, Pvalue=0.98 > \\alpha \\Rightarrow$ 兩者統計上無顯著差異。"
      ]
    },
    {
      "cell_type": "code",
      "metadata": {
        "id": "XNKGoV8pjxMF",
        "colab": {
          "base_uri": "https://localhost:8080/"
        },
        "outputId": "54fd9c21-7dce-47a6-f0e8-67bc6d611187"
      },
      "source": [
        "f_test = results_ci.f_test(['attend_v=attend_n'])\n",
        "print(f_test)"
      ],
      "execution_count": 16,
      "outputs": [
        {
          "output_type": "stream",
          "text": [
            "<F test: F=array([[1.34367722]]), p=0.24696525542942116, df_denom=478, df_num=1>\n"
          ],
          "name": "stdout"
        }
      ]
    },
    {
      "cell_type": "markdown",
      "metadata": {
        "id": "LCaPPfDkmHAD"
      },
      "source": [
        "$\\alpha = 0.1, Pvalue=0.25 > \\alpha \\Rightarrow$ 兩者統計上無顯著差異。"
      ]
    },
    {
      "cell_type": "markdown",
      "metadata": {
        "id": "O2Evr8fZi5Wz"
      },
      "source": [
        "### E12.2-c(iii)"
      ]
    },
    {
      "cell_type": "code",
      "metadata": {
        "id": "M5EPfknah0ga",
        "colab": {
          "base_uri": "https://localhost:8080/",
          "height": 78
        },
        "outputId": "ea831e58-0a39-4b0a-953a-39bc1f0023aa"
      },
      "source": [
        "t_test = results_ci.t_test(['6*attend_v-2*attend_m-1*attend_n=0'])\n",
        "t_test.summary(xname=['attend'], alpha=0.05, title='Effect on Assaults')"
      ],
      "execution_count": 17,
      "outputs": [
        {
          "output_type": "execute_result",
          "data": {
            "text/html": [
              "<table class=\"simpletable\">\n",
              "<caption>Effect on Assaults</caption>\n",
              "<tr>\n",
              "     <td></td>       <th>coef</th>     <th>std err</th>      <th>t</th>      <th>P>|t|</th>  <th>[0.025</th>    <th>0.975]</th>  \n",
              "</tr>\n",
              "<tr>\n",
              "  <th>attend</th> <td>   -0.0127</td> <td>    0.006</td> <td>   -2.232</td> <td> 0.026</td> <td>   -0.024</td> <td>   -0.002</td>\n",
              "</tr>\n",
              "</table>"
            ],
            "text/plain": [
              "<class 'statsmodels.iolib.table.SimpleTable'>"
            ]
          },
          "metadata": {
            "tags": []
          },
          "execution_count": 17
        }
      ]
    },
    {
      "cell_type": "markdown",
      "metadata": {
        "id": "9mngrx01mQ7F"
      },
      "source": [
        "Predicted effect on assaults: $-1.27\\%$\n",
        "\n",
        "$95\\%$ 信賴區間: $\\left[ -2.4\\%, -0.2\\% \\right]$"
      ]
    },
    {
      "cell_type": "markdown",
      "metadata": {
        "id": "h0aicQ_jWyIT"
      },
      "source": [
        "## E12.2-d"
      ]
    },
    {
      "cell_type": "markdown",
      "metadata": {
        "id": "CEu_Jahq0KZi"
      },
      "source": [
        "### E12.2-d(i)"
      ]
    },
    {
      "cell_type": "code",
      "metadata": {
        "id": "dM5yV8fBRQ00",
        "colab": {
          "base_uri": "https://localhost:8080/"
        },
        "outputId": "433391f7-9110-4dd4-da19-17b4d9fdc321"
      },
      "source": [
        "reg_di = iv.IV2SLS.from_formula(formula='ln_assaults~1+[attend_v+attend_m+attend_n~attend_v_f+attend_m_f+attend_n_f+attend_v_b+attend_m_b+attend_n_b]+year2+year3+year4+year5+year6+year7+year8+year9+year10+month2+month3+month4+month5+month6+month7+month8+month9+month10+month11+month12+h_chris+h_newyr+h_easter+h_july4+h_mem+h_labor+w_rain+w_snow+w_maxa+w_maxb+w_maxc+w_mina+w_minb+w_minc', data=movie)\n",
        "results_di = reg_di.fit(cov_type='robust', debiased=True)\n",
        "print(results_di.summary)"
      ],
      "execution_count": 18,
      "outputs": [
        {
          "output_type": "stream",
          "text": [
            "                          IV-2SLS Estimation Summary                          \n",
            "==============================================================================\n",
            "Dep. Variable:            ln_assaults   R-squared:                      0.9959\n",
            "Estimator:                    IV-2SLS   Adj. R-squared:                 0.9956\n",
            "No. Observations:                 516   F-statistic:                    3113.3\n",
            "Date:                Fri, Apr 09 2021   P-value (F-stat)                0.0000\n",
            "Time:                        07:36:14   Distribution:                F(37,478)\n",
            "Cov. Estimator:                robust                                         \n",
            "                                                                              \n",
            "                             Parameter Estimates                              \n",
            "==============================================================================\n",
            "            Parameter  Std. Err.     T-stat    P-value    Lower CI    Upper CI\n",
            "------------------------------------------------------------------------------\n",
            "Intercept      6.9225     0.0291     238.04     0.0000      6.8654      6.9797\n",
            "year2          0.7025     0.0098     71.932     0.0000      0.6833      0.7217\n",
            "year3          1.0195     0.0100     102.35     0.0000      0.9999      1.0390\n",
            "year4          1.2300     0.0096     127.77     0.0000      1.2111      1.2489\n",
            "year5          1.3912     0.0105     132.55     0.0000      1.3706      1.4119\n",
            "year6          1.6906     0.0092     184.44     0.0000      1.6726      1.7086\n",
            "year7          1.8436     0.0096     192.65     0.0000      1.8248      1.8624\n",
            "year8          1.9044     0.0106     180.23     0.0000      1.8837      1.9252\n",
            "year9          1.9537     0.0107     182.50     0.0000      1.9326      1.9747\n",
            "year10         2.0750     0.0106     195.90     0.0000      2.0542      2.0958\n",
            "month2        -0.0084     0.0123    -0.6834     0.4947     -0.0325      0.0157\n",
            "month3         0.0107     0.0119     0.9001     0.3685     -0.0127      0.0342\n",
            "month4        -0.0006     0.0151    -0.0396     0.9685     -0.0303      0.0291\n",
            "month5         0.0094     0.0157     0.5951     0.5521     -0.0216      0.0403\n",
            "month6        -0.0261     0.0171    -1.5307     0.1265     -0.0597      0.0074\n",
            "month7        -0.0309     0.0182    -1.6969     0.0904     -0.0667      0.0049\n",
            "month8        -0.0379     0.0170    -2.2259     0.0265     -0.0714     -0.0044\n",
            "month9        -0.0162     0.0185    -0.8783     0.3802     -0.0525      0.0201\n",
            "month10       -0.0052     0.0164    -0.3152     0.7527     -0.0374      0.0270\n",
            "month11       -0.0420     0.0163    -2.5804     0.0102     -0.0740     -0.0100\n",
            "month12       -0.0309     0.0170    -1.8140     0.0703     -0.0644      0.0026\n",
            "h_chris       -0.0846     0.0332    -2.5465     0.0112     -0.1500     -0.0193\n",
            "h_newyr        0.2507     0.1065     2.3536     0.0190      0.0414      0.4600\n",
            "h_easter      -0.0353     0.0141    -2.5077     0.0125     -0.0629     -0.0076\n",
            "h_july4        0.0359     0.0154     2.3296     0.0202      0.0056      0.0662\n",
            "h_mem          0.0115     0.0159     0.7222     0.4705     -0.0198      0.0428\n",
            "h_labor        0.0237     0.0109     2.1785     0.0299      0.0023      0.0451\n",
            "w_rain        -0.0323     0.0119    -2.7286     0.0066     -0.0556     -0.0091\n",
            "w_snow        -0.0594     0.0434    -1.3680     0.1719     -0.1447      0.0259\n",
            "w_maxa         0.1100     0.0113     9.7231     0.0000      0.0878      0.1323\n",
            "w_maxb         0.1116     0.0152     7.3270     0.0000      0.0816      0.1415\n",
            "w_maxc         0.0467     0.0464     1.0072     0.3144     -0.0444      0.1379\n",
            "w_mina        -0.3461     0.0597    -5.7953     0.0000     -0.4634     -0.2287\n",
            "w_minb        -0.1730     0.0373    -4.6369     0.0000     -0.2463     -0.0997\n",
            "w_minc        -0.1177     0.0180    -6.5380     0.0000     -0.1531     -0.0824\n",
            "attend_v      -0.0032     0.0019    -1.6301     0.1037     -0.0070      0.0007\n",
            "attend_m      -0.0041     0.0013    -3.1967     0.0015     -0.0067     -0.0016\n",
            "attend_n      -0.0026     0.0018    -1.4561     0.1460     -0.0061      0.0009\n",
            "==============================================================================\n",
            "\n",
            "Endogenous: attend_v, attend_m, attend_n\n",
            "Instruments: attend_v_f, attend_m_f, attend_n_f, attend_v_b, attend_m_b, attend_n_b\n",
            "Robust Covariance (Heteroskedastic)\n",
            "Debiased: True\n"
          ],
          "name": "stdout"
        }
      ]
    },
    {
      "cell_type": "markdown",
      "metadata": {
        "id": "_Y-0Q2fcmy85"
      },
      "source": [
        "Coef. of $attend\\_v$: $-0.32\\%$, $attend\\_v$ 增加一單位, $ln\\_assaults$ 將 $-0.32\\%$\n",
        "\n",
        "$\\alpha = 0.1, Pvalue= 0.1037 > \\alpha \\Rightarrow$ $attend\\_v$ 對 $ln\\_assaults$ 無顯著影響"
      ]
    },
    {
      "cell_type": "markdown",
      "metadata": {
        "id": "DRLMvj-_1QM_"
      },
      "source": [
        "### E12.2-d(ii)"
      ]
    },
    {
      "cell_type": "code",
      "metadata": {
        "id": "Nxw6DKJjFO0m"
      },
      "source": [
        "# iv.IV2SLS 好似無 partial F test\n",
        "# 改用 Statsmodels....IV2SLS, 但似乎無法調整 robust\n",
        "exog = movie[['constant','attend_v','attend_m','attend_n','year2','year3','year4','year5','year6','year7','year8','year9','year10','month2','month3','month4','month5','month6','month7','month8','month9','month10','month11','month12','h_chris','h_newyr','h_easter','h_july4','h_mem','h_labor','w_maxa','w_maxb','w_maxc','w_mina','w_minb','w_minc','w_rain','w_snow']]\n",
        "instrument = movie[['constant','attend_v_f','attend_m_f','attend_n_f','attend_v_b','attend_m_b','attend_n_b','year2','year3','year4','year5','year6','year7','year8','year9','year10','month2','month3','month4','month5','month6','month7','month8','month9','month10','month11','month12','h_chris','h_newyr','h_easter','h_july4','h_mem','h_labor','w_maxa','w_maxb','w_maxc','w_mina','w_minb','w_minc','w_rain','w_snow']]\n",
        "\n",
        "results_di = IV2SLS(endog=endog,exog=exog,instrument=instrument).fit()"
      ],
      "execution_count": 19,
      "outputs": []
    },
    {
      "cell_type": "code",
      "metadata": {
        "id": "vaOwdg3cGDg6",
        "colab": {
          "base_uri": "https://localhost:8080/"
        },
        "outputId": "7b178726-c59c-492b-c9d9-72ab9e00821d"
      },
      "source": [
        "f_test = results_di.f_test(['attend_v=attend_m'])\n",
        "print(f_test)"
      ],
      "execution_count": 20,
      "outputs": [
        {
          "output_type": "stream",
          "text": [
            "<F test: F=array([[0.37994427]]), p=0.5379264960024015, df_denom=478, df_num=1>\n"
          ],
          "name": "stdout"
        }
      ]
    },
    {
      "cell_type": "markdown",
      "metadata": {
        "id": "znuPctXqnD9e"
      },
      "source": [
        "$\\alpha = 0.1, Pvalue= 0.54 > \\alpha \\Rightarrow$ 兩者統計上無顯著差異。"
      ]
    },
    {
      "cell_type": "code",
      "metadata": {
        "id": "8h3k3MbV1W7t",
        "colab": {
          "base_uri": "https://localhost:8080/"
        },
        "outputId": "6362d14e-8ff2-47b6-b2dd-7aa78a6edb11"
      },
      "source": [
        "f_test = results_di.f_test(['attend_v=attend_n'])\n",
        "print(f_test)"
      ],
      "execution_count": 21,
      "outputs": [
        {
          "output_type": "stream",
          "text": [
            "<F test: F=array([[0.17517543]]), p=0.6757405981234799, df_denom=478, df_num=1>\n"
          ],
          "name": "stdout"
        }
      ]
    },
    {
      "cell_type": "markdown",
      "metadata": {
        "id": "K6jXrVw_nGTq"
      },
      "source": [
        "$\\alpha = 0.1, Pvalue= 0.68 > \\alpha \\Rightarrow$ 兩者統計上無顯著差異。"
      ]
    },
    {
      "cell_type": "markdown",
      "metadata": {
        "id": "IJ-y043S1ePx"
      },
      "source": [
        "### E12.2-d(iii)"
      ]
    },
    {
      "cell_type": "code",
      "metadata": {
        "id": "iUQUdsXGDoAL",
        "colab": {
          "base_uri": "https://localhost:8080/",
          "height": 78
        },
        "outputId": "51e8bb94-d2e3-4de0-adb3-c22c54eb7a1b"
      },
      "source": [
        "t_test = results_di.t_test(['6*attend_v-2*attend_m-1*attend_n=0'])\n",
        "t_test.summary(xname=['attend'], alpha=0.05, title='Effect on Assaults')"
      ],
      "execution_count": 22,
      "outputs": [
        {
          "output_type": "execute_result",
          "data": {
            "text/html": [
              "<table class=\"simpletable\">\n",
              "<caption>Effect on Assaults</caption>\n",
              "<tr>\n",
              "     <td></td>       <th>coef</th>     <th>std err</th>      <th>t</th>      <th>P>|t|</th>  <th>[0.025</th>    <th>0.975]</th>  \n",
              "</tr>\n",
              "<tr>\n",
              "  <th>attend</th> <td>   -0.0082</td> <td>    0.010</td> <td>   -0.852</td> <td> 0.394</td> <td>   -0.027</td> <td>    0.011</td>\n",
              "</tr>\n",
              "</table>"
            ],
            "text/plain": [
              "<class 'statsmodels.iolib.table.SimpleTable'>"
            ]
          },
          "metadata": {
            "tags": []
          },
          "execution_count": 22
        }
      ]
    },
    {
      "cell_type": "markdown",
      "metadata": {
        "id": "sKjGgPjwnKYX"
      },
      "source": [
        "Predicted effect on assaults: $-0.82\\%$\n",
        "\n",
        "$95\\%$ 信賴區間: $\\left[ -2.7\\%, 1.1\\% \\right]$"
      ]
    },
    {
      "cell_type": "markdown",
      "metadata": {
        "id": "Cxpf2f6G1mAT"
      },
      "source": [
        "## E12.2-e"
      ]
    },
    {
      "cell_type": "code",
      "metadata": {
        "id": "DJ5SITMnHQZA",
        "colab": {
          "base_uri": "https://localhost:8080/"
        },
        "outputId": "7391077e-8195-4ce1-e98f-bd34d202ec3a"
      },
      "source": [
        "reg_e = iv.IV2SLS.from_formula(formula='ln_assaults~1+[attend_v+attend_m+attend_n~pr_attend_v+pr_attend_m+pr_attend_n+attend_v_f+attend_m_f+attend_n_f+attend_v_b+attend_m_b+attend_n_b]+year2+year3+year4+year5+year6+year7+year8+year9+year10+month2+month3+month4+month5+month6+month7+month8+month9+month10+month11+month12+h_chris+h_newyr+h_easter+h_july4+h_mem+h_labor+w_rain+w_snow+w_maxa+w_maxb+w_maxc+w_mina+w_minb+w_minc', data=movie)\n",
        "results_e = reg_e.fit(cov_type='robust')\n",
        "movie['e'] = results_e.resids\n",
        "\n",
        "j_test = smf.ols(formula='e~pr_attend_v+pr_attend_m+pr_attend_n+attend_v_f+attend_m_f+attend_n_f+attend_v_b+attend_m_b+attend_n_b', data=movie).fit()\n",
        "print('Overid. stat: {:.2f}'.format(j_test.fvalue*j_test.df_model))"
      ],
      "execution_count": 23,
      "outputs": [
        {
          "output_type": "stream",
          "text": [
            "Overid. stat: 8.11\n"
          ],
          "name": "stdout"
        }
      ]
    },
    {
      "cell_type": "markdown",
      "metadata": {
        "id": "sOZppCmXPzsb"
      },
      "source": [
        "j-stat: 8.11\n",
        "\n",
        "自由度為 $9 - 3 = 6$ 的卡方分配 $\\chi^2_{0.1}(6) = 10.645$,\n",
        "\n",
        "故無證據顯示這些工具變數違反Instrument Exogeneity。"
      ]
    },
    {
      "cell_type": "markdown",
      "metadata": {
        "id": "-MFmyPrN3hye"
      },
      "source": [
        "## E12.2-f"
      ]
    },
    {
      "cell_type": "markdown",
      "metadata": {
        "id": "neoOR-7OGJMZ"
      },
      "source": [
        "由上述分析可知，短期內, 看電影與暴力行為(如喝酒肇事)兩者互相替代，故無論看何種類型的電影，都可減少暴力事件發生。"
      ]
    }
  ]
}