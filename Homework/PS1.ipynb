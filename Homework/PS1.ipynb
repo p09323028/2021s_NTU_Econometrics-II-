{
  "nbformat": 4,
  "nbformat_minor": 0,
  "metadata": {
    "colab": {
      "name": "PS1.ipynb",
      "provenance": [],
      "collapsed_sections": [],
      "authorship_tag": "ABX9TyPi3FgGBfTF4hBrAAI7eJM2",
      "include_colab_link": true
    },
    "kernelspec": {
      "name": "python3",
      "display_name": "Python 3"
    },
    "language_info": {
      "name": "python"
    }
  },
  "cells": [
    {
      "cell_type": "markdown",
      "metadata": {
        "id": "view-in-github",
        "colab_type": "text"
      },
      "source": [
        "<a href=\"https://colab.research.google.com/github/p09323028/2021s_NTU_Econometrics_II/blob/main/Homework/PS1.ipynb\" target=\"_parent\"><img src=\"https://colab.research.google.com/assets/colab-badge.svg\" alt=\"Open In Colab\"/></a>"
      ]
    },
    {
      "cell_type": "markdown",
      "metadata": {
        "id": "rDhcq3d39VwM"
      },
      "source": [
        "# **經濟實證與預測二_ Homework 1**\n",
        "**Link:** https://tinyurl.com/vf2894aa"
      ]
    },
    {
      "cell_type": "markdown",
      "metadata": {
        "id": "JKk2llvr8q8y"
      },
      "source": [
        "**吳金擇, P09323028**\n",
        "\n",
        "**林婧筠, P09323026**\n",
        "\n",
        "**洪靜玟, P09323019**\n",
        "\n",
        "**林冠伭, P08323019**"
      ]
    },
    {
      "cell_type": "markdown",
      "metadata": {
        "id": "XYabIwXN_l3O"
      },
      "source": [
        "# **Exercise 11.8**\n",
        "Consider the linear probability model $Y_i = \\beta_0 + \\beta_1 X_i + u_i$, and assume that\n",
        "$E(u_i|X_i) = 0$.\n",
        "1. Show that $Pr(Y_i=1|\u001fX_i) = \\beta_0 + \\beta_1X_i$.\n",
        "2. Show that $Var(u_i|\u001fX_i) = \\left(\\beta_0 + \\beta_1 X_i \\right) \\left[1 - \\left( \\beta_0 + \\beta_1X_i \\right) \\right]$.\n",
        "[Hint: Review\n",
        "Equation (2.7).]\n",
        "3. Is $u_i$ heteroskedastic? Explain.\n",
        "4. (Requires Section 11.3) Derive the likelihood function.\n",
        "\n",
        "---"
      ]
    },
    {
      "cell_type": "markdown",
      "metadata": {
        "id": "BMw_r7OD-k6k"
      },
      "source": [
        "## 11.8-1\n",
        "\n",
        "$E(Y_i|X_i) = E(\\beta_0 + \\beta_1 X_i + u_i|X_i) = \\beta_0 + \\beta_1 X_i$\n",
        "\n",
        "若 $Y_i$ 為 binary variable, \n",
        "\n",
        "$E(Y_i|X_i) = P(Y_i=0|X_i) \\times 0 + P(Y_i=1|X_i) \\times 1$\n",
        "\n",
        "得 $P(Y_i=1|X_i) = \\beta_0 + \\beta_1 X_i$"
      ]
    },
    {
      "cell_type": "markdown",
      "metadata": {
        "id": "7fLoB-0kKPhN"
      },
      "source": [
        "## 11.8-2\n",
        "$Var(u_i|X_i)$\n",
        "\n",
        "$= (0 - \\beta_0 - \\beta_1 X_i)^2 \\times (1 - \\beta_0 - \\beta_1 X_i) + (1 - \\beta_0 - \\beta_1 X_i)^2 \\times (\\beta_0 + \\beta_1 X_i)$\n",
        "\n",
        "$= (\\beta_0 + \\beta_1 X_i)[1-(\\beta_0 + \\beta_1 X_i)]$"
      ]
    },
    {
      "cell_type": "markdown",
      "metadata": {
        "id": "Nsgj9385NtzA"
      },
      "source": [
        "## 11.8-3\n",
        "由 11.8-2 知 $Var(u_i|X_i)$ 隨 $X_i$ 而定， 故 $u_i$ 為 heteroskedastic。"
      ]
    },
    {
      "cell_type": "markdown",
      "metadata": {
        "id": "gdvYZxfMOXDe"
      },
      "source": [
        "## 11.8-4\n",
        "由 11.8-1 知 $P(Y_i=1|X_i) = \\beta_0 + \\beta_1 X_i$,\n",
        "\n",
        "若 $(Y_i, X_i)$ 為 $\\overset{i.i.d.}{\\sim}$ $f(Y_i|X_i)$,\n",
        "\n",
        "$Likelihood$ $Function:$\n",
        "\n",
        "$Pr(Y_1=y_1, ..., Y_n=y_n|X_1, ..., X_n)$\n",
        "\n",
        "$ = \\prod^n_{i=1}\\left[ Pr(Y_i=1|X_i) \\right]^{y_i} \\left[ Pr(Y_i=0|X_i) \\right]^{1-y_i}$\n",
        "\n",
        "$ = \\prod^n_{i=1} (\\beta_0 + \\beta_1 X_i)^{y_i} (1 - \\beta_0 - \\beta_1 X_i)^{1-y_i}$"
      ]
    },
    {
      "cell_type": "markdown",
      "metadata": {
        "id": "3JW7TC2FBXVE"
      },
      "source": [
        "# **Exercise 11.10**\n",
        "(Requires Section 11.3 and calculus) Suppose a random variable Y has the\n",
        "following probability distribution: $Pr(Y = 1) = p$, $Pr(Y = 2) = q$, and\n",
        "$Pr(Y = 3) = 1 - p - q$. A random sample of size n is drawn from this distribution,\n",
        "and the random variables are denoted $Y_1, Y_2,...,Y_n$.\n",
        "1. Derive the likelihood function for the parameters $p$ and $q$.\n",
        "2. Derive formulas for the MLE of $p$ and $q$.\n",
        "\n",
        "---"
      ]
    },
    {
      "cell_type": "markdown",
      "metadata": {
        "id": "HTbUzwYhSTxS"
      },
      "source": [
        "## 11.10-1\n",
        "令樣本中, Y 為 1 的出現次數為 $n_1$, Y 為 2 的出現次數為 $n_2$, Y 為 3 的出現次數為 $n_3 = n - n_1 - n_2$。\n",
        "\n",
        "$Pr(Y_1=y_1, ..., Y_n=y_n) = \\prod^n_{i=1} Pr(Y_i = y_i) = p^{n_1} q^{n_2} (1-p-q)^{n-n_1-n_2}$\n"
      ]
    },
    {
      "cell_type": "markdown",
      "metadata": {
        "id": "z04j_vRsT__n"
      },
      "source": [
        "## 11.10-2\n",
        "$L = \\text{ln}[Pr(Y_1=y_1, ..., Y_n=y_n)] = n_1 \\text{ln}(p) + n_2 \\text{ln}(q) + (n-n_1-n_2) \\text{ln}(1-p-q)$\n",
        "\n",
        "$F.O.C.$\n",
        "- $\\frac{\\partial{L}}{\\partial{p}} = 0 \\Rightarrow \\frac{n_1}{p} - \\frac{n-n_1-n_2}{1-p-q} = 0$ \n",
        "- $\\frac{\\partial{L}}{\\partial{q}} = 0 \\Rightarrow \\frac{n_2}{q} - \\frac{n-n_1-n_2}{1-p-q} = 0$ \n",
        "\n",
        "得 $\\widehat{p}_{MLE} = \\frac{n_1}{n}$, $\\widehat{q}_{MLE} = \\frac{n_2}{n}$"
      ]
    },
    {
      "cell_type": "markdown",
      "metadata": {
        "id": "vr2hTdzSByHJ"
      },
      "source": [
        "# **Exercise 12.2**\n",
        "Consider the regression model with a single regressor: $Y_i = \\beta_0 + \\beta_1 X_i + u_i$. Suppose the least squares assumptions in Key Concept 4.3 are satisfied.\n",
        "1. Show that $X_i$ is a valid instrument. That is, show that Key Concept 12.3 is\n",
        "satisfied with $Z_i = X_i$.\n",
        "2. Show that the IV regression assumptions in Key Concept 12.4 are\n",
        "satisfied with this choice of $Z_i$.\n",
        "3. Show that the IV estimator constructed using $Z_i = X_i$ is identical to the\n",
        "OLS estimator.\n",
        "\n",
        "---\n",
        "\n"
      ]
    },
    {
      "cell_type": "markdown",
      "metadata": {
        "id": "Mp-awgVRDvyC"
      },
      "source": [
        "## 12.2-1\n",
        "- 由於 $Z_i = X_i$, 故 $Cov(Z_i, X_i) = 1$, 故 $X_i$ 滿足 Instrument Relevance.\n",
        "- 由於 $X_i$ 滿足 Key Concept 4.3, 知 $Cov(X_i, u_i) = Cov(Z_i, u_i) = 0$, 故 $X_i$ 滿足 Instrument Exogeneity."
      ]
    },
    {
      "cell_type": "markdown",
      "metadata": {
        "id": "reuwxKNPFc62"
      },
      "source": [
        "## 12.2-2\n",
        "- 由於無輔助變數$(W_i)$, 且 $X_i$ 滿足 Key Concept 4.3, 故 $E(u_i|W_i) = 0$\n",
        "- 由 Key Concept 4.3, 知 $(X_i, Z_i, Y_i)$ are i.i.d. draws from their joint distribution.\n",
        "- 由 Key Concept 4.3, 知 large outliers are unlikely.\n",
        "- 由 12.2-1 知 $Z_i = X_i$ 符合 Key Concenpt 12.3. "
      ]
    },
    {
      "cell_type": "markdown",
      "metadata": {
        "id": "1-OONM2JIUaq"
      },
      "source": [
        "## 12.2-3\n",
        "$\\widehat{\\beta}^{ols}_1 = \\frac{S_{xy}}{S_{xx}}$\n",
        "\n",
        "$\\widehat{\\beta}^{tsls}_1 = \\frac{S_{zy}}{S_{xz}} = \\frac{S_{xy}}{S_{xx}}$\n",
        "\n",
        "$\\Rightarrow \\widehat{\\beta}^{ols}_1 = \\widehat{\\beta}^{tsls}_1$"
      ]
    },
    {
      "cell_type": "markdown",
      "metadata": {
        "id": "2UzdQRUeDHqb"
      },
      "source": [
        "# **Exercise 12.5**\n",
        "Consider the IV regression model\n",
        "$$Y_i = \\beta_0 + \\beta_1 X_i + \\beta_2 W_i + u_i,$$\n",
        "where $X_i$ is correlated with $u_i$ and $Z_i$ is an instrument. Suppose that the first three assumptions in Key Concept 12.4 are satisfied. Which IV assumption is\n",
        "not satisfied when\n",
        "1. $Z_i$ is independent of $(Y_i, X_i, W_i)$?\n",
        "2. $Z_i = W_i$?\n",
        "3. $W_i = 1$ for all $i$?\n",
        "4. $Z_i = X_i$?\n",
        "\n",
        "---\n",
        "\n"
      ]
    },
    {
      "cell_type": "markdown",
      "metadata": {
        "id": "tkeojQVEJWqu"
      },
      "source": [
        "## 12.5-1\n",
        "當 $Z_i$ is independent of $(Y_i, X_i, W_i)$, 則 $Cov(Z_i, X_i) = 0$, 違反 Instrument Relevance。"
      ]
    },
    {
      "cell_type": "markdown",
      "metadata": {
        "id": "5-iAYwIeLEqc"
      },
      "source": [
        "## 12.5-2\n",
        "當 $Z_i = W_i$, 在估算第一階迴歸式 (Regress $X_i$ on ($Z_i, W_i$)) 時, 將產生完全線性重合。"
      ]
    },
    {
      "cell_type": "markdown",
      "metadata": {
        "id": "rRYLRaDZMXpG"
      },
      "source": [
        "## 12.5-3\n",
        "當 $W_i = 1$, 則將與常數項重合。"
      ]
    },
    {
      "cell_type": "markdown",
      "metadata": {
        "id": "CGjjf03yZXO4"
      },
      "source": [
        "## 12.5-4\n",
        "當 $Z_i = X_i$, 由於 $Cov(X_i, u_i) \\neq 0$, 故 $Cov(Z_i, u_i) \\neq 0$, 違反 Instrument Exogeneity。"
      ]
    },
    {
      "cell_type": "markdown",
      "metadata": {
        "id": "sQCbRFUgDrLp"
      },
      "source": [
        "# **Exercise 12.8**\n",
        "Consider a product market with a supply function $Q^s_i = \\beta_0 + \\beta_1P_i + u^s_i$, a demand function $Q^d_i = \\gamma_0 + u^d_i$, and a market equilibrium condition\n",
        "$Q^s_i = Q^d_i$, where $u^s_i$ and $u^d_i$\n",
        "are mutually independent $i.i.d$. random variables, both with a mean of $0$.\n",
        "1. Show that $P_i$ and $u^s_i$ are correlated.\n",
        "2. Show that the OLS estimator of $\\beta_1$ is inconsistent.\n",
        "3. How would you estimate $\\beta_0$, $\\beta_1$, and $\\gamma_0$?\n",
        "\n",
        "---\n",
        "\n"
      ]
    },
    {
      "cell_type": "markdown",
      "metadata": {
        "id": "P4k3o2Wwb2pX"
      },
      "source": [
        "## 12.8-1\n",
        "$\\beta_0 + \\beta_1 P_i + u_i^s = \\gamma_0 + u_i^d$\n",
        "\n",
        "$P_i = \\frac{\\gamma_0 - \\beta_0 + u_i^d - u_i^s}{\\beta_1}$\n",
        "\n",
        "$\\Rightarrow Cov(P_i, u_i^s) = \\frac{-\\sigma_{u^s}}{\\beta_1}$\n"
      ]
    },
    {
      "cell_type": "markdown",
      "metadata": {
        "id": "odIM5U2gc_YR"
      },
      "source": [
        "## 12.8-2\n",
        "因 $Cov(P_i, u_i^s) \\neq 0$, 故 $\\widehat{\\beta}_1^{ols}$ is inconsistent。"
      ]
    },
    {
      "cell_type": "markdown",
      "metadata": {
        "id": "3WeZ5BMkd27Z"
      },
      "source": [
        "## 12.8-3\n",
        "此例中，需求函數完全無彈性($\\varepsilon^d = \\frac{\\partial{Q^d}}{\\partial{P}} \\frac{P}{Q} = 0$),\n",
        "\n",
        "知 $Cov(Q_i^d, u_i^s) = 0$ 且 $Cov(Q_i^d, P_i) \\neq 0$, \n",
        "\n",
        "故可將 $Q^d$ 視為工具變數, 採 TSLS 估算 $\\beta_0$ 及 $\\beta_1$,\n",
        "\n",
        "而 $\\gamma_0$ 則可直接採 OLS 估算。 "
      ]
    },
    {
      "cell_type": "markdown",
      "metadata": {
        "id": "ZFA8fCfWDy-M"
      },
      "source": [
        "# **Exercise 12.10**\n",
        "Two classmates are comparing their answers to an assignment. One classmate has specified an instrumental variable regression model $Y_i = \\beta_0 + \\beta_1 X_i + \\beta_2 W_i + u_i$, using $Z_i$ as an instrument. The other student has specified the same model, but has omitted $W_i$.\n",
        "1. The first student says that if $Z_i$ and $W_i$ are correlated, then the second\n",
        "student’s IV estimator will not be consistent. Is the first student right\n",
        "about this?\n",
        "2. The second student argues that if in the true model $\\beta_2 = 0$, then their IV\n",
        "estimator will be consistent. Is the second student correct in saying this?\n",
        "\n",
        "---\n",
        "\n"
      ]
    },
    {
      "cell_type": "markdown",
      "metadata": {
        "id": "lpzJ4Ja7nvXX"
      },
      "source": [
        "## 12.10-1\n",
        "$ \\beta_1 = \\frac{Cov(Z_i,Y_i)}{Cov(Z_i,X_i)} = \\frac{Cov(Z_i, \\beta_0 + \\beta_1 X_i + u_i^{'})}{Cov(Z_i, X_i)} $\n",
        "\n",
        "$ = \\frac{\\beta_1 Cov(Z_i, X_i) + Cov(Z_i, u^{'}_i)}{Cov(Z_i, X_i)} = \\frac{\\beta_1 Cov(Z_i, X_i) + Cov(Z_i, \\beta_2 W_i + u_i)}{Cov(Z_i, X_i)} $\n",
        "\n",
        "由上式知，$Cov(Z_i, W_i) \\neq 0 \\Rightarrow Cov(Z_i, u^{'}_i) \\neq 0$,\n",
        "\n",
        "違反 Instrument Exogeneity,\n",
        "\n",
        "第二位學生的估計式 $\\widehat{\\beta}^{TSLS}_1$ 非為一致估計式。\n"
      ]
    },
    {
      "cell_type": "markdown",
      "metadata": {
        "id": "51JaL_cvvCQ8"
      },
      "source": [
        "## 12.10-2\n",
        "$ \\beta_1 = \\frac{Cov(Z_i,Y_i)}{Cov(Z_i,X_i)} = \\frac{Cov(Z_i, \\beta_0 + \\beta_1 X_i + u_i^{'})}{Cov(Z_i, X_i)} $\n",
        "\n",
        "$= \\frac{\\beta_1 Cov(Z_i, X_i) + Cov(Z_i, u^{'}_i)}{Cov(Z_i, X_i)} = \\frac{\\beta_1 Cov(Z_i, X_i) + Cov(Z_i, \\beta_2 W_i + u_i)}{Cov(Z_i, X_i)} $\n",
        "\n",
        "若未能確保 $Cov(X_i, u^{'}_i) =0$, 即使 $\\beta_2 = 0$, 第二位學生的估計式 $\\widehat{\\beta}^{TSLS}_1$ 仍非為一致估計式。"
      ]
    },
    {
      "cell_type": "markdown",
      "metadata": {
        "id": "eE_qeWckD1FJ"
      },
      "source": [
        "# **E12.2**\n",
        "Does viewing a violent movie lead to violent behavior? If so, the incidence of\n",
        "violent crimes, such as assaults, should rise following the release of a violent\n",
        "movie that attracts many viewers. Alternatively, movie viewing may substitute\n",
        "for other activities (such as alcohol consumption) that lead to violent behavior, so that assaults should fall when more viewers are attracted to the cinema. On the text website, **http://www.pearsonglobaleditions.com**, you will find the data file **Movies**, which contains data on the number of assaults and movie attendance for 516 weekends from 1995 through 2004.7 A detailed description is given in **Movies_Description**, available on the website. The data set includes weekend U.S. attendance for strongly violent movies (such as Hannibal), mildly violent movies (such as Spider-Man), and nonviolent movies (such as Finding Nemo). The data set also includes a count of the number of assaults for the same weekend in a subset of counties in the United States. Finally, the data set includes indicators for year, month, whether the weekend is a holiday, and various measures of the weather.\n",
        "1. - Regress the logarithm of the number of assaults $[ln\\_assaults=\\text{ln}\n",
        "(assaults)]$ on the year and month indicators. Is there evidence of\n",
        "seasonality in assaults? That is, do there tend to be more assaults in\n",
        "some months than others? Explain.\n",
        " - Regress total movie attendance $(attend = attend\\_v + attend\\_m +\n",
        "attend\\_n)$ on the year and month indicators. Is there evidence of\n",
        "seasonality in movie attendance? Explain.\n",
        "\n",
        "2. Regress $ln\\_assaults$ on $attend\\_v, attend\\_m, attend\\_n$, the year and month\n",
        "indicators, and the weather and holiday control variables available in the\n",
        "data set.\n",
        " - Based on the regression, does viewing a strongly violent movie increase or decrease assaults? By how much? Is the estimated effect statistically significant?\n",
        " - Does attendance at strongly violent movies affect assaults differently than attendance at moderately violent movies? Differently than attendance at nonviolent movies?\n",
        " - A strongly violent blockbuster movie is released, and the weekend’s attendance at strongly violent movies increases by 6 million; meanwhile, attendance falls by 2 million for moderately violent movies\n",
        "and by 1 million for nonviolent movies. What is the predicted effect on assaults? Construct a 95% confidence interval for the change in assaults. [Hint: Review Section 7.3 and material surrounding Equations (8.7) and (8.8).]\n",
        "3. It is difficult to control for all the variables that affect assaults and that might be correlated with movie attendance. For example, the effect of\n",
        "the weather on assaults and movie attendance is only crudely approximated\n",
        "by the weather variables in the data set. However, the data set does include a set of instruments—$pr\\_attend\\_v, pr\\_attend\\_m$, and $pr\\_attend\\_n$—that are correlated with attendance but are (arguably) uncorrelated with weekend-specific factors (such as the weather) that affect both assaults and movie attendance. These instruments use historical attendance patterns, not information on a particular weekend, to predict a film’s attendance in a given weekend. For example, if a film’s attendance is high in the second week of its release, then this can be used to predict that its attendance was also high in the first week of its release. (The details of the construction of these instruments are available in the Dahl and DellaVigna paper referenced in footnote 5.) Run the regression from (b) (including year, month, holiday, and weather controls) but now using $pr\\_attend\\_v, pr\\_attend\\_m$, and $pr\\_attend\\_n$ as instruments for $attend\\_v, attend\\_m$, and $attend\\_n$. Use this IV regression to answer (b)(i)–(b)(iii).\n",
        "4. The intuition underlying the instruments in (c) is that attendance in\n",
        "a given week is correlated with attendance in surrounding weeks. For each movie category, the data set includes attendance in surrounding weeks. Run the regression using the instruments $attend\\_v\\_f, attend\\_m\\_f, attend\\_n\\_f, attend\\_v\\_b, attend\\_m\\_b,$ and $attend\\_n\\_b$ instead of the instruments used in (c). Use this IV regression to answer (b)(i)–(b)(iii).\n",
        "5. There are nine instruments listed in (c) and (d), but only three are\n",
        "needed for identification. Carry out the test for overidentification summarized\n",
        "in Key Concept 12.6. What do you conclude about the validity of the instruments?\n",
        "6. Based on your analysis, what do you conclude about the effect of violent\n",
        "movies on (short-run) violent behavior?\n",
        "\n",
        "---\n",
        "\n"
      ]
    },
    {
      "cell_type": "markdown",
      "metadata": {
        "id": "_w1vBBTREd1U"
      },
      "source": [
        "下載資料"
      ]
    },
    {
      "cell_type": "code",
      "metadata": {
        "id": "nLX8DTshPJZd"
      },
      "source": [
        "!gdown --id '1IQZjS8Mqpqf3R-rd7V4kMvilXI0Tqj42' --output movie.xlsx"
      ],
      "execution_count": null,
      "outputs": []
    },
    {
      "cell_type": "markdown",
      "metadata": {
        "id": "t7PbZnD_Egsi"
      },
      "source": [
        "下載及引入套件"
      ]
    },
    {
      "cell_type": "code",
      "metadata": {
        "id": "j6f1u9pZ48nq"
      },
      "source": [
        "!pip install linearmodels\n",
        "import numpy as np\n",
        "import pandas as pd\n",
        "from statsmodels.sandbox.regression.gmm import IV2SLS\n",
        "import statsmodels.formula.api as smf\n",
        "import linearmodels.iv as iv"
      ],
      "execution_count": null,
      "outputs": []
    },
    {
      "cell_type": "markdown",
      "metadata": {
        "id": "MjjRUaFaEolT"
      },
      "source": [
        "載入並檢視資料"
      ]
    },
    {
      "cell_type": "code",
      "metadata": {
        "id": "4P_xbWG15gvb"
      },
      "source": [
        "movie = pd.read_excel('movie.xlsx')"
      ],
      "execution_count": null,
      "outputs": []
    },
    {
      "cell_type": "code",
      "metadata": {
        "id": "gkk2ZpUz6JYd"
      },
      "source": [
        "movie.columns"
      ],
      "execution_count": null,
      "outputs": []
    },
    {
      "cell_type": "markdown",
      "metadata": {
        "id": "w8XD4jVoEwfr"
      },
      "source": [
        "設置變數"
      ]
    },
    {
      "cell_type": "code",
      "metadata": {
        "id": "UTOO76S86UbS"
      },
      "source": [
        "movie['ln_assaults'] = np.log(movie['assaults']) \n",
        "movie['attend'] = movie['attend_v'] + movie['attend_m'] + movie['attend_n']\n",
        "movie['constant'] = 1"
      ],
      "execution_count": null,
      "outputs": []
    },
    {
      "cell_type": "code",
      "metadata": {
        "id": "vHfiXfujGAWY"
      },
      "source": [
        "movie.head()"
      ],
      "execution_count": null,
      "outputs": []
    },
    {
      "cell_type": "markdown",
      "metadata": {
        "id": "NWexlw_uFCwT"
      },
      "source": [
        "## E12.2-a"
      ]
    },
    {
      "cell_type": "markdown",
      "metadata": {
        "id": "mjYt3WCRFVMO"
      },
      "source": [
        "### E12.2-a(i)"
      ]
    },
    {
      "cell_type": "code",
      "metadata": {
        "id": "Cniuv-EQQWsx"
      },
      "source": [
        "reg_ai = smf.ols(formula='ln_assaults~year2+year3+year4+year5+year6+year7+year8+year9+year10+month2+month3+month4+month5+month6+month7+month8+month9+month10+month11+month12', data=movie)\n",
        "results_ai = reg_ai.fit(cov_type='HC1')\n",
        "print(results_ai.summary())\n",
        "\n",
        "f_test = results_ai.f_test(['month2=0','month3=0','month4=0','month5=0','month6=0','month7=0','month8=0','month9=0','month10=0','month11=0','month12=0'])\n",
        "f_test.pvalue"
      ],
      "execution_count": null,
      "outputs": []
    },
    {
      "cell_type": "markdown",
      "metadata": {
        "id": "KXg6wlb0jYnP"
      },
      "source": [
        "$\\alpha = 0.1, Pvalue=0.00 < \\alpha \\Rightarrow$ $ln\\_assaults$ 與 $month$ 有顯著關係。(4月~10月偏高)"
      ]
    },
    {
      "cell_type": "markdown",
      "metadata": {
        "id": "XkNYa8kD_pSl"
      },
      "source": [
        "### E12.2-a(ii)"
      ]
    },
    {
      "cell_type": "code",
      "metadata": {
        "id": "dQ-7mNm3Fck0"
      },
      "source": [
        "reg_aii = smf.ols(formula='attend~year2+year3+year4+year5+year6+year7+year8+year9+year10+month2+month3+month4+month5+month6+month7+month8+month9+month10+month11+month12', data=movie)\n",
        "results_aii = reg_aii.fit(cov_type='HC1')\n",
        "print(results_aii.summary())\n",
        "\n",
        "f_test = results_aii.f_test(['month2=0','month3=0','month4=0','month5=0','month6=0','month7=0','month8=0','month9=0','month10=0','month11=0','month12=0'])\n",
        "f_test.pvalue"
      ],
      "execution_count": null,
      "outputs": []
    },
    {
      "cell_type": "markdown",
      "metadata": {
        "id": "7_kqMj-TjwCC"
      },
      "source": [
        "$\\alpha = 0.1, Pvalue=0.00 < \\alpha \\Rightarrow$ $attend$ 與 $month$ 有顯著關係。(6月~8月偏高)"
      ]
    },
    {
      "cell_type": "markdown",
      "metadata": {
        "id": "yCjG77RvRcuD"
      },
      "source": [
        "## E12.2-b"
      ]
    },
    {
      "cell_type": "markdown",
      "metadata": {
        "id": "_EXrS8s0SYJZ"
      },
      "source": [
        "### E12.2-b(i)"
      ]
    },
    {
      "cell_type": "code",
      "metadata": {
        "id": "cNr_vL7DSc01"
      },
      "source": [
        "reg_bi = smf.ols(formula='ln_assaults~attend_v+attend_m+attend_n+year2+year3+year4+year5+year6+year7+year8+year9+year10+month2+month3+month4+month5+month6+month7+month8+month9+month10+month11+month12+h_chris+h_newyr+h_easter+h_july4+h_mem+h_labor+w_rain+w_snow+w_maxa+w_maxb+w_maxc+w_mina+w_minb+w_minc', data=movie)\n",
        "results_bi = reg_bi.fit(cov_type='HC1')\n",
        "print(results_bi.summary())"
      ],
      "execution_count": null,
      "outputs": []
    },
    {
      "cell_type": "markdown",
      "metadata": {
        "id": "LCewHHxJj71j"
      },
      "source": [
        "Coef. of $attend\\_v$: $-0.32%$, $attend\\_v$ 增加一單位, $ln\\_assaults$ 將 $-0.32\\%$\n",
        "\n",
        "$\\alpha = 0.1, Pvalue=0.00 < \\alpha \\Rightarrow$ $attend\\_v$ 對 $ln\\_assaults$ 的影響顯著異於零"
      ]
    },
    {
      "cell_type": "markdown",
      "metadata": {
        "id": "T8dH0gIjTA48"
      },
      "source": [
        "### E12.2-b(ii)"
      ]
    },
    {
      "cell_type": "code",
      "metadata": {
        "id": "y1OKFEEpUln_"
      },
      "source": [
        "f_test = results_bi.f_test(['attend_v=attend_m'])\n",
        "print(f_test)"
      ],
      "execution_count": null,
      "outputs": []
    },
    {
      "cell_type": "markdown",
      "metadata": {
        "id": "JO_acq7xkaMo"
      },
      "source": [
        "$\\alpha = 0.1, Pvalue=0.97 > \\alpha \\Rightarrow$ 兩者無顯著差異"
      ]
    },
    {
      "cell_type": "code",
      "metadata": {
        "id": "l-di9FzOVxoP"
      },
      "source": [
        "f_test = results_bi.f_test(['attend_v=attend_n'])\n",
        "print(f_test)"
      ],
      "execution_count": null,
      "outputs": []
    },
    {
      "cell_type": "markdown",
      "metadata": {
        "id": "--hRcHBBAwxp"
      },
      "source": [
        "$\\alpha = 0.1, Pvalue=0.20 > \\alpha \\Rightarrow$ 兩者無顯著差異"
      ]
    },
    {
      "cell_type": "markdown",
      "metadata": {
        "id": "UqGTRoVvWx9M"
      },
      "source": [
        "### E12.2-b(iii)"
      ]
    },
    {
      "cell_type": "code",
      "metadata": {
        "colab": {
          "base_uri": "https://localhost:8080/",
          "height": 78
        },
        "id": "pqGmA27NWQNj",
        "outputId": "999e31d3-2268-460b-8dce-e1d54fb957fc"
      },
      "source": [
        "t_test = results_bi.t_test(['6*attend_v-2*attend_m-1*attend_n=0'])\n",
        "t_test.summary(xname=['attend'], alpha=0.05, title='Effect on Assaults')"
      ],
      "execution_count": null,
      "outputs": [
        {
          "output_type": "execute_result",
          "data": {
            "text/html": [
              "<table class=\"simpletable\">\n",
              "<caption>Effect on Assaults</caption>\n",
              "<tr>\n",
              "     <td></td>       <th>coef</th>     <th>std err</th>      <th>z</th>      <th>P>|z|</th>  <th>[0.025</th>    <th>0.975]</th>  \n",
              "</tr>\n",
              "<tr>\n",
              "  <th>attend</th> <td>   -0.0106</td> <td>    0.005</td> <td>   -2.125</td> <td> 0.034</td> <td>   -0.020</td> <td>   -0.001</td>\n",
              "</tr>\n",
              "</table>"
            ],
            "text/plain": [
              "<class 'statsmodels.iolib.table.SimpleTable'>"
            ]
          },
          "metadata": {
            "tags": []
          },
          "execution_count": 13
        }
      ]
    },
    {
      "cell_type": "markdown",
      "metadata": {
        "id": "Xcmiar78kusg"
      },
      "source": [
        "Predicted effect on assaults: $-1.06\\%$\n",
        "\n",
        "$95\\%$ 信賴區間: $\\left[ -2\\%, -0.1\\% \\right]$"
      ]
    },
    {
      "cell_type": "markdown",
      "metadata": {
        "id": "E0xvrJdFevHN"
      },
      "source": [
        "## E12.2-c"
      ]
    },
    {
      "cell_type": "markdown",
      "metadata": {
        "id": "MPXmSVNnhuhD"
      },
      "source": [
        "### E12.2-c(i)"
      ]
    },
    {
      "cell_type": "code",
      "metadata": {
        "id": "ikR1gG0wO3UY"
      },
      "source": [
        "reg_ci = iv.IV2SLS.from_formula(formula='ln_assaults~1+[attend_v+attend_m+attend_n~pr_attend_v+pr_attend_m+pr_attend_n]+year2+year3+year4+year5+year6+year7+year8+year9+year10+month2+month3+month4+month5+month6+month7+month8+month9+month10+month11+month12+h_chris+h_newyr+h_easter+h_july4+h_mem+h_labor+w_rain+w_snow+w_maxa+w_maxb+w_maxc+w_mina+w_minb+w_minc', data=movie)\n",
        "results_ci = reg_ci.fit(cov_type='robust', debiased=True)\n",
        "print(results_ci.summary)"
      ],
      "execution_count": null,
      "outputs": []
    },
    {
      "cell_type": "markdown",
      "metadata": {
        "id": "qM6XnaYsll_w"
      },
      "source": [
        "Coef. of $attend\\_v$: $-0.39\\%$, $attend\\_v$ 增加一單位, $ln\\_assaults$ 將 $-0.39\\%$\n",
        "\n",
        "$\\alpha = 0.1, Pvalue= 0.00 < \\alpha \\Rightarrow$ $attend\\_v$ 對 $ln\\_assaults$ 的影響顯著異於零"
      ]
    },
    {
      "cell_type": "markdown",
      "metadata": {
        "id": "9fztTPSjjLzc"
      },
      "source": [
        "### E12.2-c(ii)"
      ]
    },
    {
      "cell_type": "code",
      "metadata": {
        "id": "Jx0WHwxIUWFO"
      },
      "source": [
        "# iv.IV2SLS 好似無 partial F test\n",
        "# 改用 Statsmodels....IV2SLS, 但似乎無法調整 robust\n",
        "endog = movie['ln_assaults']\n",
        "exog = movie[['constant','attend_v','attend_m','attend_n','year2','year3','year4','year5','year6','year7','year8','year9','year10','month2','month3','month4','month5','month6','month7','month8','month9','month10','month11','month12','h_chris','h_newyr','h_easter','h_july4','h_mem','h_labor','w_maxa','w_maxb','w_maxc','w_mina','w_minb','w_minc','w_rain','w_snow']]\n",
        "instrument = movie[['constant','pr_attend_v','pr_attend_m','pr_attend_n','year2','year3','year4','year5','year6','year7','year8','year9','year10','month2','month3','month4','month5','month6','month7','month8','month9','month10','month11','month12','h_chris','h_newyr','h_easter','h_july4','h_mem','h_labor','w_maxa','w_maxb','w_maxc','w_mina','w_minb','w_minc','w_rain','w_snow']]\n",
        "\n",
        "results_ci = IV2SLS(endog=endog,exog=exog,instrument=instrument).fit()  # 似乎尚無法調整 robust ..."
      ],
      "execution_count": null,
      "outputs": []
    },
    {
      "cell_type": "code",
      "metadata": {
        "id": "0I-jQrrs695j"
      },
      "source": [
        "f_test = results_ci.f_test(['attend_v=attend_m'])\n",
        "print(f_test)"
      ],
      "execution_count": null,
      "outputs": []
    },
    {
      "cell_type": "markdown",
      "metadata": {
        "id": "8Xv3Q8rgl7K-"
      },
      "source": [
        "$\\alpha = 0.1, Pvalue=0.98 > \\alpha \\Rightarrow$ 兩者統計上無顯著差異。"
      ]
    },
    {
      "cell_type": "code",
      "metadata": {
        "id": "XNKGoV8pjxMF"
      },
      "source": [
        "f_test = results_ci.f_test(['attend_v=attend_n'])\n",
        "print(f_test)"
      ],
      "execution_count": null,
      "outputs": []
    },
    {
      "cell_type": "markdown",
      "metadata": {
        "id": "LCaPPfDkmHAD"
      },
      "source": [
        "$\\alpha = 0.1, Pvalue=0.25 > \\alpha \\Rightarrow$ 兩者統計上無顯著差異。"
      ]
    },
    {
      "cell_type": "markdown",
      "metadata": {
        "id": "O2Evr8fZi5Wz"
      },
      "source": [
        "### E12.2-c(iii)"
      ]
    },
    {
      "cell_type": "code",
      "metadata": {
        "id": "M5EPfknah0ga",
        "colab": {
          "base_uri": "https://localhost:8080/",
          "height": 78
        },
        "outputId": "f050ed44-b095-45e9-9275-01dd2e038b29"
      },
      "source": [
        "t_test = results_ci.t_test(['6*attend_v-2*attend_m-1*attend_n=0'])\n",
        "t_test.summary(xname=['attend'], alpha=0.05, title='Effect on Assaults')"
      ],
      "execution_count": null,
      "outputs": [
        {
          "output_type": "execute_result",
          "data": {
            "text/html": [
              "<table class=\"simpletable\">\n",
              "<caption>Effect on Assaults</caption>\n",
              "<tr>\n",
              "     <td></td>       <th>coef</th>     <th>std err</th>      <th>t</th>      <th>P>|t|</th>  <th>[0.025</th>    <th>0.975]</th>  \n",
              "</tr>\n",
              "<tr>\n",
              "  <th>attend</th> <td>   -0.0127</td> <td>    0.006</td> <td>   -2.232</td> <td> 0.026</td> <td>   -0.024</td> <td>   -0.002</td>\n",
              "</tr>\n",
              "</table>"
            ],
            "text/plain": [
              "<class 'statsmodels.iolib.table.SimpleTable'>"
            ]
          },
          "metadata": {
            "tags": []
          },
          "execution_count": 18
        }
      ]
    },
    {
      "cell_type": "markdown",
      "metadata": {
        "id": "9mngrx01mQ7F"
      },
      "source": [
        "Predicted effect on assaults: $-1.27\\%$\n",
        "\n",
        "$95\\%$ 信賴區間: $\\left[ -2.4\\%, -0.2\\% \\right]$"
      ]
    },
    {
      "cell_type": "markdown",
      "metadata": {
        "id": "h0aicQ_jWyIT"
      },
      "source": [
        "## E12.2-d"
      ]
    },
    {
      "cell_type": "markdown",
      "metadata": {
        "id": "CEu_Jahq0KZi"
      },
      "source": [
        "### E12.2-d(i)"
      ]
    },
    {
      "cell_type": "code",
      "metadata": {
        "id": "dM5yV8fBRQ00"
      },
      "source": [
        "reg_di = iv.IV2SLS.from_formula(formula='ln_assaults~1+[attend_v+attend_m+attend_n~attend_v_f+attend_m_f+attend_n_f+attend_v_b+attend_m_b+attend_n_b]+year2+year3+year4+year5+year6+year7+year8+year9+year10+month2+month3+month4+month5+month6+month7+month8+month9+month10+month11+month12+h_chris+h_newyr+h_easter+h_july4+h_mem+h_labor+w_rain+w_snow+w_maxa+w_maxb+w_maxc+w_mina+w_minb+w_minc', data=movie)\n",
        "results_di = reg_di.fit(cov_type='robust', debiased=True)\n",
        "print(results_di.summary)"
      ],
      "execution_count": null,
      "outputs": []
    },
    {
      "cell_type": "markdown",
      "metadata": {
        "id": "_Y-0Q2fcmy85"
      },
      "source": [
        "Coef. of $attend\\_v$: $-0.32\\%$, $attend\\_v$ 增加一單位, $ln\\_assaults$ 將 $-0.32\\%$\n",
        "\n",
        "$\\alpha = 0.1, Pvalue= 0.1037 > \\alpha \\Rightarrow$ $attend\\_v$ 對 $ln\\_assaults$ 無顯著影響"
      ]
    },
    {
      "cell_type": "markdown",
      "metadata": {
        "id": "DRLMvj-_1QM_"
      },
      "source": [
        "### E12.2-d(ii)"
      ]
    },
    {
      "cell_type": "code",
      "metadata": {
        "id": "Nxw6DKJjFO0m"
      },
      "source": [
        "# iv.IV2SLS 好似無 partial F test\n",
        "# 改用 Statsmodels....IV2SLS, 但似乎無法調整 robust\n",
        "exog = movie[['constant','attend_v','attend_m','attend_n','year2','year3','year4','year5','year6','year7','year8','year9','year10','month2','month3','month4','month5','month6','month7','month8','month9','month10','month11','month12','h_chris','h_newyr','h_easter','h_july4','h_mem','h_labor','w_maxa','w_maxb','w_maxc','w_mina','w_minb','w_minc','w_rain','w_snow']]\n",
        "instrument = movie[['constant','attend_v_f','attend_m_f','attend_n_f','attend_v_b','attend_m_b','attend_n_b','year2','year3','year4','year5','year6','year7','year8','year9','year10','month2','month3','month4','month5','month6','month7','month8','month9','month10','month11','month12','h_chris','h_newyr','h_easter','h_july4','h_mem','h_labor','w_maxa','w_maxb','w_maxc','w_mina','w_minb','w_minc','w_rain','w_snow']]\n",
        "\n",
        "results_di = IV2SLS(endog=endog,exog=exog,instrument=instrument).fit()"
      ],
      "execution_count": null,
      "outputs": []
    },
    {
      "cell_type": "code",
      "metadata": {
        "id": "vaOwdg3cGDg6"
      },
      "source": [
        "f_test = results_di.f_test(['attend_v=attend_m'])\n",
        "print(f_test)"
      ],
      "execution_count": null,
      "outputs": []
    },
    {
      "cell_type": "markdown",
      "metadata": {
        "id": "znuPctXqnD9e"
      },
      "source": [
        "$\\alpha = 0.1, Pvalue= 0.54 > \\alpha \\Rightarrow$ 兩者統計上無顯著差異。"
      ]
    },
    {
      "cell_type": "code",
      "metadata": {
        "id": "8h3k3MbV1W7t"
      },
      "source": [
        "f_test = results_di.f_test(['attend_v=attend_n'])\n",
        "print(f_test)"
      ],
      "execution_count": null,
      "outputs": []
    },
    {
      "cell_type": "markdown",
      "metadata": {
        "id": "K6jXrVw_nGTq"
      },
      "source": [
        "$\\alpha = 0.1, Pvalue= 0.68 > \\alpha \\Rightarrow$ 兩者統計上無顯著差異。"
      ]
    },
    {
      "cell_type": "markdown",
      "metadata": {
        "id": "IJ-y043S1ePx"
      },
      "source": [
        "### E12.2-d(iii)"
      ]
    },
    {
      "cell_type": "code",
      "metadata": {
        "id": "iUQUdsXGDoAL",
        "colab": {
          "base_uri": "https://localhost:8080/",
          "height": 78
        },
        "outputId": "c035ff37-236a-4174-d986-2258043a7bad"
      },
      "source": [
        "t_test = results_di.t_test(['6*attend_v-2*attend_m-1*attend_n=0'])\n",
        "t_test.summary(xname=['attend'], alpha=0.05, title='Effect on Assaults')"
      ],
      "execution_count": null,
      "outputs": [
        {
          "output_type": "execute_result",
          "data": {
            "text/html": [
              "<table class=\"simpletable\">\n",
              "<caption>Effect on Assaults</caption>\n",
              "<tr>\n",
              "     <td></td>       <th>coef</th>     <th>std err</th>      <th>t</th>      <th>P>|t|</th>  <th>[0.025</th>    <th>0.975]</th>  \n",
              "</tr>\n",
              "<tr>\n",
              "  <th>attend</th> <td>   -0.0082</td> <td>    0.010</td> <td>   -0.852</td> <td> 0.394</td> <td>   -0.027</td> <td>    0.011</td>\n",
              "</tr>\n",
              "</table>"
            ],
            "text/plain": [
              "<class 'statsmodels.iolib.table.SimpleTable'>"
            ]
          },
          "metadata": {
            "tags": []
          },
          "execution_count": 23
        }
      ]
    },
    {
      "cell_type": "markdown",
      "metadata": {
        "id": "sKjGgPjwnKYX"
      },
      "source": [
        "Predicted effect on assaults: $-0.82\\%$\n",
        "\n",
        "$95\\%$ 信賴區間: $\\left[ -2.7\\%, 1.1\\% \\right]$"
      ]
    },
    {
      "cell_type": "markdown",
      "metadata": {
        "id": "Cxpf2f6G1mAT"
      },
      "source": [
        "## E12.2-e"
      ]
    },
    {
      "cell_type": "code",
      "metadata": {
        "id": "DJ5SITMnHQZA"
      },
      "source": [
        "reg_e = iv.IV2SLS.from_formula(formula='ln_assaults~1+[attend_v+attend_m+attend_n~pr_attend_v+pr_attend_m+pr_attend_n+attend_v_f+attend_m_f+attend_n_f+attend_v_b+attend_m_b+attend_n_b]+year2+year3+year4+year5+year6+year7+year8+year9+year10+month2+month3+month4+month5+month6+month7+month8+month9+month10+month11+month12+h_chris+h_newyr+h_easter+h_july4+h_mem+h_labor+w_rain+w_snow+w_maxa+w_maxb+w_maxc+w_mina+w_minb+w_minc', data=movie)\n",
        "results_e = reg_e.fit(cov_type='robust')\n",
        "movie['e'] = results_e.resids\n",
        "\n",
        "j_test = smf.ols(formula='e~pr_attend_v+pr_attend_m+pr_attend_n+attend_v_f+attend_m_f+attend_n_f+attend_v_b+attend_m_b+attend_n_b', data=movie).fit()\n",
        "print('Overid. stat: {:.2f}'.format(j_test.fvalue*j_test.df_model))"
      ],
      "execution_count": null,
      "outputs": []
    },
    {
      "cell_type": "markdown",
      "metadata": {
        "id": "sOZppCmXPzsb"
      },
      "source": [
        "j-stat: 8.11\n",
        "\n",
        "自由度為 $9 - 3 = 6$ 的卡方分配 $\\chi^2_{0.1}(6) = 10.645$,\n",
        "\n",
        "故無證據顯示這些工具變數違反Instrument Exogeneity。"
      ]
    },
    {
      "cell_type": "markdown",
      "metadata": {
        "id": "-MFmyPrN3hye"
      },
      "source": [
        "## E12.2-f"
      ]
    },
    {
      "cell_type": "markdown",
      "metadata": {
        "id": "neoOR-7OGJMZ"
      },
      "source": [
        "由上述分析可知，短期內, 看電影與暴力行為(如喝酒肇事)兩者互相替代，故無論看何種類型的電影，都可減少暴力事件發生。"
      ]
    }
  ]
}