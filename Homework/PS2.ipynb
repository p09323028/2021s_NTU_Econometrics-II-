{
  "nbformat": 4,
  "nbformat_minor": 0,
  "metadata": {
    "colab": {
      "name": "PS2.ipynb",
      "provenance": [],
      "collapsed_sections": [],
      "authorship_tag": "ABX9TyOHCXc+mL76hnodBRlxUGtk",
      "include_colab_link": true
    },
    "kernelspec": {
      "name": "python3",
      "display_name": "Python 3"
    },
    "language_info": {
      "name": "python"
    }
  },
  "cells": [
    {
      "cell_type": "markdown",
      "metadata": {
        "id": "view-in-github",
        "colab_type": "text"
      },
      "source": [
        "<a href=\"https://colab.research.google.com/github/p09323028/2021s_NTU_Econometrics_II/blob/main/Homework/PS2.ipynb\" target=\"_parent\"><img src=\"https://colab.research.google.com/assets/colab-badge.svg\" alt=\"Open In Colab\"/></a>"
      ]
    },
    {
      "cell_type": "markdown",
      "metadata": {
        "id": "47pufSJyHr75"
      },
      "source": [
        "# **經濟實證與預測二_ Homework 2**\n",
        "**Link:** https://tinyurl.com/ch77ndts"
      ]
    },
    {
      "cell_type": "markdown",
      "metadata": {
        "id": "dFqUUs2XHyKb"
      },
      "source": [
        "**吳金擇, P09323028**\n",
        "\n",
        "**林婧筠, P09323026**\n",
        "\n",
        "**洪靜玟, P09323019**\n",
        "\n",
        "**林冠伭, P08323019**"
      ]
    },
    {
      "cell_type": "markdown",
      "metadata": {
        "id": "acy518jmH0sj"
      },
      "source": [
        "# **Exercise 13.6**\n",
        "Suppose there are panel data for $T = 2$ time periods for a randomized controlled\n",
        "experiment, where the first observation $(t = 1)$ is taken before the\n",
        "experiment and the second observation $(t = 2)$ is for the posttreatment\n",
        "period. Suppose the treatment is binary; that is, suppose $X_{it} = 1$ if the $i^{th}$ individual\n",
        "is in the treatment group and $t = 2$\n",
        ", and $X_{it} = 0$ otherwise. Further\n",
        "suppose the treatment effect can be modeled using the specification\n",
        "\n",
        "$$Y_{it} = \\alpha_i + \\beta_1X_{it} + u_{it}.$$\n",
        "\n",
        "where $\\alpha_i$ are individual-specific effects with a mean of $0$ and a variance of $\\sigma^2_{\\alpha}$\n",
        "and $u_{it}$ is an error term, where $u_{it}$ is homoskedastic, $cov(u_{i1}, u_{i2}) = 0$, and\n",
        "$cov(u_{it}, \\alpha_i) = 0$ for all $i$. Let $\\widehat{\\beta}^{differences}$ denote the differences estimator—\n",
        "that is, the OLS estimator in a regression of $Y_{i2}$ on $X_{i2}$ with an intercept—\n",
        "and let $\\widehat{\\beta}^{diffs-in-diffs}_1$ denote the differences-in-differences estimator—that is, the estimator of $\\beta_1$ based on the OLS regression of $\u001e\\Delta Y_i = Y_{i2} - Y_{i1}$ against\n",
        "$\u001e\\Delta X_i = X_{i2} - X_{i1}$ and an intercept.\n",
        "1. Show that $n Var(\\widehat{\\beta}^{differences}) \\rightarrow (\\sigma^2_u + \\sigma^2_\\alpha) / Var(X_{i2})$. (Hint: Use the\n",
        "homoskedasticity-only formulas for the variance of the OLS estimator in\n",
        "Appendix 5.1.)\n",
        "2. Show that $n Var (\\widehat{\\beta}^{diffs-in-diffs}_1) \\rightarrow 2 \\sigma^2_u / Var(X_{i2})$. (Hint: Note that\n",
        "$X_{i2} - X_{i1} = X_{i2}$. Why?)\n",
        "3. Based on your answers to (a) and (b), when would you prefer the\n",
        "differences-in-differences estimator over the differences estimator, based\n",
        "purely on efficiency considerations?\n",
        "---"
      ]
    },
    {
      "cell_type": "markdown",
      "metadata": {
        "id": "egou5EL3RoS8"
      },
      "source": [
        "## **13.6-1**\n",
        "Regression of $Y_{i2}$ on $X_{i2}$ with an intercept:\n",
        "\n",
        "$Y_{i2} = b_0 + \\beta^{differences} X_{i2} + (\\alpha_i + u_{i2} -b_0)$\n",
        "\n",
        "\n",
        "$n Var(\\widehat{\\beta}^{differences}) = \\frac{Var(\\alpha_i + u_{i2} -b_0)}{Var(X_{i2})}$\n",
        "\n",
        "$= \\frac{Var(\\alpha_i) + Var(u_{i2}) - 2Cov(\\alpha_i, u_{i2})}{Var(X_{i2})}$\n",
        "\n",
        "$= \\frac{Var(\\alpha_i) + Var(u_{i2}) - 2 \\times 0}{Var(X_{i2})}$\n",
        "\n",
        "$= \\frac{\\sigma^2_u + \\sigma^2_\\alpha}{Var(X_{i2})}$"
      ]
    },
    {
      "cell_type": "markdown",
      "metadata": {
        "id": "LngT5HbV8ix1"
      },
      "source": [
        "## **13.6-2**\n",
        "$Y_{i2} - Y_{i1}= \\beta_1^{diffs-in-diffs} (X_{i2}-X_{i1}) + (u_{i2}-u_{i1})$\n",
        "\n",
        "$n Var(\\widehat{\\beta}^{diffs-in-diffs}) = \\frac{Var(u_{i2}-u_{i1})}{Var(X_{i2}-X_{i1})}$\n",
        "\n",
        "$= \\frac{Var(u_{i2}) + Var(u_{i1}) - 2Cov(u_{i2}, u_{i1})}{Var(X_{i2})} \\because X_{i1} = 0,  \\text{for all } i.$\n",
        "\n",
        "$= \\frac{Var(u_{i2}) + Var(u_{i1}) - 2 \\times 0}{Var(X_{i2})}$\n",
        "\n",
        "$= \\frac{2 \\times \\sigma^2_u}{Var(X_{i2})}$\n"
      ]
    },
    {
      "cell_type": "markdown",
      "metadata": {
        "id": "Ik0lesGd5evJ"
      },
      "source": [
        "## **13.6-3**\n",
        "若 $\\sigma_{u}^2 < \\sigma_{\\alpha}^2$ (individual-specific effects 變異大), 則  differences-in-differences estimator 較優(More efficient)。"
      ]
    },
    {
      "cell_type": "markdown",
      "metadata": {
        "id": "fch5u4lhLpgv"
      },
      "source": [
        "# **Exercise 13.7**\n",
        "Suppose you have panel data from an experiment with $T = 2$ periods (so\n",
        "$t = 1, 2$). Consider the panel data regression model with fixed individual and\n",
        "time effects and individual characteristics $W_i$ that do not change over time. Let\n",
        "the treatment be binary, so that $X_{it} = 1$ for $t = 2$ for the individuals in the treatment\n",
        "group and $X_{it} = 0$ otherwise. Consider the population regression model\n",
        "\n",
        "$$Y_{it} = \\alpha_i + \\beta_1X_{it} + \\beta_2(D_i \\times W_i) + \\beta_0D_t + v_{it}$$\n",
        "\n",
        "where $\\alpha_i$ are individual fixed effects, $D_t$ is the binary variable that equals $1$\n",
        "if $t = 2$ and equals $0$ if $t = 1$, $D_t \\times W_i$ is the product of $D_t$ and $W_i$, and the\n",
        "$\\alpha$’s and $\\beta$’s are unknown coefficients. Let $\u001e\\Delta Y_i = Y_{i2} - Y_{i1}$. Derive Equation\n",
        "(13.6) (in the case of a single $W$ regressor, so $r = 1$) from this population\n",
        "regression model.\n",
        "\n",
        "---\n",
        "\n"
      ]
    },
    {
      "cell_type": "markdown",
      "metadata": {
        "id": "GBL8yi92RrkF"
      },
      "source": [
        "$\\left\\{ \\begin{array}{ll}\n",
        "Y_{1i} = \\alpha_i + \\beta_1 X_{i1} + v_{i1}  \\\\\n",
        "Y_{2i} = \\alpha_i + \\beta_1 X_{i2} + \\beta_2 W_{i} + \\beta_0 + v_{i2}\n",
        "\\end{array} \\right.$\n",
        "\n",
        "$\\rightarrow Y_{2i} - Y_{1i} = \\beta_1 (X_{i2}-X_{i1}) + \\beta_2 W_{i} + \\beta_0 + (v_{i2}-v_{i1})$\n",
        "\n",
        "$\\rightarrow \\Delta Y_i = \\beta_1 \\Delta X_i + \\beta_2 W_{i} + \\beta_0 + \\Delta v_i = \\beta_0 + \\beta_1 X_i + \\beta_2 W_{i} + u_i$"
      ]
    },
    {
      "cell_type": "markdown",
      "metadata": {
        "id": "ZGDYPXzeIHl4"
      },
      "source": [
        "# **Exercise 13.10**\n",
        "Consider the regression model with heterogeneous regression coefficients\n",
        "$$Y_i = \\beta_0 + \\beta_{1i}X_i + v_i$$\n",
        "where $(v_i, X_i, \\beta_{1i})$ are $i.i.d$. random variables with $\\beta_1 = E(\\beta_{1i})$.\n",
        "1. Show that the model can be written as $Y_i = \\beta_0 + \\beta_1X_i + u_i$, where $u_i = (\\beta_{1i} - \\beta_1)X_i + v_i$.\n",
        "2. Suppose $X_i$ is randomly assigned, so that $E[\\beta_{1i}|\u001fX_i] = \\beta_1$ and $E[v_i|\u001fX_i] = 0$. Show that $E[u_i|\u001fX_i] = 0$.\n",
        "3. Show that assumption 1 and assumption 2 of Key Concept 4.3 are satisfied.\n",
        "4. Suppose outliers are rare, so that $(u_i, X_i)$ have finite fourth moments. Is\n",
        "it appropriate to use OLS and the methods of Chapters 4 and 5 to estimate\n",
        "and carry out inference about the average values of $\\beta_{0i}$ and $\\beta_{1i}$?\n",
        "5. Now suppose $X_i$ is not randomly assigned, that $E[v_i|X_i] = 0$, but that\n",
        "$\\beta_{1i}$ and $X_i$ are positively correlated, so that observations with largerthan- average values of $X_i$ tend to have larger-than-average values of\n",
        "$\\beta_{1i}$. Are the assumptions in Key Concept 4.3 satisfied? If not, which\n",
        "assumption(s) is (are) violated? Will the OLS estimator of $\\beta_1$ be\n",
        "unbiased for $E(\\beta_{1i})$?\n",
        "\n",
        "---\n",
        "\n",
        "\n"
      ]
    },
    {
      "cell_type": "markdown",
      "metadata": {
        "id": "Wk-WubjgRs2O"
      },
      "source": [
        "## **13.10-1**\n",
        "$\\begin{eqnarray} \n",
        "Y_i &=& \\beta_0 + \\beta_{1i} X_i + v_i   \\\\\n",
        "~&=& \\beta_0 + \\beta_{1i} X_i + v_i + (\\beta_1 X_i - \\beta_1 X_i) \\\\\n",
        "~&=& \\beta_0 + \\beta_1 X_i + v_i + (\\beta_{1i} X_i - \\beta_1 X_i) \\\\\n",
        "~&=& \\beta_0 + \\beta_1 X_i + u_i\n",
        "\\end{eqnarray}$"
      ]
    },
    {
      "cell_type": "markdown",
      "metadata": {
        "id": "mqVho-fRbvHh"
      },
      "source": [
        "## **13.10-2**\n",
        "$\\begin{eqnarray} \n",
        "E[u_i|X_i] &=& E[(\\beta_{1i} - \\beta_1 )X_i + v_i|X_i]  \\\\\n",
        "~&=& X_i E[\\beta_{1i}|X_i] - X_i E[\\beta_{1}|X_i] + E[v_i|X_i]  \\\\\n",
        "~&=& \\beta_1 - \\beta_1 + 0 \\\\\n",
        "~&=& 0\n",
        "\\end{eqnarray}$"
      ]
    },
    {
      "cell_type": "markdown",
      "metadata": {
        "id": "iHNWjDVpdSbe"
      },
      "source": [
        "## **13.10-3**\n",
        "由 **13.10-2**, 知 assumption 1 成立；\n",
        "\n",
        "由 $(v_i, X_i, \\beta_{1i})$ are $i.i.d$. random variables, 知 assumption 2 成立。"
      ]
    },
    {
      "cell_type": "markdown",
      "metadata": {
        "id": "ZRoZ9nNVfBJU"
      },
      "source": [
        "## **13.10-4**\n",
        "Outliers are rare $\\Rightarrow$ 滿足 Key concept 4.3 assumption 3,\n",
        "\n",
        "配合 **13.10-3**, 知 it is appropriate to use OLS to estimate and carry out inference."
      ]
    },
    {
      "cell_type": "markdown",
      "metadata": {
        "id": "9EdckpZS9Qgi"
      },
      "source": [
        "## **13.10-5**\n",
        "$Y_i = \\beta_0 + \\beta_{1i}X_i + v_i$\n",
        "\n",
        "$\\begin{eqnarray}\n",
        "Cov(\\beta_{1i}, X_i) &=& E[(\\beta_{1i}-E(\\beta_{1i}))(X_{i}-E(X_{i}))] \\\\\n",
        "&=& E[(\\beta_{1i}-\\beta_1)(X_{i}-E(X_{i}))] \\\\\n",
        "&=& E[(\\beta_{1i}-\\beta_1)X_{i}-(\\beta_{1i}-\\beta_1)E(X_{i})] \\\\\n",
        "&=& E[(\\beta_{1i}-\\beta_1)X_{i}] > 0\n",
        "\\end{eqnarray}$\n",
        "\n",
        "$\\Rightarrow E \\{ E[(\\beta_{1i}-\\beta_1)X_{i}|X_i] \\} > 0$\n",
        "\n",
        "$\\Rightarrow E[(\\beta_{1i}-\\beta_1)X_{i}|X_i] > 0$\n",
        "\n",
        "知 $E[u_i|X_i] = E[(\\beta_{1i}-\\beta_1)X_{i}+v_i|X_i] \\neq 0$,\n",
        "\n",
        "Key concept 4.3 assumption 1 不成立,\n",
        "\n",
        "the OLS estimator of $\\beta_1$ would not be unbiased for $E(\\beta_{1i})$."
      ]
    },
    {
      "cell_type": "markdown",
      "metadata": {
        "id": "J6-wtP6pOG50"
      },
      "source": [
        "# **Exercise 13.12**\n",
        "Consider the potential outcomes framework from Appendix 13.3. Suppose $X_i$\n",
        "is a binary treatment that is independent of the potential outcomes $Y_i(1)$ and\n",
        "$Y_i(0)$. Let $TE_i = Y_i(1) - Y_i(0)$ denote the treatment effect for individual $i$.\n",
        "1. Can you consistently estimate $E[Y_i(1)]$ and $E[Y_i(0)]$? If yes, explain\n",
        "how; if not, explain why not.\n",
        "2. Can you consistently estimate $E(TE_i)$? If yes, explain how; if not,\n",
        "explain why not.\n",
        "3. Can you consistently estimate $Var[Y_i(1)]$ and $Var[Y_i(0)]$? If yes, explain how; if not, explain why not.\n",
        "4. Can you consistently estimate $Var(TE_i)$? If yes, explain how; if not,\n",
        "explain why not.\n",
        "5. Do you think you can consistently estimate the median treatment effect\n",
        "in the population? Explain.\n",
        "\n",
        "---\n",
        "\n"
      ]
    },
    {
      "cell_type": "markdown",
      "metadata": {
        "id": "X5YlGmDoKPap"
      },
      "source": [
        "由 Appedix 13.3 及題旨, 知\n",
        "\n",
        "1. $Y_i = Y_i(1)X_i + Y_i(0)(1-X_i)$\n",
        "\n",
        "2. $X_i$\n",
        "is a binary treatment that is independent of the potential outcomes $Y_i(1)$ and\n",
        "$Y_i(0)$"
      ]
    },
    {
      "cell_type": "markdown",
      "metadata": {
        "id": "-y7oqnVeRuhl"
      },
      "source": [
        "## **13.12-1**\n",
        "$\\begin{eqnarray} \n",
        "E[Y_i|X_i=1] &=& E[Y_i(1)X_i + Y_i(0)(1-X_i)|X_i=1]  \\\\\n",
        "~&=& E[Y_i(1)|X_i=1] \\\\\n",
        "~&=& E[Y_i(1)]  \\text{(因兩者獨立)}\\\\\n",
        "\\end{eqnarray}$\n",
        "\n",
        "$\\Rightarrow E[Y_i(1)]$ 可由實驗組的樣本平均值估算。\n",
        "\n",
        "同理可證, $E[Y_i(0)]$ 可由對照組的樣本平均值估算。"
      ]
    },
    {
      "cell_type": "markdown",
      "metadata": {
        "id": "sNrzi3zVL_ES"
      },
      "source": [
        "## **13.12-2**\n",
        "$E(TE_i) = E[Y_i(1) - Y_i(0)]$\n",
        "\n",
        "由 **13.12-1** 知 $E(TE_i)$ 可由實驗組及對照組的樣本平均值之差估算。"
      ]
    },
    {
      "cell_type": "markdown",
      "metadata": {
        "id": "evtNQRgaMlnZ"
      },
      "source": [
        "## **13.12-3**\n",
        "$\\begin{eqnarray}\n",
        "Var(Y_i|X_i=1) &=& E(Y_i^2|X_i=1) - [E(Y_i|X_i)=1]^2 \\\\\n",
        "&=& E[Y_i(1)^2] - [E(Y_i(1)]^2 \\\\\n",
        "&=& Var[Y_i(1)]\n",
        "\\end{eqnarray}$\n",
        "\n",
        "$\\Rightarrow Var[Y_i(1)]$ 可由實驗組的樣本變異數估算。\n",
        "\n",
        "同理可證, $Var[Y_i(0)]$ 可由對照組的樣本變異數估算。"
      ]
    },
    {
      "cell_type": "markdown",
      "metadata": {
        "id": "m0P5P7uAMmLW"
      },
      "source": [
        "## **13.12-4**\n",
        "$Var(TE_i) = Var[Y_i(1)] + Var[Y_i(0)] - 2 Cov[Y_i(1), Y_i(0)]$\n",
        "\n",
        "$Var[Y_i(1)]$ 及 $Var[Y_i(0)]$ 可由 **13.12-3** 估算, \n",
        "\n",
        "但因同一觀測樣本無法同時於實驗組及對照組, 故無法估算 $Cov[Y_i(1), Y_i(0)]$,\n",
        "\n",
        "致 $Var(TE_i)$ 無法估算。"
      ]
    },
    {
      "cell_type": "markdown",
      "metadata": {
        "id": "kh5dDU7IMmrf"
      },
      "source": [
        "## **13.12-5**\n",
        "中位數運算特性與 **13.12-2** 平均數的運算特性不同,\n",
        "\n",
        "$median[Y_i(1)-Y_i(0)] \\neq median[Y_i(1)] - median[Y_i(0)]$\n",
        "\n",
        "故應無法估算 $median[Y_i(1)-Y_i(0)]$。\n",
        "\n"
      ]
    },
    {
      "cell_type": "markdown",
      "metadata": {
        "id": "tDFKCXdAQ4FS"
      },
      "source": [
        "# **E13.1**\n",
        "A prospective employer receives two resumes: a resume from a white job applicant\n",
        "and a similar resume from an African American applicant. Is the employer\n",
        "more likely to call back the white applicant to arrange an interview? Marianne\n",
        "Bertrand and Sendhil Mullainathan carried out a randomized controlled\n",
        "experiment to answer this question. Because race is not typically included on\n",
        "a resume, they differentiated resumes on the basis of “white-sounding names”\n",
        "(such as Emily Walsh or Gregory Baker) and “African American–sounding\n",
        "names” (such as Lakisha Washington or Jamal Jones). A large collection of fictitious\n",
        "resumes was created, and the presupposed “race” (based on the “sound”\n",
        "of the name) was randomly assigned to each resume. These resumes were sent\n",
        "to prospective employers to see which resumes generated a phone call (a callback)\n",
        "from the prospective employer. Data from the experiment and a detailed\n",
        "data description are on the text website, **http://www.pearsonglobaleditions.com**, in the files **Names and Names_Description**.\n",
        "1. Define the $callback$ rate as the fraction of resumes that generate a phone\n",
        "call from the prospective employer. What was the callback rate for\n",
        "whites? For African Americans? Construct a 95% confidence interval\n",
        "for the difference in the callback rates. Is the difference statistically significant? Is it large in a real-world sense?\n",
        "2. Is the African American/white callback rate differential different for\n",
        "men than for women?\n",
        "3. What is the difference in callback rates for high-quality versus lowquality\n",
        "resumes? What is the high-quality/low-quality difference for\n",
        "white applicants? For African American applicants? Is there a significant\n",
        "difference in this high-quality/low-quality difference for whites versus\n",
        "African Americans?\n",
        "4. The authors of the study claim that race was assigned randomly to the\n",
        "resumes. Is there any evidence of nonrandom assignment?\n",
        "\n",
        "---\n",
        "\n"
      ]
    },
    {
      "cell_type": "code",
      "metadata": {
        "id": "fKhQY2CtRZYB"
      },
      "source": [
        "import numpy as np\n",
        "import pandas as pd\n",
        "import statsmodels.formula.api as smf"
      ],
      "execution_count": null,
      "outputs": []
    },
    {
      "cell_type": "code",
      "metadata": {
        "id": "ozRV7ekhRv12"
      },
      "source": [
        "!gdown --id '1b1OD7qauTWdefOjojLRRKe0feYyaWPgx' --output names.xlsx"
      ],
      "execution_count": null,
      "outputs": []
    },
    {
      "cell_type": "code",
      "metadata": {
        "id": "ygKQJX0DRwAR"
      },
      "source": [
        "names = pd.read_excel('names.xlsx')"
      ],
      "execution_count": null,
      "outputs": []
    },
    {
      "cell_type": "code",
      "metadata": {
        "id": "TwkdyUEWSYGw"
      },
      "source": [
        "names.head()"
      ],
      "execution_count": null,
      "outputs": []
    },
    {
      "cell_type": "markdown",
      "metadata": {
        "id": "ZfFNpx2xOnh5"
      },
      "source": [
        "「種族」以“white-sounding names”及“African American–sounding names”區分。"
      ]
    },
    {
      "cell_type": "markdown",
      "metadata": {
        "id": "iJpOpU0NXBxR"
      },
      "source": [
        "## E13.1-a"
      ]
    },
    {
      "cell_type": "code",
      "metadata": {
        "colab": {
          "base_uri": "https://localhost:8080/"
        },
        "id": "0DjnQdiQSZ9T",
        "outputId": "3976029d-4061-48b4-9ce8-058ab2822f1a"
      },
      "source": [
        "reg_13_1_a = smf.ols('call_back~black', data=names)\n",
        "results_13_1_a = reg_13_1_a.fit(cov_type='HC1', use_t=True)\n",
        "print(results_13_1_a.summary())"
      ],
      "execution_count": null,
      "outputs": [
        {
          "output_type": "stream",
          "text": [
            "                            OLS Regression Results                            \n",
            "==============================================================================\n",
            "Dep. Variable:              call_back   R-squared:                       0.003\n",
            "Model:                            OLS   Adj. R-squared:                  0.003\n",
            "Method:                 Least Squares   F-statistic:                     16.93\n",
            "Date:                Sat, 17 Apr 2021   Prob (F-statistic):           3.94e-05\n",
            "Time:                        15:46:24   Log-Likelihood:                -562.24\n",
            "No. Observations:                4870   AIC:                             1128.\n",
            "Df Residuals:                    4868   BIC:                             1141.\n",
            "Df Model:                           1                                         \n",
            "Covariance Type:                  HC1                                         \n",
            "==============================================================================\n",
            "                 coef    std err          t      P>|t|      [0.025      0.975]\n",
            "------------------------------------------------------------------------------\n",
            "Intercept      0.0965      0.006     16.124      0.000       0.085       0.108\n",
            "black         -0.0320      0.008     -4.115      0.000      -0.047      -0.017\n",
            "==============================================================================\n",
            "Omnibus:                     2969.205   Durbin-Watson:                   1.440\n",
            "Prob(Omnibus):                  0.000   Jarque-Bera (JB):            18927.068\n",
            "Skew:                           3.068   Prob(JB):                         0.00\n",
            "Kurtosis:                      10.458   Cond. No.                         2.62\n",
            "==============================================================================\n",
            "\n",
            "Warnings:\n",
            "[1] Standard Errors are heteroscedasticity robust (HC1)\n"
          ],
          "name": "stdout"
        }
      ]
    },
    {
      "cell_type": "markdown",
      "metadata": {
        "id": "xF2IQ5-WZDBw"
      },
      "source": [
        "The callback rate for whites: $9.65\\%$\n",
        "\n",
        "The callback rate for African Americans: $6.45\\%$\n",
        "\n",
        "$95\\%$ confidence interval: $[-4.73\\%, -1.68\\%]$\n",
        "\n",
        "$\\alpha = 0.01, Pvalue=0.00 < \\alpha \\Rightarrow $ 統計上, 種族對回覆率有顯著影響。\n",
        "\n",
        "因兩者回覆率皆很低, 但因種族就占 $3.20\\%$ 之差, 故差異滿大的。"
      ]
    },
    {
      "cell_type": "markdown",
      "metadata": {
        "id": "GM5pNvElYXBO"
      },
      "source": [
        "## E13.1-b"
      ]
    },
    {
      "cell_type": "code",
      "metadata": {
        "colab": {
          "base_uri": "https://localhost:8080/"
        },
        "id": "Wq1vsWYnb7X_",
        "outputId": "1fa4f8da-90fc-43dd-adc4-a55a262d97be"
      },
      "source": [
        "reg_13_1_b = smf.ols('call_back~black+female+black*female', data=names)\n",
        "results_13_1_b = reg_13_1_b.fit(cov_type='HC1', use_t=True)\n",
        "print(results_13_1_b.summary())"
      ],
      "execution_count": null,
      "outputs": [
        {
          "output_type": "stream",
          "text": [
            "                            OLS Regression Results                            \n",
            "==============================================================================\n",
            "Dep. Variable:              call_back   R-squared:                       0.004\n",
            "Model:                            OLS   Adj. R-squared:                  0.003\n",
            "Method:                 Least Squares   F-statistic:                     5.995\n",
            "Date:                Sat, 17 Apr 2021   Prob (F-statistic):           0.000450\n",
            "Time:                        15:30:44   Log-Likelihood:                -561.75\n",
            "No. Observations:                4870   AIC:                             1131.\n",
            "Df Residuals:                    4866   BIC:                             1157.\n",
            "Df Model:                           3                                         \n",
            "Covariance Type:                  HC1                                         \n",
            "================================================================================\n",
            "                   coef    std err          t      P>|t|      [0.025      0.975]\n",
            "--------------------------------------------------------------------------------\n",
            "Intercept        0.0887      0.012      7.478      0.000       0.065       0.112\n",
            "black           -0.0304      0.016     -1.960      0.050      -0.061    1.09e-05\n",
            "female           0.0102      0.014      0.745      0.456      -0.017       0.037\n",
            "black:female    -0.0022      0.018     -0.125      0.901      -0.037       0.033\n",
            "==============================================================================\n",
            "Omnibus:                     2968.362   Durbin-Watson:                   1.441\n",
            "Prob(Omnibus):                  0.000   Jarque-Bera (JB):            18913.265\n",
            "Skew:                           3.067   Prob(JB):                         0.00\n",
            "Kurtosis:                      10.455   Cond. No.                         10.3\n",
            "==============================================================================\n",
            "\n",
            "Warnings:\n",
            "[1] Standard Errors are heteroscedasticity robust (HC1)\n"
          ],
          "name": "stdout"
        }
      ]
    },
    {
      "cell_type": "markdown",
      "metadata": {
        "id": "7XsvHAjudZs4"
      },
      "source": [
        "$\\alpha = 0.1, black \\times female$ 之 $Pvalue = 0.9 > \\alpha$\n",
        "\n",
        "$\\Rightarrow$ 統計上, 種族與性別的交互作用不顯著。"
      ]
    },
    {
      "cell_type": "markdown",
      "metadata": {
        "id": "hovYjEOFcDR1"
      },
      "source": [
        "## E13.1-c"
      ]
    },
    {
      "cell_type": "code",
      "metadata": {
        "colab": {
          "base_uri": "https://localhost:8080/"
        },
        "id": "-9w_NZ2se0g1",
        "outputId": "f30a4a11-bb40-4a58-9497-345d64cd47c0"
      },
      "source": [
        "reg = smf.ols('call_back~high', data=names)\n",
        "results = reg.fit(cov_type='HC1', use_t=True)\n",
        "print(results.t_test('high=0').summary(xname=['high']))"
      ],
      "execution_count": null,
      "outputs": [
        {
          "output_type": "stream",
          "text": [
            "                             Test for Constraints                             \n",
            "==============================================================================\n",
            "                 coef    std err          t      P>|t|      [0.025      0.975]\n",
            "------------------------------------------------------------------------------\n",
            "high           0.0141      0.008      1.804      0.071      -0.001       0.029\n",
            "==============================================================================\n"
          ],
          "name": "stdout"
        }
      ]
    },
    {
      "cell_type": "markdown",
      "metadata": {
        "id": "EjpjikrYgHCE"
      },
      "source": [
        "高品質履歷與低品質履歷的回覆率，平均差 $1.41\\%$"
      ]
    },
    {
      "cell_type": "code",
      "metadata": {
        "colab": {
          "base_uri": "https://localhost:8080/"
        },
        "id": "PzRM9sbrei7G",
        "outputId": "9046063f-d30d-4031-93e6-b257956fda1b"
      },
      "source": [
        "reg_13_1_c = smf.ols('call_back~black+high+black*high', data=names)\n",
        "results_13_1_c = reg_13_1_c.fit(cov_type='HC1', use_t=True)\n",
        "print(results_13_1_c.summary())"
      ],
      "execution_count": null,
      "outputs": [
        {
          "output_type": "stream",
          "text": [
            "                            OLS Regression Results                            \n",
            "==============================================================================\n",
            "Dep. Variable:              call_back   R-squared:                       0.004\n",
            "Model:                            OLS   Adj. R-squared:                  0.004\n",
            "Method:                 Least Squares   F-statistic:                     6.613\n",
            "Date:                Sat, 17 Apr 2021   Prob (F-statistic):           0.000187\n",
            "Time:                        15:37:14   Log-Likelihood:                -559.96\n",
            "No. Observations:                4870   AIC:                             1128.\n",
            "Df Residuals:                    4866   BIC:                             1154.\n",
            "Df Model:                           3                                         \n",
            "Covariance Type:                  HC1                                         \n",
            "==============================================================================\n",
            "                 coef    std err          t      P>|t|      [0.025      0.975]\n",
            "------------------------------------------------------------------------------\n",
            "Intercept      0.0850      0.008     10.605      0.000       0.069       0.101\n",
            "black         -0.0231      0.011     -2.182      0.029      -0.044      -0.002\n",
            "high           0.0229      0.012      1.919      0.055      -0.000       0.046\n",
            "black:high    -0.0178      0.016     -1.143      0.253      -0.048       0.013\n",
            "==============================================================================\n",
            "Omnibus:                     2965.631   Durbin-Watson:                   1.439\n",
            "Prob(Omnibus):                  0.000   Jarque-Bera (JB):            18871.588\n",
            "Skew:                           3.064   Prob(JB):                         0.00\n",
            "Kurtosis:                      10.447   Cond. No.                         6.87\n",
            "==============================================================================\n",
            "\n",
            "Warnings:\n",
            "[1] Standard Errors are heteroscedasticity robust (HC1)\n"
          ],
          "name": "stdout"
        }
      ]
    },
    {
      "cell_type": "markdown",
      "metadata": {
        "id": "xD9bmcvieo89"
      },
      "source": [
        "The high-quality/low-quality difference for white applicants: $2.29\\%$\n",
        "\n",
        "The high-quality/low-quality difference for white applicants: $\\widehat{\\beta}_{high} + \\widehat{\\beta}_{black \\times high} = 0.52\\%$\n",
        "\n",
        "$\\alpha = 0.1, black \\times high$ 之 $Pvalue = 0.25 > \\alpha$\n",
        "\n",
        "$\\Rightarrow$ 統計上, 種族與履歷品質的交互作用不顯著。"
      ]
    },
    {
      "cell_type": "markdown",
      "metadata": {
        "id": "VyEOC789hpFF"
      },
      "source": [
        "## E13.1-d"
      ]
    },
    {
      "cell_type": "code",
      "metadata": {
        "colab": {
          "base_uri": "https://localhost:8080/"
        },
        "id": "0MUsNdHslTOA",
        "outputId": "035bd54e-6a10-4459-921f-94ff9c01b6a0"
      },
      "source": [
        "reg_13_1_d = smf.ols('black~ofjobs+yearsexp+honors+volunteer+military+empholes+workinschool+email+computerskills+specialskills+college', data=names)\n",
        "results_13_1_d = reg_13_1_d.fit(cov_type='HC1', use_t=True)\n",
        "print(results_13_1_d.summary())"
      ],
      "execution_count": null,
      "outputs": [
        {
          "output_type": "stream",
          "text": [
            "                            OLS Regression Results                            \n",
            "==============================================================================\n",
            "Dep. Variable:                  black   R-squared:                       0.002\n",
            "Model:                            OLS   Adj. R-squared:                 -0.001\n",
            "Method:                 Least Squares   F-statistic:                    0.6713\n",
            "Date:                Sat, 17 Apr 2021   Prob (F-statistic):              0.767\n",
            "Time:                        16:10:42   Log-Likelihood:                -3530.9\n",
            "No. Observations:                4870   AIC:                             7086.\n",
            "Df Residuals:                    4858   BIC:                             7164.\n",
            "Df Model:                          11                                         \n",
            "Covariance Type:                  HC1                                         \n",
            "==================================================================================\n",
            "                     coef    std err          t      P>|t|      [0.025      0.975]\n",
            "----------------------------------------------------------------------------------\n",
            "Intercept          0.4683      0.033     14.360      0.000       0.404       0.532\n",
            "ofjobs            -0.0036      0.007     -0.544      0.586      -0.017       0.009\n",
            "yearsexp           0.0006      0.002      0.397      0.691      -0.003       0.004\n",
            "honors            -0.0155      0.034     -0.458      0.647      -0.082       0.051\n",
            "volunteer          0.0089      0.020      0.435      0.663      -0.031       0.049\n",
            "military           0.0285      0.027      1.057      0.291      -0.024       0.081\n",
            "empholes          -0.0009      0.017     -0.050      0.960      -0.035       0.033\n",
            "workinschool      -0.0084      0.018     -0.465      0.642      -0.044       0.027\n",
            "email             -0.0134      0.021     -0.643      0.520      -0.054       0.027\n",
            "computerskills     0.0458      0.020      2.288      0.022       0.007       0.085\n",
            "specialskills     -0.0007      0.016     -0.044      0.965      -0.032       0.031\n",
            "college            0.0118      0.017      0.700      0.484      -0.021       0.045\n",
            "==============================================================================\n",
            "Omnibus:                    16991.353   Durbin-Watson:                   2.372\n",
            "Prob(Omnibus):                  0.000   Jarque-Bera (JB):              806.788\n",
            "Skew:                          -0.000   Prob(JB):                    6.43e-176\n",
            "Kurtosis:                       1.006   Cond. No.                         51.0\n",
            "==============================================================================\n",
            "\n",
            "Warnings:\n",
            "[1] Standard Errors are heteroscedasticity robust (HC1)\n"
          ],
          "name": "stdout"
        }
      ]
    },
    {
      "cell_type": "markdown",
      "metadata": {
        "id": "Jta1DueZmTcz"
      },
      "source": [
        "將 $black$ 與 履歷相關變數 做迴歸分析, \n",
        "\n",
        "由於迴歸式整體 $Pvalue=0.77$, 故統計上, 無證據顯示種族為非隨機指定至履歷。\n",
        "\n",
        "(與種族較相關的履歷變數為 $computerskills$)"
      ]
    }
  ]
}