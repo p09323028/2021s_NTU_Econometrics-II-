{
  "nbformat": 4,
  "nbformat_minor": 0,
  "metadata": {
    "colab": {
      "name": "ch11_hmda.ipynb",
      "provenance": [],
      "collapsed_sections": [],
      "authorship_tag": "ABX9TyOl/TI8yObq+ELH1ToCiFwH",
      "include_colab_link": true
    },
    "kernelspec": {
      "name": "python3",
      "display_name": "Python 3"
    }
  },
  "cells": [
    {
      "cell_type": "markdown",
      "metadata": {
        "id": "view-in-github",
        "colab_type": "text"
      },
      "source": [
        "<a href=\"https://colab.research.google.com/github/p09323028/2021s_NTU_Econometrics_II/blob/main/ch11_hmda.ipynb\" target=\"_parent\"><img src=\"https://colab.research.google.com/assets/colab-badge.svg\" alt=\"Open In Colab\"/></a>"
      ]
    },
    {
      "cell_type": "markdown",
      "metadata": {
        "id": "8G5gffaIxw1O"
      },
      "source": [
        "# **Chapter 11: Regression with a Binary Dependent Variable**\n",
        "前置作業:\n",
        "- import 套件\n",
        "- 載入資料\n",
        "- 讀取資料\n",
        "- 資料處理(設置變數)"
      ]
    },
    {
      "cell_type": "code",
      "metadata": {
        "id": "WocFs3tY1n98"
      },
      "source": [
        "import pandas as pd\n",
        "import statsmodels.formula.api as smf"
      ],
      "execution_count": null,
      "outputs": []
    },
    {
      "cell_type": "code",
      "metadata": {
        "colab": {
          "base_uri": "https://localhost:8080/"
        },
        "id": "C65gyYrZ0y07",
        "outputId": "5b4e175c-77b5-42a8-8a5a-a1b0d8b71c42"
      },
      "source": [
        "!gdown --id '1DltuPcSDPoGhqCG15vw82Ck2T557NAAw' --output hmda.xlsx\n",
        "!ls"
      ],
      "execution_count": null,
      "outputs": [
        {
          "output_type": "stream",
          "text": [
            "Downloading...\n",
            "From: https://drive.google.com/uc?id=1DltuPcSDPoGhqCG15vw82Ck2T557NAAw\n",
            "To: /content/hmda.xlsx\n",
            "\r  0% 0.00/568k [00:00<?, ?B/s]\r100% 568k/568k [00:00<00:00, 79.7MB/s]\n",
            "hmda.xlsx  sample_data\n"
          ],
          "name": "stdout"
        }
      ]
    },
    {
      "cell_type": "code",
      "metadata": {
        "colab": {
          "base_uri": "https://localhost:8080/"
        },
        "id": "3jlioKh91uBf",
        "outputId": "9fc79f83-bfcf-4400-f706-5b4bc34b2d83"
      },
      "source": [
        "hmda = pd.read_excel('hmda.xlsx')\n",
        "hmda.shape"
      ],
      "execution_count": null,
      "outputs": [
        {
          "output_type": "execute_result",
          "data": {
            "text/plain": [
              "(2380, 62)"
            ]
          },
          "metadata": {
            "tags": []
          },
          "execution_count": 87
        }
      ]
    },
    {
      "cell_type": "code",
      "metadata": {
        "id": "SyJ63Mgj1zw2"
      },
      "source": [
        "hmda['deny'] = hmda.s7.apply(lambda x: 1 if x == 3 else 0)\n",
        "hmda['pi_rat'] = hmda['s46'] / 100\n",
        "hmda['black'] = hmda.s13.apply(lambda x: 1 if x == 3 else 0)"
      ],
      "execution_count": null,
      "outputs": []
    },
    {
      "cell_type": "code",
      "metadata": {
        "colab": {
          "base_uri": "https://localhost:8080/"
        },
        "id": "w14d03wO2RoI",
        "outputId": "9d4401fe-6c7a-4c21-a24c-7442b25e0a33"
      },
      "source": [
        "hmda['deny'][hmda['black'] == 1].describe()"
      ],
      "execution_count": null,
      "outputs": [
        {
          "output_type": "execute_result",
          "data": {
            "text/plain": [
              "count    339.000000\n",
              "mean       0.283186\n",
              "std        0.451212\n",
              "min        0.000000\n",
              "25%        0.000000\n",
              "50%        0.000000\n",
              "75%        1.000000\n",
              "max        1.000000\n",
              "Name: deny, dtype: float64"
            ]
          },
          "metadata": {
            "tags": []
          },
          "execution_count": 89
        }
      ]
    },
    {
      "cell_type": "code",
      "metadata": {
        "id": "IKt_vfpD2giQ",
        "colab": {
          "base_uri": "https://localhost:8080/"
        },
        "outputId": "8d0d9e38-1d2f-4132-c2d1-679544d9ce37"
      },
      "source": [
        "hmda['deny'][hmda['black'] == 0].describe()"
      ],
      "execution_count": null,
      "outputs": [
        {
          "output_type": "execute_result",
          "data": {
            "text/plain": [
              "count    2041.000000\n",
              "mean        0.092602\n",
              "std         0.289944\n",
              "min         0.000000\n",
              "25%         0.000000\n",
              "50%         0.000000\n",
              "75%         0.000000\n",
              "max         1.000000\n",
              "Name: deny, dtype: float64"
            ]
          },
          "metadata": {
            "tags": []
          },
          "execution_count": 90
        }
      ]
    },
    {
      "cell_type": "markdown",
      "metadata": {
        "id": "g6thHDHhxtht"
      },
      "source": [
        "## **11.1 Binary Dependent Variables and the Linear Probability Model**"
      ]
    },
    {
      "cell_type": "markdown",
      "metadata": {
        "id": "65KaoldVy12P"
      },
      "source": [
        "### **Equation 11.1**\n",
        "$\\widehat{deny} = -0.080 + 0.604 P/I ratio.$"
      ]
    },
    {
      "cell_type": "code",
      "metadata": {
        "colab": {
          "base_uri": "https://localhost:8080/"
        },
        "id": "FkAJDeVDy_KX",
        "outputId": "d4afdb54-38db-4b29-c62c-bf5ede148dc9"
      },
      "source": [
        "reg_11_1 = smf.ols(formula='deny ~ pi_rat', data=hmda)\n",
        "result_11_1 = reg_11_1.fit(cov_type='HC1')\n",
        "print(result_11_1.summary())"
      ],
      "execution_count": null,
      "outputs": [
        {
          "output_type": "stream",
          "text": [
            "                            OLS Regression Results                            \n",
            "==============================================================================\n",
            "Dep. Variable:                   deny   R-squared:                       0.040\n",
            "Model:                            OLS   Adj. R-squared:                  0.039\n",
            "Method:                 Least Squares   F-statistic:                     37.56\n",
            "Date:                Fri, 19 Mar 2021   Prob (F-statistic):           1.04e-09\n",
            "Time:                        02:50:26   Log-Likelihood:                -651.42\n",
            "No. Observations:                2380   AIC:                             1307.\n",
            "Df Residuals:                    2378   BIC:                             1318.\n",
            "Df Model:                           1                                         \n",
            "Covariance Type:                  HC1                                         \n",
            "==============================================================================\n",
            "                 coef    std err          z      P>|z|      [0.025      0.975]\n",
            "------------------------------------------------------------------------------\n",
            "Intercept     -0.0799      0.032     -2.500      0.012      -0.143      -0.017\n",
            "pi_rat         0.6035      0.098      6.128      0.000       0.411       0.797\n",
            "==============================================================================\n",
            "Omnibus:                     1018.085   Durbin-Watson:                   1.461\n",
            "Prob(Omnibus):                  0.000   Jarque-Bera (JB):             3273.764\n",
            "Skew:                           2.280   Prob(JB):                         0.00\n",
            "Kurtosis:                       6.497   Cond. No.                         10.4\n",
            "==============================================================================\n",
            "\n",
            "Warnings:\n",
            "[1] Standard Errors are heteroscedasticity robust (HC1)\n"
          ],
          "name": "stdout"
        }
      ]
    },
    {
      "cell_type": "markdown",
      "metadata": {
        "id": "pU5vggku0iV_"
      },
      "source": [
        "### **Equation 11.3**\n",
        "$\\widehat{deny} = -0.091 + 0.559 P/I ratio + 0.177 black.$"
      ]
    },
    {
      "cell_type": "code",
      "metadata": {
        "colab": {
          "base_uri": "https://localhost:8080/"
        },
        "id": "wEVpTOYZ2A2k",
        "outputId": "9e9661ec-c2d7-4f70-f5f3-85827453aa31"
      },
      "source": [
        "reg_11_3 = smf.ols(formula='deny ~ pi_rat + black', data=hmda)\n",
        "result_11_3 = reg_11_3.fit(cov_type='HC1')\n",
        "print(result_11_3.summary())"
      ],
      "execution_count": null,
      "outputs": [
        {
          "output_type": "stream",
          "text": [
            "                            OLS Regression Results                            \n",
            "==============================================================================\n",
            "Dep. Variable:                   deny   R-squared:                       0.076\n",
            "Model:                            OLS   Adj. R-squared:                  0.075\n",
            "Method:                 Least Squares   F-statistic:                     49.39\n",
            "Date:                Fri, 19 Mar 2021   Prob (F-statistic):           9.67e-22\n",
            "Time:                        02:50:26   Log-Likelihood:                -605.61\n",
            "No. Observations:                2380   AIC:                             1217.\n",
            "Df Residuals:                    2377   BIC:                             1235.\n",
            "Df Model:                           2                                         \n",
            "Covariance Type:                  HC1                                         \n",
            "==============================================================================\n",
            "                 coef    std err          z      P>|z|      [0.025      0.975]\n",
            "------------------------------------------------------------------------------\n",
            "Intercept     -0.0905      0.029     -3.165      0.002      -0.147      -0.034\n",
            "pi_rat         0.5592      0.089      6.307      0.000       0.385       0.733\n",
            "black          0.1774      0.025      7.112      0.000       0.129       0.226\n",
            "==============================================================================\n",
            "Omnibus:                      969.841   Durbin-Watson:                   1.517\n",
            "Prob(Omnibus):                  0.000   Jarque-Bera (JB):             3013.280\n",
            "Skew:                           2.168   Prob(JB):                         0.00\n",
            "Kurtosis:                       6.403   Cond. No.                         10.5\n",
            "==============================================================================\n",
            "\n",
            "Warnings:\n",
            "[1] Standard Errors are heteroscedasticity robust (HC1)\n"
          ],
          "name": "stdout"
        }
      ]
    },
    {
      "cell_type": "markdown",
      "metadata": {
        "id": "mGoYHH0j2HFh"
      },
      "source": [
        "## **11.2 Probit and Logit Regression**"
      ]
    },
    {
      "cell_type": "markdown",
      "metadata": {
        "id": "B95sLDyn2bOB"
      },
      "source": [
        "### **Equation 11.7**\n",
        "$\\widehat{Pr}(deny=1|P/Iratio)=\\Phi(-2.19+2.97P/Iratio).$"
      ]
    },
    {
      "cell_type": "code",
      "metadata": {
        "colab": {
          "base_uri": "https://localhost:8080/"
        },
        "id": "zTqlepH33UvE",
        "outputId": "d900a6b3-16e6-45d1-c570-26bdb8d432be"
      },
      "source": [
        "reg_11_7 = smf.probit(formula='deny ~ pi_rat', data=hmda)\n",
        "result_11_7 = reg_11_7.fit(cov_type='HC1', disp=1)\n",
        "print(result_11_7.summary())"
      ],
      "execution_count": null,
      "outputs": [
        {
          "output_type": "stream",
          "text": [
            "Optimization terminated successfully.\n",
            "         Current function value: 0.349493\n",
            "         Iterations 6\n",
            "                          Probit Regression Results                           \n",
            "==============================================================================\n",
            "Dep. Variable:                   deny   No. Observations:                 2380\n",
            "Model:                         Probit   Df Residuals:                     2378\n",
            "Method:                           MLE   Df Model:                            1\n",
            "Date:                Fri, 19 Mar 2021   Pseudo R-squ.:                 0.04620\n",
            "Time:                        02:50:26   Log-Likelihood:                -831.79\n",
            "converged:                       True   LL-Null:                       -872.09\n",
            "Covariance Type:                  HC1   LLR p-value:                 2.783e-19\n",
            "==============================================================================\n",
            "                 coef    std err          z      P>|z|      [0.025      0.975]\n",
            "------------------------------------------------------------------------------\n",
            "Intercept     -2.1942      0.165    -13.303      0.000      -2.517      -1.871\n",
            "pi_rat         2.9679      0.465      6.380      0.000       2.056       3.880\n",
            "==============================================================================\n"
          ],
          "name": "stdout"
        }
      ]
    },
    {
      "cell_type": "markdown",
      "metadata": {
        "id": "9_x5hpW-7Rdx"
      },
      "source": [
        "### **Equation 11.8**\n",
        "$\\widehat{Pr}(deny=1|P/Iratio, black)=\\Phi(-2.26+2.74P/Iratio+0.71black).$"
      ]
    },
    {
      "cell_type": "code",
      "metadata": {
        "colab": {
          "base_uri": "https://localhost:8080/"
        },
        "id": "SLvqDztK8QrK",
        "outputId": "e0356b93-8d79-4528-ab43-8cf822082d60"
      },
      "source": [
        "reg_11_8 = smf.probit(formula='deny ~ pi_rat + black', data=hmda)\n",
        "result_11_8 = reg_11_8.fit(cov_type='HC1', disp=1)\n",
        "print(result_11_8.summary())"
      ],
      "execution_count": null,
      "outputs": [
        {
          "output_type": "stream",
          "text": [
            "Optimization terminated successfully.\n",
            "         Current function value: 0.334931\n",
            "         Iterations 6\n",
            "                          Probit Regression Results                           \n",
            "==============================================================================\n",
            "Dep. Variable:                   deny   No. Observations:                 2380\n",
            "Model:                         Probit   Df Residuals:                     2377\n",
            "Method:                           MLE   Df Model:                            2\n",
            "Date:                Fri, 19 Mar 2021   Pseudo R-squ.:                 0.08594\n",
            "Time:                        02:50:26   Log-Likelihood:                -797.14\n",
            "converged:                       True   LL-Null:                       -872.09\n",
            "Covariance Type:                  HC1   LLR p-value:                 2.818e-33\n",
            "==============================================================================\n",
            "                 coef    std err          z      P>|z|      [0.025      0.975]\n",
            "------------------------------------------------------------------------------\n",
            "Intercept     -2.2587      0.159    -14.225      0.000      -2.570      -1.948\n",
            "pi_rat         2.7416      0.444      6.174      0.000       1.871       3.612\n",
            "black          0.7082      0.083      8.515      0.000       0.545       0.871\n",
            "==============================================================================\n"
          ],
          "name": "stdout"
        }
      ]
    },
    {
      "cell_type": "markdown",
      "metadata": {
        "id": "1091zSGN8Y6O"
      },
      "source": [
        "### **Equation 11.10**\n",
        "$\\widehat{Pr}(deny=1|P/Iratio, black)=F(-4.13+5.37P/Iratio+1.27black).$"
      ]
    },
    {
      "cell_type": "code",
      "metadata": {
        "colab": {
          "base_uri": "https://localhost:8080/"
        },
        "id": "ZD4vLHGV81yo",
        "outputId": "11355b13-7645-4c62-cbee-36de63273277"
      },
      "source": [
        "reg_11_10 = smf.logit(formula='deny ~ pi_rat + black', data=hmda)\n",
        "result_11_10 = reg_11_10.fit(cov_type='HC1', disp=1)\n",
        "print(result_11_10.summary())"
      ],
      "execution_count": null,
      "outputs": [
        {
          "output_type": "stream",
          "text": [
            "Optimization terminated successfully.\n",
            "         Current function value: 0.334326\n",
            "         Iterations 7\n",
            "                           Logit Regression Results                           \n",
            "==============================================================================\n",
            "Dep. Variable:                   deny   No. Observations:                 2380\n",
            "Model:                          Logit   Df Residuals:                     2377\n",
            "Method:                           MLE   Df Model:                            2\n",
            "Date:                Fri, 19 Mar 2021   Pseudo R-squ.:                 0.08759\n",
            "Time:                        02:50:26   Log-Likelihood:                -795.70\n",
            "converged:                       True   LL-Null:                       -872.09\n",
            "Covariance Type:                  HC1   LLR p-value:                 6.671e-34\n",
            "==============================================================================\n",
            "                 coef    std err          z      P>|z|      [0.025      0.975]\n",
            "------------------------------------------------------------------------------\n",
            "Intercept     -4.1256      0.346    -11.932      0.000      -4.803      -3.448\n",
            "pi_rat         5.3704      0.963      5.576      0.000       3.483       7.258\n",
            "black          1.2728      0.146      8.714      0.000       0.986       1.559\n",
            "==============================================================================\n"
          ],
          "name": "stdout"
        }
      ]
    },
    {
      "cell_type": "markdown",
      "metadata": {
        "id": "g6yP9h3N9OYa"
      },
      "source": [
        "## **11.3 Estimation and Inference in the Logit and Probit Models**"
      ]
    },
    {
      "cell_type": "markdown",
      "metadata": {
        "id": "Ph3EJt85TcvX"
      },
      "source": [
        "## **11.4 Application to the Boston HMDA Data**\n",
        "變數處理\n",
        "- housing expense to income ratio\n",
        "- loan to value ratio\n",
        "- Consumer credit score\n",
        "- mortgage credit score\n",
        "- public bad credit record\n",
        "- denied mortgage insurance\n",
        "- self-employed\n",
        "- maried\n",
        "- single\n",
        "- high school diploma\n",
        "- unemployment rate\n",
        "- condo\n"
      ]
    },
    {
      "cell_type": "code",
      "metadata": {
        "id": "7xTQDUKM-ZbF"
      },
      "source": [
        "# housing expense to income ratio\n",
        "hmda['hse_inc'] = hmda['s45'] / 100\n",
        "# loan to value ratio\n",
        "hmda['loan_val'] = hmda['s6'] / hmda['s50']\n",
        "# Consumer credit score\n",
        "hmda['ccred'] = hmda['s43']\n",
        "# mortgage credit score\n",
        "hmda['mcred'] = hmda['s42']\n",
        "# public bad credit record\n",
        "hmda['pubrec'] = hmda.s44.apply(lambda x: 1 if x > 0 else 0)\n",
        "# denied mortgage insurance\n",
        "hmda['denpmi'] = hmda.s53.apply(lambda x: 1 if x == 1 else 0)\n",
        "# self-employed\n",
        "hmda['selfemp'] = hmda.s27a.apply(lambda x: 1 if x == 1 else 0)\n",
        "# maried\n",
        "hmda['married'] = hmda.s23a.apply(lambda x: 1 if x == 'M' else 0)\n",
        "# single\n",
        "hmda['single'] = hmda.married.apply(lambda x: 1 if x == 0 else 0)\n",
        "# high school diploma\n",
        "hmda['hischl'] = hmda.school.apply(lambda x: 1 if x >= 12 else 0)\n",
        "# unemployment rate\n",
        "hmda['probunmp'] = hmda['uria']\n",
        "# condo\n",
        "hmda['condo'] = hmda.s51.apply(lambda x: 1 if x == 1 else 0)"
      ],
      "execution_count": null,
      "outputs": []
    },
    {
      "cell_type": "markdown",
      "metadata": {
        "id": "PCaHpyW4BsVC"
      },
      "source": [
        "### **Table 11.1**"
      ]
    },
    {
      "cell_type": "code",
      "metadata": {
        "colab": {
          "base_uri": "https://localhost:8080/",
          "height": 514
        },
        "id": "5y4hSYKN_BnJ",
        "outputId": "aae73939-657d-433e-fac1-9075772e7bd8"
      },
      "source": [
        "hmda.iloc[:, -15:].describe().T"
      ],
      "execution_count": null,
      "outputs": [
        {
          "output_type": "execute_result",
          "data": {
            "text/html": [
              "<div>\n",
              "<style scoped>\n",
              "    .dataframe tbody tr th:only-of-type {\n",
              "        vertical-align: middle;\n",
              "    }\n",
              "\n",
              "    .dataframe tbody tr th {\n",
              "        vertical-align: top;\n",
              "    }\n",
              "\n",
              "    .dataframe thead th {\n",
              "        text-align: right;\n",
              "    }\n",
              "</style>\n",
              "<table border=\"1\" class=\"dataframe\">\n",
              "  <thead>\n",
              "    <tr style=\"text-align: right;\">\n",
              "      <th></th>\n",
              "      <th>count</th>\n",
              "      <th>mean</th>\n",
              "      <th>std</th>\n",
              "      <th>min</th>\n",
              "      <th>25%</th>\n",
              "      <th>50%</th>\n",
              "      <th>75%</th>\n",
              "      <th>max</th>\n",
              "    </tr>\n",
              "  </thead>\n",
              "  <tbody>\n",
              "    <tr>\n",
              "      <th>deny</th>\n",
              "      <td>2380.0</td>\n",
              "      <td>0.119748</td>\n",
              "      <td>0.324735</td>\n",
              "      <td>0.00</td>\n",
              "      <td>0.000000</td>\n",
              "      <td>0.000000</td>\n",
              "      <td>0.000000</td>\n",
              "      <td>1.00</td>\n",
              "    </tr>\n",
              "    <tr>\n",
              "      <th>pi_rat</th>\n",
              "      <td>2380.0</td>\n",
              "      <td>0.330814</td>\n",
              "      <td>0.107257</td>\n",
              "      <td>0.00</td>\n",
              "      <td>0.280000</td>\n",
              "      <td>0.330000</td>\n",
              "      <td>0.370000</td>\n",
              "      <td>3.00</td>\n",
              "    </tr>\n",
              "    <tr>\n",
              "      <th>black</th>\n",
              "      <td>2380.0</td>\n",
              "      <td>0.142437</td>\n",
              "      <td>0.349571</td>\n",
              "      <td>0.00</td>\n",
              "      <td>0.000000</td>\n",
              "      <td>0.000000</td>\n",
              "      <td>0.000000</td>\n",
              "      <td>1.00</td>\n",
              "    </tr>\n",
              "    <tr>\n",
              "      <th>hse_inc</th>\n",
              "      <td>2380.0</td>\n",
              "      <td>0.255346</td>\n",
              "      <td>0.096656</td>\n",
              "      <td>0.00</td>\n",
              "      <td>0.214000</td>\n",
              "      <td>0.260000</td>\n",
              "      <td>0.298825</td>\n",
              "      <td>3.00</td>\n",
              "    </tr>\n",
              "    <tr>\n",
              "      <th>loan_val</th>\n",
              "      <td>2380.0</td>\n",
              "      <td>0.737776</td>\n",
              "      <td>0.178751</td>\n",
              "      <td>0.02</td>\n",
              "      <td>0.652681</td>\n",
              "      <td>0.779536</td>\n",
              "      <td>0.868459</td>\n",
              "      <td>1.95</td>\n",
              "    </tr>\n",
              "    <tr>\n",
              "      <th>ccred</th>\n",
              "      <td>2380.0</td>\n",
              "      <td>2.116387</td>\n",
              "      <td>1.666721</td>\n",
              "      <td>1.00</td>\n",
              "      <td>1.000000</td>\n",
              "      <td>1.000000</td>\n",
              "      <td>2.000000</td>\n",
              "      <td>6.00</td>\n",
              "    </tr>\n",
              "    <tr>\n",
              "      <th>mcred</th>\n",
              "      <td>2380.0</td>\n",
              "      <td>1.721008</td>\n",
              "      <td>0.537282</td>\n",
              "      <td>1.00</td>\n",
              "      <td>1.000000</td>\n",
              "      <td>2.000000</td>\n",
              "      <td>2.000000</td>\n",
              "      <td>4.00</td>\n",
              "    </tr>\n",
              "    <tr>\n",
              "      <th>pubrec</th>\n",
              "      <td>2380.0</td>\n",
              "      <td>0.073529</td>\n",
              "      <td>0.261058</td>\n",
              "      <td>0.00</td>\n",
              "      <td>0.000000</td>\n",
              "      <td>0.000000</td>\n",
              "      <td>0.000000</td>\n",
              "      <td>1.00</td>\n",
              "    </tr>\n",
              "    <tr>\n",
              "      <th>denpmi</th>\n",
              "      <td>2380.0</td>\n",
              "      <td>0.020168</td>\n",
              "      <td>0.140604</td>\n",
              "      <td>0.00</td>\n",
              "      <td>0.000000</td>\n",
              "      <td>0.000000</td>\n",
              "      <td>0.000000</td>\n",
              "      <td>1.00</td>\n",
              "    </tr>\n",
              "    <tr>\n",
              "      <th>selfemp</th>\n",
              "      <td>2380.0</td>\n",
              "      <td>0.116387</td>\n",
              "      <td>0.320755</td>\n",
              "      <td>0.00</td>\n",
              "      <td>0.000000</td>\n",
              "      <td>0.000000</td>\n",
              "      <td>0.000000</td>\n",
              "      <td>1.00</td>\n",
              "    </tr>\n",
              "    <tr>\n",
              "      <th>married</th>\n",
              "      <td>2380.0</td>\n",
              "      <td>0.606723</td>\n",
              "      <td>0.488580</td>\n",
              "      <td>0.00</td>\n",
              "      <td>0.000000</td>\n",
              "      <td>1.000000</td>\n",
              "      <td>1.000000</td>\n",
              "      <td>1.00</td>\n",
              "    </tr>\n",
              "    <tr>\n",
              "      <th>single</th>\n",
              "      <td>2380.0</td>\n",
              "      <td>0.393277</td>\n",
              "      <td>0.488580</td>\n",
              "      <td>0.00</td>\n",
              "      <td>0.000000</td>\n",
              "      <td>0.000000</td>\n",
              "      <td>1.000000</td>\n",
              "      <td>1.00</td>\n",
              "    </tr>\n",
              "    <tr>\n",
              "      <th>hischl</th>\n",
              "      <td>2380.0</td>\n",
              "      <td>0.983613</td>\n",
              "      <td>0.126984</td>\n",
              "      <td>0.00</td>\n",
              "      <td>1.000000</td>\n",
              "      <td>1.000000</td>\n",
              "      <td>1.000000</td>\n",
              "      <td>1.00</td>\n",
              "    </tr>\n",
              "    <tr>\n",
              "      <th>probunmp</th>\n",
              "      <td>2380.0</td>\n",
              "      <td>3.774496</td>\n",
              "      <td>2.027062</td>\n",
              "      <td>1.80</td>\n",
              "      <td>3.100000</td>\n",
              "      <td>3.200000</td>\n",
              "      <td>3.900000</td>\n",
              "      <td>10.60</td>\n",
              "    </tr>\n",
              "    <tr>\n",
              "      <th>condo</th>\n",
              "      <td>2380.0</td>\n",
              "      <td>0.288235</td>\n",
              "      <td>0.453036</td>\n",
              "      <td>0.00</td>\n",
              "      <td>0.000000</td>\n",
              "      <td>0.000000</td>\n",
              "      <td>1.000000</td>\n",
              "      <td>1.00</td>\n",
              "    </tr>\n",
              "  </tbody>\n",
              "</table>\n",
              "</div>"
            ],
            "text/plain": [
              "           count      mean       std   min       25%       50%       75%    max\n",
              "deny      2380.0  0.119748  0.324735  0.00  0.000000  0.000000  0.000000   1.00\n",
              "pi_rat    2380.0  0.330814  0.107257  0.00  0.280000  0.330000  0.370000   3.00\n",
              "black     2380.0  0.142437  0.349571  0.00  0.000000  0.000000  0.000000   1.00\n",
              "hse_inc   2380.0  0.255346  0.096656  0.00  0.214000  0.260000  0.298825   3.00\n",
              "loan_val  2380.0  0.737776  0.178751  0.02  0.652681  0.779536  0.868459   1.95\n",
              "ccred     2380.0  2.116387  1.666721  1.00  1.000000  1.000000  2.000000   6.00\n",
              "mcred     2380.0  1.721008  0.537282  1.00  1.000000  2.000000  2.000000   4.00\n",
              "pubrec    2380.0  0.073529  0.261058  0.00  0.000000  0.000000  0.000000   1.00\n",
              "denpmi    2380.0  0.020168  0.140604  0.00  0.000000  0.000000  0.000000   1.00\n",
              "selfemp   2380.0  0.116387  0.320755  0.00  0.000000  0.000000  0.000000   1.00\n",
              "married   2380.0  0.606723  0.488580  0.00  0.000000  1.000000  1.000000   1.00\n",
              "single    2380.0  0.393277  0.488580  0.00  0.000000  0.000000  1.000000   1.00\n",
              "hischl    2380.0  0.983613  0.126984  0.00  1.000000  1.000000  1.000000   1.00\n",
              "probunmp  2380.0  3.774496  2.027062  1.80  3.100000  3.200000  3.900000  10.60\n",
              "condo     2380.0  0.288235  0.453036  0.00  0.000000  0.000000  1.000000   1.00"
            ]
          },
          "metadata": {
            "tags": []
          },
          "execution_count": 97
        }
      ]
    },
    {
      "cell_type": "markdown",
      "metadata": {
        "id": "6aOHBUC-Opie"
      },
      "source": [
        "### **Table 11.2**"
      ]
    },
    {
      "cell_type": "code",
      "metadata": {
        "id": "2J0_jihBL6TN"
      },
      "source": [
        "# loan_val to dummy variables\n",
        "hmda['ltv_med'] = hmda.loan_val.apply(lambda x: 1 if x >= 0.8 and x <= 0.95 else 0)\n",
        "hmda['ltv_high'] = hmda.loan_val.apply(lambda x: 1 if x > 0.95 else 0)\n",
        "\n",
        "# interaction variables\n",
        "hmda['blk_pi'] = hmda['black'] * hmda['pi_rat']\n",
        "hmda['blk_hse'] = hmda['black'] * hmda['hse_inc']\n",
        "\n",
        "# ccred to dummy variables\n",
        "hmda['ccred3'] = hmda.ccred.apply(lambda x: 1 if x == 3 else 0)\n",
        "hmda['ccred4'] = hmda.ccred.apply(lambda x: 1 if x == 4 else 0)\n",
        "hmda['ccred5'] = hmda.ccred.apply(lambda x: 1 if x == 5 else 0)\n",
        "hmda['ccred6'] = hmda.ccred.apply(lambda x: 1 if x == 6 else 0)\n",
        "\n",
        "# mcred to dummy variables\n",
        "hmda['mcred3'] = hmda.mcred.apply(lambda x: 1 if x == 3 else 0)\n",
        "hmda['mcred4'] = hmda.mcred.apply(lambda x: 1 if x == 4 else 0)"
      ],
      "execution_count": null,
      "outputs": []
    },
    {
      "cell_type": "code",
      "metadata": {
        "colab": {
          "base_uri": "https://localhost:8080/",
          "height": 824
        },
        "id": "mapj1KhpOXtN",
        "outputId": "b6e5814b-f27e-4f86-bd4d-744fc9962c42"
      },
      "source": [
        "hmda.iloc[:, -25:].describe().T"
      ],
      "execution_count": null,
      "outputs": [
        {
          "output_type": "execute_result",
          "data": {
            "text/html": [
              "<div>\n",
              "<style scoped>\n",
              "    .dataframe tbody tr th:only-of-type {\n",
              "        vertical-align: middle;\n",
              "    }\n",
              "\n",
              "    .dataframe tbody tr th {\n",
              "        vertical-align: top;\n",
              "    }\n",
              "\n",
              "    .dataframe thead th {\n",
              "        text-align: right;\n",
              "    }\n",
              "</style>\n",
              "<table border=\"1\" class=\"dataframe\">\n",
              "  <thead>\n",
              "    <tr style=\"text-align: right;\">\n",
              "      <th></th>\n",
              "      <th>count</th>\n",
              "      <th>mean</th>\n",
              "      <th>std</th>\n",
              "      <th>min</th>\n",
              "      <th>25%</th>\n",
              "      <th>50%</th>\n",
              "      <th>75%</th>\n",
              "      <th>max</th>\n",
              "    </tr>\n",
              "  </thead>\n",
              "  <tbody>\n",
              "    <tr>\n",
              "      <th>deny</th>\n",
              "      <td>2380.0</td>\n",
              "      <td>0.119748</td>\n",
              "      <td>0.324735</td>\n",
              "      <td>0.00</td>\n",
              "      <td>0.000000</td>\n",
              "      <td>0.000000</td>\n",
              "      <td>0.000000</td>\n",
              "      <td>1.00</td>\n",
              "    </tr>\n",
              "    <tr>\n",
              "      <th>pi_rat</th>\n",
              "      <td>2380.0</td>\n",
              "      <td>0.330814</td>\n",
              "      <td>0.107257</td>\n",
              "      <td>0.00</td>\n",
              "      <td>0.280000</td>\n",
              "      <td>0.330000</td>\n",
              "      <td>0.370000</td>\n",
              "      <td>3.00</td>\n",
              "    </tr>\n",
              "    <tr>\n",
              "      <th>black</th>\n",
              "      <td>2380.0</td>\n",
              "      <td>0.142437</td>\n",
              "      <td>0.349571</td>\n",
              "      <td>0.00</td>\n",
              "      <td>0.000000</td>\n",
              "      <td>0.000000</td>\n",
              "      <td>0.000000</td>\n",
              "      <td>1.00</td>\n",
              "    </tr>\n",
              "    <tr>\n",
              "      <th>hse_inc</th>\n",
              "      <td>2380.0</td>\n",
              "      <td>0.255346</td>\n",
              "      <td>0.096656</td>\n",
              "      <td>0.00</td>\n",
              "      <td>0.214000</td>\n",
              "      <td>0.260000</td>\n",
              "      <td>0.298825</td>\n",
              "      <td>3.00</td>\n",
              "    </tr>\n",
              "    <tr>\n",
              "      <th>loan_val</th>\n",
              "      <td>2380.0</td>\n",
              "      <td>0.737776</td>\n",
              "      <td>0.178751</td>\n",
              "      <td>0.02</td>\n",
              "      <td>0.652681</td>\n",
              "      <td>0.779536</td>\n",
              "      <td>0.868459</td>\n",
              "      <td>1.95</td>\n",
              "    </tr>\n",
              "    <tr>\n",
              "      <th>ccred</th>\n",
              "      <td>2380.0</td>\n",
              "      <td>2.116387</td>\n",
              "      <td>1.666721</td>\n",
              "      <td>1.00</td>\n",
              "      <td>1.000000</td>\n",
              "      <td>1.000000</td>\n",
              "      <td>2.000000</td>\n",
              "      <td>6.00</td>\n",
              "    </tr>\n",
              "    <tr>\n",
              "      <th>mcred</th>\n",
              "      <td>2380.0</td>\n",
              "      <td>1.721008</td>\n",
              "      <td>0.537282</td>\n",
              "      <td>1.00</td>\n",
              "      <td>1.000000</td>\n",
              "      <td>2.000000</td>\n",
              "      <td>2.000000</td>\n",
              "      <td>4.00</td>\n",
              "    </tr>\n",
              "    <tr>\n",
              "      <th>pubrec</th>\n",
              "      <td>2380.0</td>\n",
              "      <td>0.073529</td>\n",
              "      <td>0.261058</td>\n",
              "      <td>0.00</td>\n",
              "      <td>0.000000</td>\n",
              "      <td>0.000000</td>\n",
              "      <td>0.000000</td>\n",
              "      <td>1.00</td>\n",
              "    </tr>\n",
              "    <tr>\n",
              "      <th>denpmi</th>\n",
              "      <td>2380.0</td>\n",
              "      <td>0.020168</td>\n",
              "      <td>0.140604</td>\n",
              "      <td>0.00</td>\n",
              "      <td>0.000000</td>\n",
              "      <td>0.000000</td>\n",
              "      <td>0.000000</td>\n",
              "      <td>1.00</td>\n",
              "    </tr>\n",
              "    <tr>\n",
              "      <th>selfemp</th>\n",
              "      <td>2380.0</td>\n",
              "      <td>0.116387</td>\n",
              "      <td>0.320755</td>\n",
              "      <td>0.00</td>\n",
              "      <td>0.000000</td>\n",
              "      <td>0.000000</td>\n",
              "      <td>0.000000</td>\n",
              "      <td>1.00</td>\n",
              "    </tr>\n",
              "    <tr>\n",
              "      <th>married</th>\n",
              "      <td>2380.0</td>\n",
              "      <td>0.606723</td>\n",
              "      <td>0.488580</td>\n",
              "      <td>0.00</td>\n",
              "      <td>0.000000</td>\n",
              "      <td>1.000000</td>\n",
              "      <td>1.000000</td>\n",
              "      <td>1.00</td>\n",
              "    </tr>\n",
              "    <tr>\n",
              "      <th>single</th>\n",
              "      <td>2380.0</td>\n",
              "      <td>0.393277</td>\n",
              "      <td>0.488580</td>\n",
              "      <td>0.00</td>\n",
              "      <td>0.000000</td>\n",
              "      <td>0.000000</td>\n",
              "      <td>1.000000</td>\n",
              "      <td>1.00</td>\n",
              "    </tr>\n",
              "    <tr>\n",
              "      <th>hischl</th>\n",
              "      <td>2380.0</td>\n",
              "      <td>0.983613</td>\n",
              "      <td>0.126984</td>\n",
              "      <td>0.00</td>\n",
              "      <td>1.000000</td>\n",
              "      <td>1.000000</td>\n",
              "      <td>1.000000</td>\n",
              "      <td>1.00</td>\n",
              "    </tr>\n",
              "    <tr>\n",
              "      <th>probunmp</th>\n",
              "      <td>2380.0</td>\n",
              "      <td>3.774496</td>\n",
              "      <td>2.027062</td>\n",
              "      <td>1.80</td>\n",
              "      <td>3.100000</td>\n",
              "      <td>3.200000</td>\n",
              "      <td>3.900000</td>\n",
              "      <td>10.60</td>\n",
              "    </tr>\n",
              "    <tr>\n",
              "      <th>condo</th>\n",
              "      <td>2380.0</td>\n",
              "      <td>0.288235</td>\n",
              "      <td>0.453036</td>\n",
              "      <td>0.00</td>\n",
              "      <td>0.000000</td>\n",
              "      <td>0.000000</td>\n",
              "      <td>1.000000</td>\n",
              "      <td>1.00</td>\n",
              "    </tr>\n",
              "    <tr>\n",
              "      <th>ltv_med</th>\n",
              "      <td>2380.0</td>\n",
              "      <td>0.374370</td>\n",
              "      <td>0.484061</td>\n",
              "      <td>0.00</td>\n",
              "      <td>0.000000</td>\n",
              "      <td>0.000000</td>\n",
              "      <td>1.000000</td>\n",
              "      <td>1.00</td>\n",
              "    </tr>\n",
              "    <tr>\n",
              "      <th>ltv_high</th>\n",
              "      <td>2380.0</td>\n",
              "      <td>0.032353</td>\n",
              "      <td>0.176973</td>\n",
              "      <td>0.00</td>\n",
              "      <td>0.000000</td>\n",
              "      <td>0.000000</td>\n",
              "      <td>0.000000</td>\n",
              "      <td>1.00</td>\n",
              "    </tr>\n",
              "    <tr>\n",
              "      <th>blk_pi</th>\n",
              "      <td>2380.0</td>\n",
              "      <td>0.049994</td>\n",
              "      <td>0.127233</td>\n",
              "      <td>0.00</td>\n",
              "      <td>0.000000</td>\n",
              "      <td>0.000000</td>\n",
              "      <td>0.000000</td>\n",
              "      <td>0.83</td>\n",
              "    </tr>\n",
              "    <tr>\n",
              "      <th>blk_hse</th>\n",
              "      <td>2380.0</td>\n",
              "      <td>0.037926</td>\n",
              "      <td>0.097425</td>\n",
              "      <td>0.00</td>\n",
              "      <td>0.000000</td>\n",
              "      <td>0.000000</td>\n",
              "      <td>0.000000</td>\n",
              "      <td>0.66</td>\n",
              "    </tr>\n",
              "    <tr>\n",
              "      <th>ccred3</th>\n",
              "      <td>2380.0</td>\n",
              "      <td>0.052941</td>\n",
              "      <td>0.223963</td>\n",
              "      <td>0.00</td>\n",
              "      <td>0.000000</td>\n",
              "      <td>0.000000</td>\n",
              "      <td>0.000000</td>\n",
              "      <td>1.00</td>\n",
              "    </tr>\n",
              "    <tr>\n",
              "      <th>ccred4</th>\n",
              "      <td>2380.0</td>\n",
              "      <td>0.032353</td>\n",
              "      <td>0.176973</td>\n",
              "      <td>0.00</td>\n",
              "      <td>0.000000</td>\n",
              "      <td>0.000000</td>\n",
              "      <td>0.000000</td>\n",
              "      <td>1.00</td>\n",
              "    </tr>\n",
              "    <tr>\n",
              "      <th>ccred5</th>\n",
              "      <td>2380.0</td>\n",
              "      <td>0.076471</td>\n",
              "      <td>0.265805</td>\n",
              "      <td>0.00</td>\n",
              "      <td>0.000000</td>\n",
              "      <td>0.000000</td>\n",
              "      <td>0.000000</td>\n",
              "      <td>1.00</td>\n",
              "    </tr>\n",
              "    <tr>\n",
              "      <th>ccred6</th>\n",
              "      <td>2380.0</td>\n",
              "      <td>0.084454</td>\n",
              "      <td>0.278126</td>\n",
              "      <td>0.00</td>\n",
              "      <td>0.000000</td>\n",
              "      <td>0.000000</td>\n",
              "      <td>0.000000</td>\n",
              "      <td>1.00</td>\n",
              "    </tr>\n",
              "    <tr>\n",
              "      <th>mcred3</th>\n",
              "      <td>2380.0</td>\n",
              "      <td>0.017227</td>\n",
              "      <td>0.130143</td>\n",
              "      <td>0.00</td>\n",
              "      <td>0.000000</td>\n",
              "      <td>0.000000</td>\n",
              "      <td>0.000000</td>\n",
              "      <td>1.00</td>\n",
              "    </tr>\n",
              "    <tr>\n",
              "      <th>mcred4</th>\n",
              "      <td>2380.0</td>\n",
              "      <td>0.008824</td>\n",
              "      <td>0.093538</td>\n",
              "      <td>0.00</td>\n",
              "      <td>0.000000</td>\n",
              "      <td>0.000000</td>\n",
              "      <td>0.000000</td>\n",
              "      <td>1.00</td>\n",
              "    </tr>\n",
              "  </tbody>\n",
              "</table>\n",
              "</div>"
            ],
            "text/plain": [
              "           count      mean       std   min       25%       50%       75%    max\n",
              "deny      2380.0  0.119748  0.324735  0.00  0.000000  0.000000  0.000000   1.00\n",
              "pi_rat    2380.0  0.330814  0.107257  0.00  0.280000  0.330000  0.370000   3.00\n",
              "black     2380.0  0.142437  0.349571  0.00  0.000000  0.000000  0.000000   1.00\n",
              "hse_inc   2380.0  0.255346  0.096656  0.00  0.214000  0.260000  0.298825   3.00\n",
              "loan_val  2380.0  0.737776  0.178751  0.02  0.652681  0.779536  0.868459   1.95\n",
              "ccred     2380.0  2.116387  1.666721  1.00  1.000000  1.000000  2.000000   6.00\n",
              "mcred     2380.0  1.721008  0.537282  1.00  1.000000  2.000000  2.000000   4.00\n",
              "pubrec    2380.0  0.073529  0.261058  0.00  0.000000  0.000000  0.000000   1.00\n",
              "denpmi    2380.0  0.020168  0.140604  0.00  0.000000  0.000000  0.000000   1.00\n",
              "selfemp   2380.0  0.116387  0.320755  0.00  0.000000  0.000000  0.000000   1.00\n",
              "married   2380.0  0.606723  0.488580  0.00  0.000000  1.000000  1.000000   1.00\n",
              "single    2380.0  0.393277  0.488580  0.00  0.000000  0.000000  1.000000   1.00\n",
              "hischl    2380.0  0.983613  0.126984  0.00  1.000000  1.000000  1.000000   1.00\n",
              "probunmp  2380.0  3.774496  2.027062  1.80  3.100000  3.200000  3.900000  10.60\n",
              "condo     2380.0  0.288235  0.453036  0.00  0.000000  0.000000  1.000000   1.00\n",
              "ltv_med   2380.0  0.374370  0.484061  0.00  0.000000  0.000000  1.000000   1.00\n",
              "ltv_high  2380.0  0.032353  0.176973  0.00  0.000000  0.000000  0.000000   1.00\n",
              "blk_pi    2380.0  0.049994  0.127233  0.00  0.000000  0.000000  0.000000   0.83\n",
              "blk_hse   2380.0  0.037926  0.097425  0.00  0.000000  0.000000  0.000000   0.66\n",
              "ccred3    2380.0  0.052941  0.223963  0.00  0.000000  0.000000  0.000000   1.00\n",
              "ccred4    2380.0  0.032353  0.176973  0.00  0.000000  0.000000  0.000000   1.00\n",
              "ccred5    2380.0  0.076471  0.265805  0.00  0.000000  0.000000  0.000000   1.00\n",
              "ccred6    2380.0  0.084454  0.278126  0.00  0.000000  0.000000  0.000000   1.00\n",
              "mcred3    2380.0  0.017227  0.130143  0.00  0.000000  0.000000  0.000000   1.00\n",
              "mcred4    2380.0  0.008824  0.093538  0.00  0.000000  0.000000  0.000000   1.00"
            ]
          },
          "metadata": {
            "tags": []
          },
          "execution_count": 99
        }
      ]
    },
    {
      "cell_type": "markdown",
      "metadata": {
        "id": "Q5LRBCIPOZGM"
      },
      "source": [
        "#### **Column (1)**"
      ]
    },
    {
      "cell_type": "code",
      "metadata": {
        "colab": {
          "base_uri": "https://localhost:8080/"
        },
        "id": "NUiiPmDSO2bA",
        "outputId": "5fb31b17-d524-435a-e4d6-195647bb35a6"
      },
      "source": [
        "func1 = 'deny ~ black + pi_rat + hse_inc + ltv_med + ltv_high + \\\n",
        "          ccred + mcred + pubrec + denpmi + selfemp'\n",
        "reg_11_c1 = smf.ols(formula=func1, data=hmda)\n",
        "result_11_c1 = reg_11_c1.fit(cov_type='HC1', disp=1)\n",
        "print(result_11_c1.summary())"
      ],
      "execution_count": null,
      "outputs": [
        {
          "output_type": "stream",
          "text": [
            "                            OLS Regression Results                            \n",
            "==============================================================================\n",
            "Dep. Variable:                   deny   R-squared:                       0.266\n",
            "Model:                            OLS   Adj. R-squared:                  0.263\n",
            "Method:                 Least Squares   F-statistic:                     67.22\n",
            "Date:                Fri, 19 Mar 2021   Prob (F-statistic):          6.46e-121\n",
            "Time:                        02:50:26   Log-Likelihood:                -331.22\n",
            "No. Observations:                2380   AIC:                             684.4\n",
            "Df Residuals:                    2369   BIC:                             748.0\n",
            "Df Model:                          10                                         \n",
            "Covariance Type:                  HC1                                         \n",
            "==============================================================================\n",
            "                 coef    std err          z      P>|z|      [0.025      0.975]\n",
            "------------------------------------------------------------------------------\n",
            "Intercept     -0.1830      0.028     -6.613      0.000      -0.237      -0.129\n",
            "black          0.0837      0.023      3.710      0.000       0.039       0.128\n",
            "pi_rat         0.4488      0.114      3.951      0.000       0.226       0.671\n",
            "hse_inc       -0.0480      0.110     -0.438      0.661      -0.263       0.167\n",
            "ltv_med        0.0314      0.013      2.469      0.014       0.006       0.056\n",
            "ltv_high       0.1891      0.050      3.768      0.000       0.091       0.287\n",
            "ccred          0.0308      0.005      6.712      0.000       0.022       0.040\n",
            "mcred          0.0209      0.011      1.852      0.064      -0.001       0.043\n",
            "pubrec         0.1971      0.035      5.650      0.000       0.129       0.265\n",
            "denpmi         0.7019      0.045     15.561      0.000       0.613       0.790\n",
            "selfemp        0.0598      0.021      2.916      0.004       0.020       0.100\n",
            "==============================================================================\n",
            "Omnibus:                      984.730   Durbin-Watson:                   1.601\n",
            "Prob(Omnibus):                  0.000   Jarque-Bera (JB):             3690.576\n",
            "Skew:                           2.077   Prob(JB):                         0.00\n",
            "Kurtosis:                       7.469   Cond. No.                         69.8\n",
            "==============================================================================\n",
            "\n",
            "Warnings:\n",
            "[1] Standard Errors are heteroscedasticity robust (HC1)\n"
          ],
          "name": "stdout"
        }
      ]
    },
    {
      "cell_type": "markdown",
      "metadata": {
        "id": "_TqOM1XPP4wu"
      },
      "source": [
        "#### **Column (2)**"
      ]
    },
    {
      "cell_type": "code",
      "metadata": {
        "colab": {
          "base_uri": "https://localhost:8080/"
        },
        "id": "FdVWHq-9Qcko",
        "outputId": "17fa0097-def4-4c00-dc03-e9cc4d3ced97"
      },
      "source": [
        "func2 = 'deny ~ black + pi_rat + hse_inc + ltv_med + ltv_high + \\\n",
        "          ccred + mcred + pubrec + denpmi + selfemp'\n",
        "reg_11_c2 = smf.logit(formula=func2, data=hmda)\n",
        "result_11_c2 = reg_11_c2.fit(cov_type='HC1', disp=1)\n",
        "print(result_11_c2.summary())"
      ],
      "execution_count": null,
      "outputs": [
        {
          "output_type": "stream",
          "text": [
            "Optimization terminated successfully.\n",
            "         Current function value: 0.267074\n",
            "         Iterations 7\n",
            "                           Logit Regression Results                           \n",
            "==============================================================================\n",
            "Dep. Variable:                   deny   No. Observations:                 2380\n",
            "Model:                          Logit   Df Residuals:                     2369\n",
            "Method:                           MLE   Df Model:                           10\n",
            "Date:                Fri, 19 Mar 2021   Pseudo R-squ.:                  0.2711\n",
            "Time:                        02:50:27   Log-Likelihood:                -635.64\n",
            "converged:                       True   LL-Null:                       -872.09\n",
            "Covariance Type:                  HC1   LLR p-value:                 2.715e-95\n",
            "==============================================================================\n",
            "                 coef    std err          z      P>|z|      [0.025      0.975]\n",
            "------------------------------------------------------------------------------\n",
            "Intercept     -5.7074      0.483    -11.808      0.000      -6.655      -4.760\n",
            "black          0.6884      0.182      3.781      0.000       0.332       1.045\n",
            "pi_rat         4.7644      1.329      3.585      0.000       2.159       7.369\n",
            "hse_inc       -0.1088      1.295     -0.084      0.933      -2.646       2.429\n",
            "ltv_med        0.4635      0.160      2.896      0.004       0.150       0.777\n",
            "ltv_high       1.4948      0.324      4.611      0.000       0.859       2.130\n",
            "ccred          0.2903      0.039      7.478      0.000       0.214       0.366\n",
            "mcred          0.2790      0.138      2.028      0.043       0.009       0.549\n",
            "pubrec         1.2258      0.203      6.038      0.000       0.828       1.624\n",
            "denpmi         4.5482      0.574      7.920      0.000       3.423       5.674\n",
            "selfemp        0.6661      0.213      3.123      0.002       0.248       1.084\n",
            "==============================================================================\n"
          ],
          "name": "stdout"
        }
      ]
    },
    {
      "cell_type": "markdown",
      "metadata": {
        "id": "JCNiVKdLQpR7"
      },
      "source": [
        "#### **Column (3)**"
      ]
    },
    {
      "cell_type": "code",
      "metadata": {
        "colab": {
          "base_uri": "https://localhost:8080/"
        },
        "id": "k_70IX1xRldO",
        "outputId": "5220343c-4da6-47e4-d4d9-6b8eb85c499d"
      },
      "source": [
        "func3 = 'deny ~ black + pi_rat + hse_inc + ltv_med + ltv_high + \\\n",
        "          ccred + mcred + pubrec + denpmi + selfemp'\n",
        "reg_11_c3 = smf.probit(formula=func3, data=hmda)\n",
        "result_11_c3 = reg_11_c3.fit(cov_type='HC1', disp=1)\n",
        "print(result_11_c3.summary())"
      ],
      "execution_count": null,
      "outputs": [
        {
          "output_type": "stream",
          "text": [
            "Optimization terminated successfully.\n",
            "         Current function value: 0.267583\n",
            "         Iterations 6\n",
            "                          Probit Regression Results                           \n",
            "==============================================================================\n",
            "Dep. Variable:                   deny   No. Observations:                 2380\n",
            "Model:                         Probit   Df Residuals:                     2369\n",
            "Method:                           MLE   Df Model:                           10\n",
            "Date:                Fri, 19 Mar 2021   Pseudo R-squ.:                  0.2697\n",
            "Time:                        02:50:27   Log-Likelihood:                -636.85\n",
            "converged:                       True   LL-Null:                       -872.09\n",
            "Covariance Type:                  HC1   LLR p-value:                 8.924e-95\n",
            "==============================================================================\n",
            "                 coef    std err          z      P>|z|      [0.025      0.975]\n",
            "------------------------------------------------------------------------------\n",
            "Intercept     -3.0406      0.230    -13.222      0.000      -3.491      -2.590\n",
            "black          0.3891      0.098      3.980      0.000       0.198       0.581\n",
            "pi_rat         2.4418      0.609      4.009      0.000       1.248       3.636\n",
            "hse_inc       -0.1847      0.675     -0.274      0.784      -1.508       1.139\n",
            "ltv_med        0.2140      0.081      2.626      0.009       0.054       0.374\n",
            "ltv_high       0.7911      0.180      4.402      0.000       0.439       1.143\n",
            "ccred          0.1546      0.021      7.365      0.000       0.113       0.196\n",
            "mcred          0.1477      0.073      2.035      0.042       0.005       0.290\n",
            "pubrec         0.6974      0.115      6.050      0.000       0.471       0.923\n",
            "denpmi         2.5568      0.298      8.572      0.000       1.972       3.141\n",
            "selfemp        0.3586      0.113      3.186      0.001       0.138       0.579\n",
            "==============================================================================\n"
          ],
          "name": "stdout"
        }
      ]
    },
    {
      "cell_type": "markdown",
      "metadata": {
        "id": "wZArnDL9RxwM"
      },
      "source": [
        "#### **Column (4)**"
      ]
    },
    {
      "cell_type": "code",
      "metadata": {
        "colab": {
          "base_uri": "https://localhost:8080/"
        },
        "id": "Hk4pAOSeSCMI",
        "outputId": "359ce44b-58b3-4978-b356-f1e6ae6b1059"
      },
      "source": [
        "func4 = 'deny ~ black + pi_rat + hse_inc + ltv_med + ltv_high + \\\n",
        "          ccred + mcred + pubrec + denpmi + selfemp + \\\n",
        "          single + hischl + probunmp'\n",
        "reg_11_c4 = smf.probit(formula=func4, data=hmda)\n",
        "result_11_c4 = reg_11_c4.fit(cov_type='HC1', disp=1)\n",
        "print(result_11_c4.summary())"
      ],
      "execution_count": null,
      "outputs": [
        {
          "output_type": "stream",
          "text": [
            "Optimization terminated successfully.\n",
            "         Current function value: 0.264123\n",
            "         Iterations 7\n",
            "                          Probit Regression Results                           \n",
            "==============================================================================\n",
            "Dep. Variable:                   deny   No. Observations:                 2380\n",
            "Model:                         Probit   Df Residuals:                     2366\n",
            "Method:                           MLE   Df Model:                           13\n",
            "Date:                Fri, 19 Mar 2021   Pseudo R-squ.:                  0.2792\n",
            "Time:                        02:50:27   Log-Likelihood:                -628.61\n",
            "converged:                       True   LL-Null:                       -872.09\n",
            "Covariance Type:                  HC1   LLR p-value:                 8.664e-96\n",
            "==============================================================================\n",
            "                 coef    std err          z      P>|z|      [0.025      0.975]\n",
            "------------------------------------------------------------------------------\n",
            "Intercept     -2.5746      0.335     -7.681      0.000      -3.232      -1.918\n",
            "black          0.3711      0.099      3.758      0.000       0.178       0.565\n",
            "pi_rat         2.4643      0.599      4.113      0.000       1.290       3.639\n",
            "hse_inc       -0.3025      0.675     -0.448      0.654      -1.626       1.021\n",
            "ltv_med        0.2157      0.082      2.635      0.008       0.055       0.376\n",
            "ltv_high       0.7945      0.181      4.395      0.000       0.440       1.149\n",
            "ccred          0.1576      0.021      7.475      0.000       0.116       0.199\n",
            "mcred          0.1104      0.076      1.457      0.145      -0.038       0.259\n",
            "pubrec         0.7022      0.116      6.053      0.000       0.475       0.930\n",
            "denpmi         2.5852      0.294      8.802      0.000       2.010       3.161\n",
            "selfemp        0.3459      0.115      3.016      0.003       0.121       0.571\n",
            "single         0.2295      0.080      2.875      0.004       0.073       0.386\n",
            "hischl        -0.6126      0.231     -2.650      0.008      -1.066      -0.160\n",
            "probunmp       0.0300      0.018      1.657      0.098      -0.005       0.066\n",
            "==============================================================================\n"
          ],
          "name": "stdout"
        }
      ]
    },
    {
      "cell_type": "markdown",
      "metadata": {
        "id": "xR-9Y1DnSKBY"
      },
      "source": [
        "#### **Column (5)**"
      ]
    },
    {
      "cell_type": "code",
      "metadata": {
        "colab": {
          "base_uri": "https://localhost:8080/"
        },
        "id": "HLpX_yS7TyE6",
        "outputId": "85f460fa-d2cb-48bc-cea3-ff04f6e587d8"
      },
      "source": [
        "func5 = 'deny ~ black + pi_rat + hse_inc + ltv_med + ltv_high + \\\n",
        "          ccred + mcred + pubrec + denpmi + selfemp + \\\n",
        "          single + hischl + probunmp + mcred3 + mcred4 + \\\n",
        "          ccred3 + ccred4 + ccred5 + ccred6 + condo'\n",
        "reg_11_c5 = smf.probit(formula=func5, data=hmda)\n",
        "result_11_c5 = reg_11_c5.fit(cov_type='HC1', disp=1)\n",
        "print(result_11_c5.summary())"
      ],
      "execution_count": null,
      "outputs": [
        {
          "output_type": "stream",
          "text": [
            "Optimization terminated successfully.\n",
            "         Current function value: 0.262632\n",
            "         Iterations 7\n",
            "                          Probit Regression Results                           \n",
            "==============================================================================\n",
            "Dep. Variable:                   deny   No. Observations:                 2380\n",
            "Model:                         Probit   Df Residuals:                     2359\n",
            "Method:                           MLE   Df Model:                           20\n",
            "Date:                Fri, 19 Mar 2021   Pseudo R-squ.:                  0.2833\n",
            "Time:                        02:50:27   Log-Likelihood:                -625.06\n",
            "converged:                       True   LL-Null:                       -872.09\n",
            "Covariance Type:                  HC1   LLR p-value:                 5.142e-92\n",
            "==============================================================================\n",
            "                 coef    std err          z      P>|z|      [0.025      0.975]\n",
            "------------------------------------------------------------------------------\n",
            "Intercept     -2.8962      0.388     -7.467      0.000      -3.656      -2.136\n",
            "black          0.3628      0.100      3.637      0.000       0.167       0.558\n",
            "pi_rat         2.6222      0.610      4.296      0.000       1.426       3.818\n",
            "hse_inc       -0.5024      0.697     -0.721      0.471      -1.868       0.863\n",
            "ltv_med        0.2151      0.083      2.583      0.010       0.052       0.378\n",
            "ltv_high       0.8356      0.182      4.595      0.000       0.479       1.192\n",
            "ccred          0.3444      0.106      3.249      0.001       0.137       0.552\n",
            "mcred          0.1620      0.102      1.589      0.112      -0.038       0.362\n",
            "pubrec         0.7172      0.117      6.131      0.000       0.488       0.946\n",
            "denpmi         2.5889      0.298      8.680      0.000       2.004       3.173\n",
            "selfemp        0.3417      0.115      2.975      0.003       0.117       0.567\n",
            "single         0.2299      0.085      2.713      0.007       0.064       0.396\n",
            "hischl        -0.6037      0.237     -2.552      0.011      -1.067      -0.140\n",
            "probunmp       0.0280      0.018      1.566      0.117      -0.007       0.063\n",
            "mcred3        -0.1066      0.291     -0.366      0.715      -0.678       0.465\n",
            "mcred4        -0.3827      0.427     -0.897      0.370      -1.219       0.453\n",
            "ccred3        -0.2262      0.241     -0.937      0.349      -0.700       0.247\n",
            "ccred4        -0.2514      0.334     -0.752      0.452      -0.907       0.404\n",
            "ccred5        -0.7893      0.407     -1.941      0.052      -1.586       0.008\n",
            "ccred6        -0.9049      0.507     -1.783      0.075      -1.899       0.090\n",
            "condo         -0.0550      0.093     -0.588      0.556      -0.238       0.128\n",
            "==============================================================================\n"
          ],
          "name": "stdout"
        }
      ]
    },
    {
      "cell_type": "markdown",
      "metadata": {
        "id": "WWaorK-PUahx"
      },
      "source": [
        "#### **Column (6)**"
      ]
    },
    {
      "cell_type": "code",
      "metadata": {
        "colab": {
          "base_uri": "https://localhost:8080/"
        },
        "id": "SNLh5ZrXVCPv",
        "outputId": "9a79829e-3a36-48d4-c9c7-9543a3a0bce4"
      },
      "source": [
        "func6 = 'deny ~ black + pi_rat + hse_inc + ltv_med + ltv_high + \\\n",
        "          ccred + mcred + pubrec + denpmi + selfemp + \\\n",
        "          single + hischl + probunmp + blk_pi + blk_hse'\n",
        "reg_11_c6 = smf.probit(formula=func6, data=hmda)\n",
        "result_11_c6 = reg_11_c6.fit(cov_type='HC1', disp=1)\n",
        "print(result_11_c6.summary())"
      ],
      "execution_count": null,
      "outputs": [
        {
          "output_type": "stream",
          "text": [
            "Optimization terminated successfully.\n",
            "         Current function value: 0.264005\n",
            "         Iterations 7\n",
            "                          Probit Regression Results                           \n",
            "==============================================================================\n",
            "Dep. Variable:                   deny   No. Observations:                 2380\n",
            "Model:                         Probit   Df Residuals:                     2364\n",
            "Method:                           MLE   Df Model:                           15\n",
            "Date:                Fri, 19 Mar 2021   Pseudo R-squ.:                  0.2795\n",
            "Time:                        02:50:27   Log-Likelihood:                -628.33\n",
            "converged:                       True   LL-Null:                       -872.09\n",
            "Covariance Type:                  HC1   LLR p-value:                 2.478e-94\n",
            "==============================================================================\n",
            "                 coef    std err          z      P>|z|      [0.025      0.975]\n",
            "------------------------------------------------------------------------------\n",
            "Intercept     -2.5434      0.349     -7.295      0.000      -3.227      -1.860\n",
            "black          0.2463      0.448      0.550      0.582      -0.632       1.124\n",
            "pi_rat         2.5717      0.662      3.883      0.000       1.274       3.870\n",
            "hse_inc       -0.5380      0.743     -0.724      0.469      -1.994       0.918\n",
            "ltv_med        0.2159      0.082      2.636      0.008       0.055       0.376\n",
            "ltv_high       0.7882      0.181      4.344      0.000       0.433       1.144\n",
            "ccred          0.1579      0.021      7.470      0.000       0.116       0.199\n",
            "mcred          0.1115      0.076      1.470      0.142      -0.037       0.260\n",
            "pubrec         0.7048      0.116      6.093      0.000       0.478       0.931\n",
            "denpmi         2.5901      0.294      8.819      0.000       2.014       3.166\n",
            "selfemp        0.3475      0.115      3.035      0.002       0.123       0.572\n",
            "single         0.2256      0.080      2.810      0.005       0.068       0.383\n",
            "hischl        -0.6198      0.231     -2.686      0.007      -1.072      -0.168\n",
            "probunmp       0.0297      0.018      1.641      0.101      -0.006       0.065\n",
            "blk_pi        -0.5793      1.473     -0.393      0.694      -3.465       2.307\n",
            "blk_hse        1.2317      1.693      0.727      0.467      -2.087       4.550\n",
            "==============================================================================\n"
          ],
          "name": "stdout"
        }
      ]
    }
  ]
}